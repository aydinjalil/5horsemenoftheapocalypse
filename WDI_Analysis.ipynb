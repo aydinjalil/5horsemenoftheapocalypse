{
 "cells": [
  {
   "cell_type": "code",
   "execution_count": 1,
   "metadata": {},
   "outputs": [],
   "source": [
    "# Dependencies\n",
    "\n",
    "import pandas as pd\n",
    "import numpy as np\n",
    "import pylab as plt\n",
    "from sklearn.decomposition import PCA\n",
    "from pprint import pprint\n",
    "from datetime import datetime"
   ]
  },
  {
   "cell_type": "code",
   "execution_count": 2,
   "metadata": {},
   "outputs": [
    {
     "name": "stdout",
     "output_type": "stream",
     "text": [
      "Requirement already satisfied: plotly in c:\\users\\kampr\\anaconda3\\lib\\site-packages (4.5.0)\n",
      "Requirement already satisfied: six in c:\\users\\kampr\\anaconda3\\lib\\site-packages (from plotly) (1.12.0)\n",
      "Requirement already satisfied: retrying>=1.3.3 in c:\\users\\kampr\\anaconda3\\lib\\site-packages (from plotly) (1.3.3)\n"
     ]
    }
   ],
   "source": [
    "!pip install plotly"
   ]
  },
  {
   "cell_type": "markdown",
   "metadata": {},
   "source": [
    "# 1. Data Preparation"
   ]
  },
  {
   "cell_type": "markdown",
   "metadata": {},
   "source": [
    "### Load data"
   ]
  },
  {
   "cell_type": "code",
   "execution_count": 3,
   "metadata": {},
   "outputs": [
    {
     "data": {
      "text/plain": [
       "(5656458, 6)"
      ]
     },
     "execution_count": 3,
     "metadata": {},
     "output_type": "execute_result"
    }
   ],
   "source": [
    "data = pd.read_csv(\"./Resources/Indicators.csv\")\n",
    "data.shape"
   ]
  },
  {
   "cell_type": "markdown",
   "metadata": {},
   "source": [
    "This is large dataset"
   ]
  },
  {
   "cell_type": "code",
   "execution_count": 4,
   "metadata": {},
   "outputs": [
    {
     "data": {
      "text/html": [
       "<div>\n",
       "<style scoped>\n",
       "    .dataframe tbody tr th:only-of-type {\n",
       "        vertical-align: middle;\n",
       "    }\n",
       "\n",
       "    .dataframe tbody tr th {\n",
       "        vertical-align: top;\n",
       "    }\n",
       "\n",
       "    .dataframe thead th {\n",
       "        text-align: right;\n",
       "    }\n",
       "</style>\n",
       "<table border=\"1\" class=\"dataframe\">\n",
       "  <thead>\n",
       "    <tr style=\"text-align: right;\">\n",
       "      <th></th>\n",
       "      <th>CountryName</th>\n",
       "      <th>CountryCode</th>\n",
       "      <th>IndicatorName</th>\n",
       "      <th>IndicatorCode</th>\n",
       "      <th>Year</th>\n",
       "      <th>Value</th>\n",
       "    </tr>\n",
       "  </thead>\n",
       "  <tbody>\n",
       "    <tr>\n",
       "      <td>0</td>\n",
       "      <td>Arab World</td>\n",
       "      <td>ARB</td>\n",
       "      <td>Adolescent fertility rate (births per 1,000 wo...</td>\n",
       "      <td>SP.ADO.TFRT</td>\n",
       "      <td>1960</td>\n",
       "      <td>1.335609e+02</td>\n",
       "    </tr>\n",
       "    <tr>\n",
       "      <td>1</td>\n",
       "      <td>Arab World</td>\n",
       "      <td>ARB</td>\n",
       "      <td>Age dependency ratio (% of working-age populat...</td>\n",
       "      <td>SP.POP.DPND</td>\n",
       "      <td>1960</td>\n",
       "      <td>8.779760e+01</td>\n",
       "    </tr>\n",
       "    <tr>\n",
       "      <td>2</td>\n",
       "      <td>Arab World</td>\n",
       "      <td>ARB</td>\n",
       "      <td>Age dependency ratio, old (% of working-age po...</td>\n",
       "      <td>SP.POP.DPND.OL</td>\n",
       "      <td>1960</td>\n",
       "      <td>6.634579e+00</td>\n",
       "    </tr>\n",
       "    <tr>\n",
       "      <td>3</td>\n",
       "      <td>Arab World</td>\n",
       "      <td>ARB</td>\n",
       "      <td>Age dependency ratio, young (% of working-age ...</td>\n",
       "      <td>SP.POP.DPND.YG</td>\n",
       "      <td>1960</td>\n",
       "      <td>8.102333e+01</td>\n",
       "    </tr>\n",
       "    <tr>\n",
       "      <td>4</td>\n",
       "      <td>Arab World</td>\n",
       "      <td>ARB</td>\n",
       "      <td>Arms exports (SIPRI trend indicator values)</td>\n",
       "      <td>MS.MIL.XPRT.KD</td>\n",
       "      <td>1960</td>\n",
       "      <td>3.000000e+06</td>\n",
       "    </tr>\n",
       "    <tr>\n",
       "      <td>5</td>\n",
       "      <td>Arab World</td>\n",
       "      <td>ARB</td>\n",
       "      <td>Arms imports (SIPRI trend indicator values)</td>\n",
       "      <td>MS.MIL.MPRT.KD</td>\n",
       "      <td>1960</td>\n",
       "      <td>5.380000e+08</td>\n",
       "    </tr>\n",
       "    <tr>\n",
       "      <td>6</td>\n",
       "      <td>Arab World</td>\n",
       "      <td>ARB</td>\n",
       "      <td>Birth rate, crude (per 1,000 people)</td>\n",
       "      <td>SP.DYN.CBRT.IN</td>\n",
       "      <td>1960</td>\n",
       "      <td>4.769789e+01</td>\n",
       "    </tr>\n",
       "    <tr>\n",
       "      <td>7</td>\n",
       "      <td>Arab World</td>\n",
       "      <td>ARB</td>\n",
       "      <td>CO2 emissions (kt)</td>\n",
       "      <td>EN.ATM.CO2E.KT</td>\n",
       "      <td>1960</td>\n",
       "      <td>5.956399e+04</td>\n",
       "    </tr>\n",
       "    <tr>\n",
       "      <td>8</td>\n",
       "      <td>Arab World</td>\n",
       "      <td>ARB</td>\n",
       "      <td>CO2 emissions (metric tons per capita)</td>\n",
       "      <td>EN.ATM.CO2E.PC</td>\n",
       "      <td>1960</td>\n",
       "      <td>6.439635e-01</td>\n",
       "    </tr>\n",
       "    <tr>\n",
       "      <td>9</td>\n",
       "      <td>Arab World</td>\n",
       "      <td>ARB</td>\n",
       "      <td>CO2 emissions from gaseous fuel consumption (%...</td>\n",
       "      <td>EN.ATM.CO2E.GF.ZS</td>\n",
       "      <td>1960</td>\n",
       "      <td>5.041292e+00</td>\n",
       "    </tr>\n",
       "  </tbody>\n",
       "</table>\n",
       "</div>"
      ],
      "text/plain": [
       "  CountryName CountryCode                                      IndicatorName  \\\n",
       "0  Arab World         ARB  Adolescent fertility rate (births per 1,000 wo...   \n",
       "1  Arab World         ARB  Age dependency ratio (% of working-age populat...   \n",
       "2  Arab World         ARB  Age dependency ratio, old (% of working-age po...   \n",
       "3  Arab World         ARB  Age dependency ratio, young (% of working-age ...   \n",
       "4  Arab World         ARB        Arms exports (SIPRI trend indicator values)   \n",
       "5  Arab World         ARB        Arms imports (SIPRI trend indicator values)   \n",
       "6  Arab World         ARB               Birth rate, crude (per 1,000 people)   \n",
       "7  Arab World         ARB                                 CO2 emissions (kt)   \n",
       "8  Arab World         ARB             CO2 emissions (metric tons per capita)   \n",
       "9  Arab World         ARB  CO2 emissions from gaseous fuel consumption (%...   \n",
       "\n",
       "       IndicatorCode  Year         Value  \n",
       "0        SP.ADO.TFRT  1960  1.335609e+02  \n",
       "1        SP.POP.DPND  1960  8.779760e+01  \n",
       "2     SP.POP.DPND.OL  1960  6.634579e+00  \n",
       "3     SP.POP.DPND.YG  1960  8.102333e+01  \n",
       "4     MS.MIL.XPRT.KD  1960  3.000000e+06  \n",
       "5     MS.MIL.MPRT.KD  1960  5.380000e+08  \n",
       "6     SP.DYN.CBRT.IN  1960  4.769789e+01  \n",
       "7     EN.ATM.CO2E.KT  1960  5.956399e+04  \n",
       "8     EN.ATM.CO2E.PC  1960  6.439635e-01  \n",
       "9  EN.ATM.CO2E.GF.ZS  1960  5.041292e+00  "
      ]
     },
     "execution_count": 4,
     "metadata": {},
     "output_type": "execute_result"
    }
   ],
   "source": [
    "data.head(10)"
   ]
  },
  {
   "cell_type": "markdown",
   "metadata": {},
   "source": [
    "This is four - dimensional  dataset where dimensions are Country, Indicator, Year and Value"
   ]
  },
  {
   "cell_type": "markdown",
   "metadata": {},
   "source": [
    "## How many UNIQUE country names are there?"
   ]
  },
  {
   "cell_type": "code",
   "execution_count": 5,
   "metadata": {},
   "outputs": [
    {
     "data": {
      "text/plain": [
       "247"
      ]
     },
     "execution_count": 5,
     "metadata": {},
     "output_type": "execute_result"
    }
   ],
   "source": [
    "countries = data['CountryName'].unique().tolist()\n",
    "len(countries)"
   ]
  },
  {
   "cell_type": "markdown",
   "metadata": {},
   "source": [
    "## Are there same number of country codes?"
   ]
  },
  {
   "cell_type": "code",
   "execution_count": 6,
   "metadata": {},
   "outputs": [
    {
     "data": {
      "text/plain": [
       "247"
      ]
     },
     "execution_count": 6,
     "metadata": {},
     "output_type": "execute_result"
    }
   ],
   "source": [
    "# This should be the same as country names\n",
    "\n",
    "country_codes = data['CountryCode'].unique().tolist()\n",
    "len(country_codes)"
   ]
  },
  {
   "cell_type": "markdown",
   "metadata": {},
   "source": [
    "## How many indicators are in the dataset?"
   ]
  },
  {
   "cell_type": "code",
   "execution_count": 7,
   "metadata": {},
   "outputs": [
    {
     "data": {
      "text/plain": [
       "1344"
      ]
     },
     "execution_count": 7,
     "metadata": {},
     "output_type": "execute_result"
    }
   ],
   "source": [
    "indicators = data['IndicatorName'].unique().tolist()\n",
    "len(indicators)"
   ]
  },
  {
   "cell_type": "markdown",
   "metadata": {},
   "source": [
    "## How many years of data do we have?"
   ]
  },
  {
   "cell_type": "code",
   "execution_count": 8,
   "metadata": {},
   "outputs": [
    {
     "data": {
      "text/plain": [
       "56"
      ]
     },
     "execution_count": 8,
     "metadata": {},
     "output_type": "execute_result"
    }
   ],
   "source": [
    "years = data['Year'].unique().tolist()\n",
    "len(years)"
   ]
  },
  {
   "cell_type": "markdown",
   "metadata": {},
   "source": [
    "## What's the range of years?"
   ]
  },
  {
   "cell_type": "code",
   "execution_count": 9,
   "metadata": {},
   "outputs": [
    {
     "name": "stdout",
     "output_type": "stream",
     "text": [
      "1960 to 2015\n"
     ]
    }
   ],
   "source": [
    "print(min(years), 'to', max(years))"
   ]
  },
  {
   "cell_type": "markdown",
   "metadata": {},
   "source": [
    "Let's Narrow Down the original dataframe and make the column number equal to the size of dimensions"
   ]
  },
  {
   "cell_type": "code",
   "execution_count": 10,
   "metadata": {},
   "outputs": [
    {
     "data": {
      "text/html": [
       "<div>\n",
       "<style scoped>\n",
       "    .dataframe tbody tr th:only-of-type {\n",
       "        vertical-align: middle;\n",
       "    }\n",
       "\n",
       "    .dataframe tbody tr th {\n",
       "        vertical-align: top;\n",
       "    }\n",
       "\n",
       "    .dataframe thead th {\n",
       "        text-align: right;\n",
       "    }\n",
       "</style>\n",
       "<table border=\"1\" class=\"dataframe\">\n",
       "  <thead>\n",
       "    <tr style=\"text-align: right;\">\n",
       "      <th></th>\n",
       "      <th>CountryCode</th>\n",
       "      <th>IndicatorName</th>\n",
       "      <th>Year</th>\n",
       "      <th>Value</th>\n",
       "    </tr>\n",
       "  </thead>\n",
       "  <tbody>\n",
       "    <tr>\n",
       "      <td>0</td>\n",
       "      <td>ARB</td>\n",
       "      <td>Adolescent fertility rate (births per 1,000 wo...</td>\n",
       "      <td>1960</td>\n",
       "      <td>1.335609e+02</td>\n",
       "    </tr>\n",
       "    <tr>\n",
       "      <td>1</td>\n",
       "      <td>ARB</td>\n",
       "      <td>Age dependency ratio (% of working-age populat...</td>\n",
       "      <td>1960</td>\n",
       "      <td>8.779760e+01</td>\n",
       "    </tr>\n",
       "    <tr>\n",
       "      <td>2</td>\n",
       "      <td>ARB</td>\n",
       "      <td>Age dependency ratio, old (% of working-age po...</td>\n",
       "      <td>1960</td>\n",
       "      <td>6.634579e+00</td>\n",
       "    </tr>\n",
       "    <tr>\n",
       "      <td>3</td>\n",
       "      <td>ARB</td>\n",
       "      <td>Age dependency ratio, young (% of working-age ...</td>\n",
       "      <td>1960</td>\n",
       "      <td>8.102333e+01</td>\n",
       "    </tr>\n",
       "    <tr>\n",
       "      <td>4</td>\n",
       "      <td>ARB</td>\n",
       "      <td>Arms exports (SIPRI trend indicator values)</td>\n",
       "      <td>1960</td>\n",
       "      <td>3.000000e+06</td>\n",
       "    </tr>\n",
       "    <tr>\n",
       "      <td>5</td>\n",
       "      <td>ARB</td>\n",
       "      <td>Arms imports (SIPRI trend indicator values)</td>\n",
       "      <td>1960</td>\n",
       "      <td>5.380000e+08</td>\n",
       "    </tr>\n",
       "    <tr>\n",
       "      <td>6</td>\n",
       "      <td>ARB</td>\n",
       "      <td>Birth rate, crude (per 1,000 people)</td>\n",
       "      <td>1960</td>\n",
       "      <td>4.769789e+01</td>\n",
       "    </tr>\n",
       "    <tr>\n",
       "      <td>7</td>\n",
       "      <td>ARB</td>\n",
       "      <td>CO2 emissions (kt)</td>\n",
       "      <td>1960</td>\n",
       "      <td>5.956399e+04</td>\n",
       "    </tr>\n",
       "    <tr>\n",
       "      <td>8</td>\n",
       "      <td>ARB</td>\n",
       "      <td>CO2 emissions (metric tons per capita)</td>\n",
       "      <td>1960</td>\n",
       "      <td>6.439635e-01</td>\n",
       "    </tr>\n",
       "    <tr>\n",
       "      <td>9</td>\n",
       "      <td>ARB</td>\n",
       "      <td>CO2 emissions from gaseous fuel consumption (%...</td>\n",
       "      <td>1960</td>\n",
       "      <td>5.041292e+00</td>\n",
       "    </tr>\n",
       "  </tbody>\n",
       "</table>\n",
       "</div>"
      ],
      "text/plain": [
       "  CountryCode                                      IndicatorName  Year  \\\n",
       "0         ARB  Adolescent fertility rate (births per 1,000 wo...  1960   \n",
       "1         ARB  Age dependency ratio (% of working-age populat...  1960   \n",
       "2         ARB  Age dependency ratio, old (% of working-age po...  1960   \n",
       "3         ARB  Age dependency ratio, young (% of working-age ...  1960   \n",
       "4         ARB        Arms exports (SIPRI trend indicator values)  1960   \n",
       "5         ARB        Arms imports (SIPRI trend indicator values)  1960   \n",
       "6         ARB               Birth rate, crude (per 1,000 people)  1960   \n",
       "7         ARB                                 CO2 emissions (kt)  1960   \n",
       "8         ARB             CO2 emissions (metric tons per capita)  1960   \n",
       "9         ARB  CO2 emissions from gaseous fuel consumption (%...  1960   \n",
       "\n",
       "          Value  \n",
       "0  1.335609e+02  \n",
       "1  8.779760e+01  \n",
       "2  6.634579e+00  \n",
       "3  8.102333e+01  \n",
       "4  3.000000e+06  \n",
       "5  5.380000e+08  \n",
       "6  4.769789e+01  \n",
       "7  5.956399e+04  \n",
       "8  6.439635e-01  \n",
       "9  5.041292e+00  "
      ]
     },
     "execution_count": 10,
     "metadata": {},
     "output_type": "execute_result"
    }
   ],
   "source": [
    "short_data = data[['CountryCode', 'IndicatorName', 'Year', 'Value']]\n",
    "short_data.head(10)"
   ]
  },
  {
   "cell_type": "markdown",
   "metadata": {},
   "source": [
    "## Quick glance at the data to be explored and Initial Data Exploration"
   ]
  },
  {
   "cell_type": "code",
   "execution_count": 11,
   "metadata": {
    "scrolled": false
   },
   "outputs": [
    {
     "data": {
      "image/png": "[encoded data removed]",
      "text/plain": [
       "<Figure size 432x288 with 1 Axes>"
      ]
     },
     "metadata": {
      "needs_background": "light"
     },
     "output_type": "display_data"
    }
   ],
   "source": [
    "co2 = short_data['IndicatorName'].str.contains('CO2 emissions \\(metric tons per capita')\n",
    "#forest = data['IndicatorName'].str.contains('Forest area \\(%')\n",
    "\n",
    "country = (short_data['CountryCode'] == \"USA\")\n",
    "co2_us  = short_data[co2 & country]\n",
    "co2_us = co2_us.reset_index(drop = True)\n",
    "#plt.ylim(0, 30)\n",
    "plt.xlabel('Years')\n",
    "plt.ylim(0,25)\n",
    "plt.ylabel('CO2 emissions (metric tons per capita)')\n",
    "plt.title('CO2 emissions change in years (US)')\n",
    "plt.plot(co2_us['Year'], co2_us['Value'].values)\n",
    "plt.show()"
   ]
  },
  {
   "cell_type": "markdown",
   "metadata": {},
   "source": [
    "It looks like there was a big jump in CO2 emissions in 1960-1970 and after 1980 the CO2 emissions per capita reduced. Of course it can be due to the immigration flock and sudden increase in the population that could lead to the reduction of te per capita amount but that data is not present in our dataset. Usually CO2 emissions change are consistent with its different components that we explored below"
   ]
  },
  {
   "cell_type": "markdown",
   "metadata": {},
   "source": [
    "### Using Hisograms to explore the distribution of values"
   ]
  },
  {
   "cell_type": "code",
   "execution_count": 12,
   "metadata": {},
   "outputs": [
    {
     "name": "stdout",
     "output_type": "stream",
     "text": [
      "52\n"
     ]
    }
   ],
   "source": [
    "# print out the number of elements in hist_data\n",
    "hist_data = co2_us['Value'].values\n",
    "print(len(hist_data))"
   ]
  },
  {
   "cell_type": "code",
   "execution_count": 13,
   "metadata": {},
   "outputs": [
    {
     "data": {
      "image/png": "[encoded data removed]",
      "text/plain": [
       "<Figure size 864x432 with 1 Axes>"
      ]
     },
     "metadata": {
      "needs_background": "light"
     },
     "output_type": "display_data"
    }
   ],
   "source": [
    "# the histogram of data\n",
    "plt.figure(figsize=(12,6))\n",
    "plt.hist(hist_data, 10, density=False, facecolor='green')\n",
    "plt.xlabel(co2_us['IndicatorName'].iloc[0])\n",
    "plt.ylabel('Number of Years')\n",
    "plt.title('Histogram of CO2 emissions')\n",
    "plt.grid()\n",
    "plt.show()"
   ]
  },
  {
   "cell_type": "markdown",
   "metadata": {},
   "source": [
    "So the USA has many years where it produced between 19-20 metric tons per capita."
   ]
  },
  {
   "cell_type": "markdown",
   "metadata": {},
   "source": [
    "### How do the USA numbers relate to those of other countries?"
   ]
  },
  {
   "cell_type": "code",
   "execution_count": 14,
   "metadata": {},
   "outputs": [
    {
     "data": {
      "text/html": [
       "<div>\n",
       "<style scoped>\n",
       "    .dataframe tbody tr th:only-of-type {\n",
       "        vertical-align: middle;\n",
       "    }\n",
       "\n",
       "    .dataframe tbody tr th {\n",
       "        vertical-align: top;\n",
       "    }\n",
       "\n",
       "    .dataframe thead th {\n",
       "        text-align: right;\n",
       "    }\n",
       "</style>\n",
       "<table border=\"1\" class=\"dataframe\">\n",
       "  <thead>\n",
       "    <tr style=\"text-align: right;\">\n",
       "      <th></th>\n",
       "      <th>CountryCode</th>\n",
       "      <th>IndicatorName</th>\n",
       "      <th>Year</th>\n",
       "      <th>Value</th>\n",
       "    </tr>\n",
       "  </thead>\n",
       "  <tbody>\n",
       "    <tr>\n",
       "      <td>5026275</td>\n",
       "      <td>ARB</td>\n",
       "      <td>CO2 emissions (metric tons per capita)</td>\n",
       "      <td>2011</td>\n",
       "      <td>4.724500</td>\n",
       "    </tr>\n",
       "    <tr>\n",
       "      <td>5026788</td>\n",
       "      <td>CSS</td>\n",
       "      <td>CO2 emissions (metric tons per capita)</td>\n",
       "      <td>2011</td>\n",
       "      <td>9.692960</td>\n",
       "    </tr>\n",
       "    <tr>\n",
       "      <td>5027295</td>\n",
       "      <td>CEB</td>\n",
       "      <td>CO2 emissions (metric tons per capita)</td>\n",
       "      <td>2011</td>\n",
       "      <td>6.911131</td>\n",
       "    </tr>\n",
       "    <tr>\n",
       "      <td>5027870</td>\n",
       "      <td>EAS</td>\n",
       "      <td>CO2 emissions (metric tons per capita)</td>\n",
       "      <td>2011</td>\n",
       "      <td>5.859548</td>\n",
       "    </tr>\n",
       "    <tr>\n",
       "      <td>5028456</td>\n",
       "      <td>EAP</td>\n",
       "      <td>CO2 emissions (metric tons per capita)</td>\n",
       "      <td>2011</td>\n",
       "      <td>5.302499</td>\n",
       "    </tr>\n",
       "  </tbody>\n",
       "</table>\n",
       "</div>"
      ],
      "text/plain": [
       "        CountryCode                           IndicatorName  Year     Value\n",
       "5026275         ARB  CO2 emissions (metric tons per capita)  2011  4.724500\n",
       "5026788         CSS  CO2 emissions (metric tons per capita)  2011  9.692960\n",
       "5027295         CEB  CO2 emissions (metric tons per capita)  2011  6.911131\n",
       "5027870         EAS  CO2 emissions (metric tons per capita)  2011  5.859548\n",
       "5028456         EAP  CO2 emissions (metric tons per capita)  2011  5.302499"
      ]
     },
     "execution_count": 14,
     "metadata": {},
     "output_type": "execute_result"
    }
   ],
   "source": [
    "hist_indicator = \"CO2 emissions \\(metric tons per capita\"\n",
    "hist_year = 2011\n",
    "\n",
    "mask1 = short_data['IndicatorName'].str.contains(hist_indicator)\n",
    "mask2 = short_data['Year'].isin([hist_year])\n",
    "\n",
    "# apply mask\n",
    "\n",
    "co2_2011 = short_data[mask1 & mask2]\n",
    "co2_2011.head()"
   ]
  },
  {
   "cell_type": "markdown",
   "metadata": {},
   "source": [
    "Just looking at this values we can see that the US numbers are way too high than the rest of the world. Let's create a histogram that contains all the countries as well as the USA.\n",
    "\n",
    "Let's see how many countries we have in this new dataset"
   ]
  },
  {
   "cell_type": "code",
   "execution_count": 15,
   "metadata": {},
   "outputs": [
    {
     "name": "stdout",
     "output_type": "stream",
     "text": [
      "232\n"
     ]
    }
   ],
   "source": [
    "print(len(co2_2011))"
   ]
  },
  {
   "cell_type": "code",
   "execution_count": 16,
   "metadata": {},
   "outputs": [
    {
     "data": {
      "image/png": "[encoded data removed]",
      "text/plain": [
       "<Figure size 864x432 with 1 Axes>"
      ]
     },
     "metadata": {
      "needs_background": "light"
     },
     "output_type": "display_data"
    }
   ],
   "source": [
    "# Let's plot a histogram of the emissions per capita by country\n",
    "\n",
    "fig, ax = plt.subplots(figsize=(12,6))\n",
    "ax.annotate(\"USA\", xy = (18,5), xycoords = 'data',\n",
    "           xytext=(18,30), textcoords='data', arrowprops = dict(arrowstyle=\"->\", connectionstyle = \"arc3\"))\n",
    "\n",
    "plt.hist(co2_2011['Value'], 10, density=False, facecolor='green')\n",
    "plt.xlabel(co2_2011['IndicatorName'].iloc[0])\n",
    "plt.ylabel('Number of Countries')\n",
    "plt.title('Histogram of CO2 emissions per capita')\n",
    "plt.grid()\n",
    "plt.show()"
   ]
  },
  {
   "cell_type": "markdown",
   "metadata": {},
   "source": [
    "It looks like USA is the real outlier here"
   ]
  },
  {
   "cell_type": "markdown",
   "metadata": {},
   "source": [
    "### Let's look at the how the US stands against the World on the map"
   ]
  },
  {
   "cell_type": "code",
   "execution_count": 17,
   "metadata": {},
   "outputs": [
    {
     "data": {
      "application/vnd.plotly.v1+json": {
       "config": {
        "plotlyServerURL": "https://plot.ly"
       },
       "data": [
        {
         "autocolorscale": true,
         "colorbar": {
          "title": {
           "text": "CO2 emission metric tons per capita"
          }
         },
         "locations": [
          "ARB",
          "CSS",
          "CEB",
          "EAS",
          "EAP",
          "EMU",
          "ECS",
          "ECA",
          "EUU",
          "FCS",
          "HPC",
          "HIC",
          "NOC",
          "OEC",
          "LCN",
          "LAC",
          "LDC",
          "LMY",
          "LIC",
          "LMC",
          "MEA",
          "MNA",
          "MIC",
          "NAC",
          "OED",
          "OSS",
          "PSS",
          "SST",
          "SAS",
          "SSF",
          "SSA",
          "UMC",
          "WLD",
          "AFG",
          "ALB",
          "DZA",
          "ADO",
          "AGO",
          "ATG",
          "ARG",
          "ARM",
          "ABW",
          "AUS",
          "AUT",
          "AZE",
          "BHS",
          "BHR",
          "BGD",
          "BRB",
          "BLR",
          "BEL",
          "BLZ",
          "BEN",
          "BMU",
          "BTN",
          "BOL",
          "BIH",
          "BWA",
          "BRA",
          "BRN",
          "BGR",
          "BFA",
          "BDI",
          "CPV",
          "KHM",
          "CMR",
          "CAN",
          "CYM",
          "CAF",
          "TCD",
          "CHL",
          "CHN",
          "COL",
          "COM",
          "ZAR",
          "COG",
          "CRI",
          "CIV",
          "HRV",
          "CUB",
          "CYP",
          "CZE",
          "DNK",
          "DJI",
          "DMA",
          "DOM",
          "ECU",
          "EGY",
          "SLV",
          "GNQ",
          "ERI",
          "EST",
          "ETH",
          "FRO",
          "FJI",
          "FIN",
          "FRA",
          "PYF",
          "GAB",
          "GMB",
          "GEO",
          "DEU",
          "GHA",
          "GRC",
          "GRL",
          "GRD",
          "GTM",
          "GIN",
          "GNB",
          "GUY",
          "HTI",
          "HND",
          "HKG",
          "HUN",
          "ISL",
          "IND",
          "IDN",
          "IRN",
          "IRQ",
          "IRL",
          "ISR",
          "ITA",
          "JAM",
          "JPN",
          "JOR",
          "KAZ",
          "KEN",
          "KIR",
          "PRK",
          "KOR",
          "KWT",
          "KGZ",
          "LAO",
          "LVA",
          "LBN",
          "LSO",
          "LBR",
          "LBY",
          "LIE",
          "LTU",
          "LUX",
          "MAC",
          "MKD",
          "MDG",
          "MWI",
          "MYS",
          "MDV",
          "MLI",
          "MLT",
          "MHL",
          "MRT",
          "MUS",
          "MEX",
          "FSM",
          "MDA",
          "MNG",
          "MNE",
          "MAR",
          "MOZ",
          "MMR",
          "NAM",
          "NPL",
          "NLD",
          "NCL",
          "NZL",
          "NIC",
          "NER",
          "NGA",
          "NOR",
          "OMN",
          "PAK",
          "PLW",
          "PAN",
          "PNG",
          "PRY",
          "PER",
          "PHL",
          "POL",
          "PRT",
          "QAT",
          "ROM",
          "RUS",
          "RWA",
          "WSM",
          "STP",
          "SAU",
          "SEN",
          "SRB",
          "SYC",
          "SLE",
          "SGP",
          "SVK",
          "SVN",
          "SLB",
          "SOM",
          "ZAF",
          "ESP",
          "LKA",
          "KNA",
          "LCA",
          "VCT",
          "SDN",
          "SUR",
          "SWZ",
          "SWE",
          "CHE",
          "SYR",
          "TJK",
          "TZA",
          "THA",
          "TMP",
          "TGO",
          "TON",
          "TTO",
          "TUN",
          "TUR",
          "TKM",
          "TCA",
          "UGA",
          "UKR",
          "ARE",
          "GBR",
          "USA",
          "URY",
          "UZB",
          "VUT",
          "VEN",
          "VNM",
          "WBG",
          "YEM",
          "ZMB",
          "ZWE"
         ],
         "marker": {
          "line": {
           "color": "darkgray",
           "width": 0.5
          }
         },
         "reversescale": true,
         "type": "choropleth",
         "z": [
          4.72449969733611,
          9.692960267791962,
          6.911131207182351,
          5.85954848739331,
          5.302499353704519,
          7.13248299990191,
          7.54133422629917,
          5.4127074041852,
          7.06979787027619,
          0.8586288462196,
          0.230193317551096,
          11.0702804825437,
          11.6603932570965,
          10.9778370949351,
          2.9333291759501297,
          2.38417560728642,
          0.268707273387085,
          3.1031744474373104,
          0.270964490008672,
          1.5089926650977,
          5.9628653130049685,
          3.87821927364453,
          3.42440790514306,
          16.731985801731902,
          9.90716840566788,
          1.54809671563533,
          1.09799974602997,
          3.45979099177518,
          1.40899707611236,
          0.8309411188638809,
          0.82359608016772,
          5.71056353588949,
          4.944648930261018,
          0.42526210494041705,
          1.6070377102568898,
          3.3160378920663,
          5.9686854699608896,
          1.3540075295675502,
          5.8238043379617,
          4.56204851225823,
          1.67165692267883,
          23.922412101710897,
          16.519209916694802,
          7.769983422793372,
          3.6473791469432,
          5.19984401885954,
          17.947329814228606,
          0.372017165838757,
          5.58017761812104,
          6.68251039797319,
          8.849398302495059,
          1.6709043023393602,
          0.509962225664154,
          6.07721021002416,
          0.766205619422981,
          1.59949903941542,
          6.196652149747798,
          2.32334500642674,
          2.19139356376845,
          24.3920133786297,
          6.71438250987163,
          0.119980559825133,
          0.0213499260634489,
          0.8590614327922951,
          0.308073151562941,
          0.26809179288950497,
          14.1358133791149,
          10.3049310710498,
          0.0631278135947735,
          0.0438304243635328,
          4.61644538016156,
          6.71030199087886,
          1.56062909881097,
          0.22023347281737304,
          0.050302687534910996,
          0.5380983785504739,
          1.7049744950915,
          0.312877702632263,
          4.80153001129275,
          3.1723150914420097,
          6.73537582255401,
          10.4310881349318,
          7.24832871740999,
          0.561940931477949,
          1.74614156466205,
          2.18290788799199,
          2.35401738651458,
          2.63511522475978,
          1.10399857445029,
          8.9072415363595,
          0.108718364579018,
          14.0498825181421,
          0.0839431166461619,
          11.7212117462674,
          1.42481324805984,
          10.1640460986379,
          5.18504342392799,
          3.16795268439279,
          1.41816574927503,
          0.24109841695638695,
          1.769150523604,
          8.91783284592949,
          0.404379797695834,
          7.55605776856022,
          12.440341008964698,
          2.4081374321880697,
          0.748055056454528,
          0.22942342456503895,
          0.146810683420286,
          2.35772202840916,
          0.217962047888149,
          1.1037450530833302,
          5.69526853894451,
          4.862989931433139,
          5.89682897929244,
          1.6628734828669098,
          2.303780982809509,
          7.80214509349436,
          4.20163513007514,
          7.8807593262882305,
          8.95241353112365,
          6.70255761383033,
          2.8726556926748903,
          9.29183430343302,
          3.60114706358194,
          15.810097544181799,
          0.327569171129451,
          0.5956220978005389,
          2.98718211203856,
          11.840756866690302,
          28.1026617530789,
          1.19959162949262,
          0.18891050586713296,
          3.786801436513601,
          4.6683125079609,
          1.08226960820483,
          0.218425012023314,
          6.204914344123349,
          1.4050962038481498,
          4.53755851412512,
          20.8978116975694,
          2.13306090195031,
          4.51921014111123,
          0.112992805389691,
          0.0792314846186132,
          7.898823573468209,
          2.92776392572944,
          0.0799563786058226,
          6.03432163894414,
          1.95420719057498,
          0.6272254637992131,
          3.1270708174039705,
          3.87610761080744,
          1.24033592330589,
          1.39882179311941,
          6.9151465310462905,
          4.14554758345308,
          1.73791554669125,
          0.131189805492051,
          0.200285212139622,
          1.23916048891129,
          0.159474454709674,
          10.0644897398765,
          15.173295275590599,
          7.124050866788322,
          0.8435419549649459,
          0.0839581777578064,
          0.537497560078966,
          9.19287906857298,
          20.2038945134942,
          0.9411711250776528,
          10.8554304571484,
          2.6252762441067703,
          0.746895234112231,
          0.841915242121446,
          1.7832331442343,
          0.8678453433512341,
          8.33578670557733,
          4.7098496243450185,
          44.0189263670224,
          4.21056012429912,
          12.647328232506304,
          0.0628741973256297,
          1.25211007608011,
          0.587909256438739,
          18.0724507178889,
          0.588334149509437,
          6.7991149969056295,
          6.835706362004089,
          0.152044167890243,
          4.32015143623281,
          6.367545917444919,
          7.5042597022763085,
          0.36830416927060106,
          0.0587068801132291,
          9.25721647223847,
          5.79076423425033,
          0.7299208395227371,
          5.05096418732782,
          2.27042358794721,
          2.1799233590327503,
          0.349548724216747,
          3.64991336144231,
          0.864988312997234,
          5.5184214812387005,
          4.62522992397501,
          2.7369909434886,
          0.358947629748805,
          0.154934900364361,
          4.53449173353441,
          0.16364808031474698,
          0.31944362162530104,
          0.983561958770787,
          37.140054240742,
          2.4024556390413903,
          4.383104516251859,
          12.183666583638,
          6.01014908437608,
          0.110886575504705,
          6.26235196177316,
          20.433837619560197,
          7.085732086027781,
          17.0202163384029,
          2.29620068466244,
          3.91492126628356,
          0.59126577254461,
          6.4163335811843005,
          1.97188917349727,
          0.5724068773234681,
          0.9199676170025592,
          0.212449644529525,
          0.6916978965166789
         ]
        }
       ],
       "layout": {
        "autosize": false,
        "height": 500,
        "margin": {
         "b": 100,
         "l": 50,
         "pad": 4,
         "r": 50,
         "t": 100
        },
        "template": {
         "data": {
          "bar": [
           {
            "error_x": {
             "color": "#2a3f5f"
            },
            "error_y": {
             "color": "#2a3f5f"
            },
            "marker": {
             "line": {
              "color": "#E5ECF6",
              "width": 0.5
             }
            },
            "type": "bar"
           }
          ],
          "barpolar": [
           {
            "marker": {
             "line": {
              "color": "#E5ECF6",
              "width": 0.5
             }
            },
            "type": "barpolar"
           }
          ],
          "carpet": [
           {
            "aaxis": {
             "endlinecolor": "#2a3f5f",
             "gridcolor": "white",
             "linecolor": "white",
             "minorgridcolor": "white",
             "startlinecolor": "#2a3f5f"
            },
            "baxis": {
             "endlinecolor": "#2a3f5f",
             "gridcolor": "white",
             "linecolor": "white",
             "minorgridcolor": "white",
             "startlinecolor": "#2a3f5f"
            },
            "type": "carpet"
           }
          ],
          "choropleth": [
           {
            "colorbar": {
             "outlinewidth": 0,
             "ticks": ""
            },
            "type": "choropleth"
           }
          ],
          "contour": [
           {
            "colorbar": {
             "outlinewidth": 0,
             "ticks": ""
            },
            "colorscale": [
             [
              0,
              "#0d0887"
             ],
             [
              0.1111111111111111,
              "#46039f"
             ],
             [
              0.2222222222222222,
              "#7201a8"
             ],
             [
              0.3333333333333333,
              "#9c179e"
             ],
             [
              0.4444444444444444,
              "#bd3786"
             ],
             [
              0.5555555555555556,
              "#d8576b"
             ],
             [
              0.6666666666666666,
              "#ed7953"
             ],
             [
              0.7777777777777778,
              "#fb9f3a"
             ],
             [
              0.8888888888888888,
              "#fdca26"
             ],
             [
              1,
              "#f0f921"
             ]
            ],
            "type": "contour"
           }
          ],
          "contourcarpet": [
           {
            "colorbar": {
             "outlinewidth": 0,
             "ticks": ""
            },
            "type": "contourcarpet"
           }
          ],
          "heatmap": [
           {
            "colorbar": {
             "outlinewidth": 0,
             "ticks": ""
            },
            "colorscale": [
             [
              0,
              "#0d0887"
             ],
             [
              0.1111111111111111,
              "#46039f"
             ],
             [
              0.2222222222222222,
              "#7201a8"
             ],
             [
              0.3333333333333333,
              "#9c179e"
             ],
             [
              0.4444444444444444,
              "#bd3786"
             ],
             [
              0.5555555555555556,
              "#d8576b"
             ],
             [
              0.6666666666666666,
              "#ed7953"
             ],
             [
              0.7777777777777778,
              "#fb9f3a"
             ],
             [
              0.8888888888888888,
              "#fdca26"
             ],
             [
              1,
              "#f0f921"
             ]
            ],
            "type": "heatmap"
           }
          ],
          "heatmapgl": [
           {
            "colorbar": {
             "outlinewidth": 0,
             "ticks": ""
            },
            "colorscale": [
             [
              0,
              "#0d0887"
             ],
             [
              0.1111111111111111,
              "#46039f"
             ],
             [
              0.2222222222222222,
              "#7201a8"
             ],
             [
              0.3333333333333333,
              "#9c179e"
             ],
             [
              0.4444444444444444,
              "#bd3786"
             ],
             [
              0.5555555555555556,
              "#d8576b"
             ],
             [
              0.6666666666666666,
              "#ed7953"
             ],
             [
              0.7777777777777778,
              "#fb9f3a"
             ],
             [
              0.8888888888888888,
              "#fdca26"
             ],
             [
              1,
              "#f0f921"
             ]
            ],
            "type": "heatmapgl"
           }
          ],
          "histogram": [
           {
            "marker": {
             "colorbar": {
              "outlinewidth": 0,
              "ticks": ""
             }
            },
            "type": "histogram"
           }
          ],
          "histogram2d": [
           {
            "colorbar": {
             "outlinewidth": 0,
             "ticks": ""
            },
            "colorscale": [
             [
              0,
              "#0d0887"
             ],
             [
              0.1111111111111111,
              "#46039f"
             ],
             [
              0.2222222222222222,
              "#7201a8"
             ],
             [
              0.3333333333333333,
              "#9c179e"
             ],
             [
              0.4444444444444444,
              "#bd3786"
             ],
             [
              0.5555555555555556,
              "#d8576b"
             ],
             [
              0.6666666666666666,
              "#ed7953"
             ],
             [
              0.7777777777777778,
              "#fb9f3a"
             ],
             [
              0.8888888888888888,
              "#fdca26"
             ],
             [
              1,
              "#f0f921"
             ]
            ],
            "type": "histogram2d"
           }
          ],
          "histogram2dcontour": [
           {
            "colorbar": {
             "outlinewidth": 0,
             "ticks": ""
            },
            "colorscale": [
             [
              0,
              "#0d0887"
             ],
             [
              0.1111111111111111,
              "#46039f"
             ],
             [
              0.2222222222222222,
              "#7201a8"
             ],
             [
              0.3333333333333333,
              "#9c179e"
             ],
             [
              0.4444444444444444,
              "#bd3786"
             ],
             [
              0.5555555555555556,
              "#d8576b"
             ],
             [
              0.6666666666666666,
              "#ed7953"
             ],
             [
              0.7777777777777778,
              "#fb9f3a"
             ],
             [
              0.8888888888888888,
              "#fdca26"
             ],
             [
              1,
              "#f0f921"
             ]
            ],
            "type": "histogram2dcontour"
           }
          ],
          "mesh3d": [
           {
            "colorbar": {
             "outlinewidth": 0,
             "ticks": ""
            },
            "type": "mesh3d"
           }
          ],
          "parcoords": [
           {
            "line": {
             "colorbar": {
              "outlinewidth": 0,
              "ticks": ""
             }
            },
            "type": "parcoords"
           }
          ],
          "pie": [
           {
            "automargin": true,
            "type": "pie"
           }
          ],
          "scatter": [
           {
            "marker": {
             "colorbar": {
              "outlinewidth": 0,
              "ticks": ""
             }
            },
            "type": "scatter"
           }
          ],
          "scatter3d": [
           {
            "line": {
             "colorbar": {
              "outlinewidth": 0,
              "ticks": ""
             }
            },
            "marker": {
             "colorbar": {
              "outlinewidth": 0,
              "ticks": ""
             }
            },
            "type": "scatter3d"
           }
          ],
          "scattercarpet": [
           {
            "marker": {
             "colorbar": {
              "outlinewidth": 0,
              "ticks": ""
             }
            },
            "type": "scattercarpet"
           }
          ],
          "scattergeo": [
           {
            "marker": {
             "colorbar": {
              "outlinewidth": 0,
              "ticks": ""
             }
            },
            "type": "scattergeo"
           }
          ],
          "scattergl": [
           {
            "marker": {
             "colorbar": {
              "outlinewidth": 0,
              "ticks": ""
             }
            },
            "type": "scattergl"
           }
          ],
          "scattermapbox": [
           {
            "marker": {
             "colorbar": {
              "outlinewidth": 0,
              "ticks": ""
             }
            },
            "type": "scattermapbox"
           }
          ],
          "scatterpolar": [
           {
            "marker": {
             "colorbar": {
              "outlinewidth": 0,
              "ticks": ""
             }
            },
            "type": "scatterpolar"
           }
          ],
          "scatterpolargl": [
           {
            "marker": {
             "colorbar": {
              "outlinewidth": 0,
              "ticks": ""
             }
            },
            "type": "scatterpolargl"
           }
          ],
          "scatterternary": [
           {
            "marker": {
             "colorbar": {
              "outlinewidth": 0,
              "ticks": ""
             }
            },
            "type": "scatterternary"
           }
          ],
          "surface": [
           {
            "colorbar": {
             "outlinewidth": 0,
             "ticks": ""
            },
            "colorscale": [
             [
              0,
              "#0d0887"
             ],
             [
              0.1111111111111111,
              "#46039f"
             ],
             [
              0.2222222222222222,
              "#7201a8"
             ],
             [
              0.3333333333333333,
              "#9c179e"
             ],
             [
              0.4444444444444444,
              "#bd3786"
             ],
             [
              0.5555555555555556,
              "#d8576b"
             ],
             [
              0.6666666666666666,
              "#ed7953"
             ],
             [
              0.7777777777777778,
              "#fb9f3a"
             ],
             [
              0.8888888888888888,
              "#fdca26"
             ],
             [
              1,
              "#f0f921"
             ]
            ],
            "type": "surface"
           }
          ],
          "table": [
           {
            "cells": {
             "fill": {
              "color": "#EBF0F8"
             },
             "line": {
              "color": "white"
             }
            },
            "header": {
             "fill": {
              "color": "#C8D4E3"
             },
             "line": {
              "color": "white"
             }
            },
            "type": "table"
           }
          ]
         },
         "layout": {
          "annotationdefaults": {
           "arrowcolor": "#2a3f5f",
           "arrowhead": 0,
           "arrowwidth": 1
          },
          "coloraxis": {
           "colorbar": {
            "outlinewidth": 0,
            "ticks": ""
           }
          },
          "colorscale": {
           "diverging": [
            [
             0,
             "#8e0152"
            ],
            [
             0.1,
             "#c51b7d"
            ],
            [
             0.2,
             "#de77ae"
            ],
            [
             0.3,
             "#f1b6da"
            ],
            [
             0.4,
             "#fde0ef"
            ],
            [
             0.5,
             "#f7f7f7"
            ],
            [
             0.6,
             "#e6f5d0"
            ],
            [
             0.7,
             "#b8e186"
            ],
            [
             0.8,
             "#7fbc41"
            ],
            [
             0.9,
             "#4d9221"
            ],
            [
             1,
             "#276419"
            ]
           ],
           "sequential": [
            [
             0,
             "#0d0887"
            ],
            [
             0.1111111111111111,
             "#46039f"
            ],
            [
             0.2222222222222222,
             "#7201a8"
            ],
            [
             0.3333333333333333,
             "#9c179e"
            ],
            [
             0.4444444444444444,
             "#bd3786"
            ],
            [
             0.5555555555555556,
             "#d8576b"
            ],
            [
             0.6666666666666666,
             "#ed7953"
            ],
            [
             0.7777777777777778,
             "#fb9f3a"
            ],
            [
             0.8888888888888888,
             "#fdca26"
            ],
            [
             1,
             "#f0f921"
            ]
           ],
           "sequentialminus": [
            [
             0,
             "#0d0887"
            ],
            [
             0.1111111111111111,
             "#46039f"
            ],
            [
             0.2222222222222222,
             "#7201a8"
            ],
            [
             0.3333333333333333,
             "#9c179e"
            ],
            [
             0.4444444444444444,
             "#bd3786"
            ],
            [
             0.5555555555555556,
             "#d8576b"
            ],
            [
             0.6666666666666666,
             "#ed7953"
            ],
            [
             0.7777777777777778,
             "#fb9f3a"
            ],
            [
             0.8888888888888888,
             "#fdca26"
            ],
            [
             1,
             "#f0f921"
            ]
           ]
          },
          "colorway": [
           "#636efa",
           "#EF553B",
           "#00cc96",
           "#ab63fa",
           "#FFA15A",
           "#19d3f3",
           "#FF6692",
           "#B6E880",
           "#FF97FF",
           "#FECB52"
          ],
          "font": {
           "color": "#2a3f5f"
          },
          "geo": {
           "bgcolor": "white",
           "lakecolor": "white",
           "landcolor": "#E5ECF6",
           "showlakes": true,
           "showland": true,
           "subunitcolor": "white"
          },
          "hoverlabel": {
           "align": "left"
          },
          "hovermode": "closest",
          "mapbox": {
           "style": "light"
          },
          "paper_bgcolor": "white",
          "plot_bgcolor": "#E5ECF6",
          "polar": {
           "angularaxis": {
            "gridcolor": "white",
            "linecolor": "white",
            "ticks": ""
           },
           "bgcolor": "#E5ECF6",
           "radialaxis": {
            "gridcolor": "white",
            "linecolor": "white",
            "ticks": ""
           }
          },
          "scene": {
           "xaxis": {
            "backgroundcolor": "#E5ECF6",
            "gridcolor": "white",
            "gridwidth": 2,
            "linecolor": "white",
            "showbackground": true,
            "ticks": "",
            "zerolinecolor": "white"
           },
           "yaxis": {
            "backgroundcolor": "#E5ECF6",
            "gridcolor": "white",
            "gridwidth": 2,
            "linecolor": "white",
            "showbackground": true,
            "ticks": "",
            "zerolinecolor": "white"
           },
           "zaxis": {
            "backgroundcolor": "#E5ECF6",
            "gridcolor": "white",
            "gridwidth": 2,
            "linecolor": "white",
            "showbackground": true,
            "ticks": "",
            "zerolinecolor": "white"
           }
          },
          "shapedefaults": {
           "line": {
            "color": "#2a3f5f"
           }
          },
          "ternary": {
           "aaxis": {
            "gridcolor": "white",
            "linecolor": "white",
            "ticks": ""
           },
           "baxis": {
            "gridcolor": "white",
            "linecolor": "white",
            "ticks": ""
           },
           "bgcolor": "#E5ECF6",
           "caxis": {
            "gridcolor": "white",
            "linecolor": "white",
            "ticks": ""
           }
          },
          "title": {
           "x": 0.05
          },
          "xaxis": {
           "automargin": true,
           "gridcolor": "white",
           "linecolor": "white",
           "ticks": "",
           "title": {
            "standoff": 15
           },
           "zerolinecolor": "white",
           "zerolinewidth": 2
          },
          "yaxis": {
           "automargin": true,
           "gridcolor": "white",
           "linecolor": "white",
           "ticks": "",
           "title": {
            "standoff": 15
           },
           "zerolinecolor": "white",
           "zerolinewidth": 2
          }
         }
        },
        "width": 1000
       }
      }
     },
     "metadata": {},
     "output_type": "display_data"
    }
   ],
   "source": [
    "import plotly.graph_objects as go\n",
    "fig = go.Figure(data=go.Choropleth(\n",
    "    locations = co2_2011['CountryCode'],\n",
    "    z = co2_2011['Value'],\n",
    "    autocolorscale=True,\n",
    "    reversescale=True,\n",
    "    marker_line_color='darkgray',\n",
    "    marker_line_width=0.5,\n",
    "    #colorbar_tickprefix = 'metric tons pc ',\n",
    "    colorbar_title = 'CO2 emission metric tons per capita'))\n",
    "fig.update_layout(\n",
    "    autosize=False,\n",
    "    width=1000,\n",
    "    height=500,\n",
    "    margin=go.layout.Margin(\n",
    "        l=50,\n",
    "        r=50,\n",
    "        b=100,\n",
    "        t=100,\n",
    "        pad=4))\n",
    "fig.show()"
   ]
  },
  {
   "cell_type": "code",
   "execution_count": 18,
   "metadata": {},
   "outputs": [
    {
     "data": {
      "text/plain": [
       "array([], dtype=object)"
      ]
     },
     "execution_count": 18,
     "metadata": {},
     "output_type": "execute_result"
    }
   ],
   "source": [
    "short_data[short_data['IndicatorName'].str.contains('mpg')]['IndicatorName'].unique()"
   ]
  },
  {
   "cell_type": "markdown",
   "metadata": {},
   "source": [
    "### CO2 Emissions have different sources\n",
    "\n",
    "* CO2 emissions from gaseous fuel consumption (% of total)\n",
    "* CO2 emissions from liquid fuel consumption (% of total)\n",
    "* CO2 emissions from electricity and heat production, total (% of total fuel combustion)\n",
    "* CO2 emissions from manufacturing industries and construction (% of total fuel combustion)\n",
    "* CO2 emissions from transport (% of total fuel combustion)\n",
    "\n",
    "\n",
    "As we see, the values of these different CO2 emissions differ. So let's bring them to Per Capita unit first and store them in \n",
    "separate dataframes"
   ]
  },
  {
   "cell_type": "code",
   "execution_count": 19,
   "metadata": {},
   "outputs": [
    {
     "name": "stdout",
     "output_type": "stream",
     "text": [
      "Data contains period from 1960 to 2011\n"
     ]
    }
   ],
   "source": [
    "co2_mask = short_data['IndicatorName'].str.contains(\"CO2 emissions \\(metric tons per capita\")\n",
    "co2_us = short_data[co2_mask & country]\n",
    "co2_us = co2_us.reset_index(drop = True)\n",
    "print(f\"Data contains period from {co2_us['Year'].min()} to {co2_us['Year'].max()}\")"
   ]
  },
  {
   "cell_type": "code",
   "execution_count": 20,
   "metadata": {},
   "outputs": [
    {
     "name": "stdout",
     "output_type": "stream",
     "text": [
      "Data contains period from 1960 to 2011\n"
     ]
    }
   ],
   "source": [
    "gas_fuel_mask = short_data['IndicatorName'].str.contains(\"CO2 emissions from gaseous fuel consumption \\(% of total\")\n",
    "gas_fuel = short_data[gas_fuel_mask & country]\n",
    "gas_fuel = gas_fuel.reset_index(drop = True)\n",
    "print(f\"Data contains period from {gas_fuel['Year'].min()} to {gas_fuel['Year'].max()}\")"
   ]
  },
  {
   "cell_type": "code",
   "execution_count": 21,
   "metadata": {},
   "outputs": [
    {
     "name": "stdout",
     "output_type": "stream",
     "text": [
      "Data contains period from 1960 to 2011\n"
     ]
    }
   ],
   "source": [
    "liq_fuel_mask = short_data['IndicatorName'].str.contains(\"CO2 emissions from liquid fuel consumption \\(% of total\")\n",
    "liq_fuel = short_data[liq_fuel_mask & country]\n",
    "liq_fuel = liq_fuel.reset_index(drop = True)\n",
    "print(f\"Data contains period from {liq_fuel['Year'].min()} to {liq_fuel['Year'].max()}\")"
   ]
  },
  {
   "cell_type": "code",
   "execution_count": 22,
   "metadata": {
    "scrolled": true
   },
   "outputs": [
    {
     "name": "stdout",
     "output_type": "stream",
     "text": [
      "Data contains period from 1960 to 2011\n"
     ]
    }
   ],
   "source": [
    "sol_fuel_mask = short_data['IndicatorName'].str.contains(\"CO2 emissions from solid fuel consumption \\(% of total\")\n",
    "sol_fuel = short_data[sol_fuel_mask & country]\n",
    "sol_fuel = sol_fuel.reset_index(drop = True)\n",
    "print(f\"Data contains period from {sol_fuel['Year'].min()} to {sol_fuel['Year'].max()}\")"
   ]
  },
  {
   "cell_type": "markdown",
   "metadata": {},
   "source": [
    "The following three indicators are more of breakdown of the fuel usage based on the industry. Can be something interesting to look at later"
   ]
  },
  {
   "cell_type": "code",
   "execution_count": 23,
   "metadata": {},
   "outputs": [
    {
     "name": "stdout",
     "output_type": "stream",
     "text": [
      "Data contains period from 1960 to 2012\n"
     ]
    }
   ],
   "source": [
    "elec_fuel_mask = short_data['IndicatorName'].str.contains(\"CO2 emissions from electricity and heat production, total \\(% of total fuel combustion\")\n",
    "elec_fuel = short_data[elec_fuel_mask & country]\n",
    "elec_fuel = elec_fuel.reset_index(drop = False)\n",
    "print(f\"Data contains period from {elec_fuel['Year'].min()} to {elec_fuel['Year'].max()}\")"
   ]
  },
  {
   "cell_type": "code",
   "execution_count": 24,
   "metadata": {},
   "outputs": [
    {
     "name": "stdout",
     "output_type": "stream",
     "text": [
      "Data contains period from 1960 to 2012\n"
     ]
    }
   ],
   "source": [
    "ind_fuel_mask = short_data['IndicatorName'].str.contains(\"CO2 emissions from manufacturing industries and construction \\(% of total fuel combustion\")\n",
    "ind_fuel = short_data[ind_fuel_mask & country]\n",
    "ind_fuel = ind_fuel.reset_index(drop = False)\n",
    "print(f\"Data contains period from {ind_fuel['Year'].min()} to {ind_fuel['Year'].max()}\")"
   ]
  },
  {
   "cell_type": "code",
   "execution_count": 25,
   "metadata": {},
   "outputs": [
    {
     "name": "stdout",
     "output_type": "stream",
     "text": [
      "Data contains period from 1960 to 2012\n"
     ]
    }
   ],
   "source": [
    "trans_fuel_mask = short_data['IndicatorName'].str.contains(\"CO2 emissions from transport \\(% of total fuel combustion\")\n",
    "trans_fuel = short_data[trans_fuel_mask & country]\n",
    "trans_fuel = trans_fuel.reset_index(drop = True)\n",
    "print(f\"Data contains period from {trans_fuel['Year'].min()} to {trans_fuel['Year'].max()}\")"
   ]
  },
  {
   "cell_type": "markdown",
   "metadata": {},
   "source": [
    "We can see that some of these indicators does not possess data for 2012 year. Therefore it is important to restrict our analysis to the period from 1960 to 2011. For that, we have to leave 2012 data out from all applicable datasets."
   ]
  },
  {
   "cell_type": "code",
   "execution_count": 26,
   "metadata": {},
   "outputs": [
    {
     "name": "stdout",
     "output_type": "stream",
     "text": [
      "Data contains period from 1960 to 2011\n",
      "Data contains period from 1960 to 2011\n",
      "Data contains period from 1960 to 2011\n"
     ]
    }
   ],
   "source": [
    "elec_fuel = elec_fuel[elec_fuel['Year'] < 2012]\n",
    "ind_fuel = ind_fuel[ind_fuel['Year'] < 2012]\n",
    "trans_fuel = trans_fuel[trans_fuel['Year'] < 2012]\n",
    "print(f\"Data contains period from {elec_fuel['Year'].min()} to {elec_fuel['Year'].max()}\")\n",
    "print(f\"Data contains period from {ind_fuel['Year'].min()} to {ind_fuel['Year'].max()}\")\n",
    "print(f\"Data contains period from {trans_fuel['Year'].min()} to {trans_fuel['Year'].max()}\")"
   ]
  },
  {
   "cell_type": "markdown",
   "metadata": {},
   "source": [
    "Let's fix the values we are going to be workign with. All mentioned CO2 emission sources will be compared against the CO2 emissions (metric tons per capita), therefore it is important that the values for all indicators are in metric tons per capita as well.\n"
   ]
  },
  {
   "cell_type": "code",
   "execution_count": 27,
   "metadata": {},
   "outputs": [],
   "source": [
    "gas_fuel['gas_val_pc'] = gas_fuel['Value']/100 * co2_us['Value']\n",
    "liq_fuel['liq_val_pc'] = liq_fuel['Value']/100 * co2_us['Value']\n",
    "sol_fuel['sol_val_pc'] = sol_fuel['Value']/100 * co2_us['Value']"
   ]
  },
  {
   "cell_type": "markdown",
   "metadata": {},
   "source": [
    "It is time to merge our three datasets into one and conduct data analysis process. But before that we have to make sure that the indicator columns are named distinctively."
   ]
  },
  {
   "cell_type": "code",
   "execution_count": 28,
   "metadata": {},
   "outputs": [],
   "source": [
    "co2_us = co2_us.rename(columns={'IndicatorName': 'CO2_Indicator', 'Value': 'co2_val_pc'})\n",
    "gas_fuel = gas_fuel.rename(columns={'IndicatorName': 'Gas_Indicator', 'Value': 'Gas_Val'})\n",
    "liq_fuel = liq_fuel.rename(columns={'IndicatorName': 'Liquid_Indicator', 'Value': 'Liq_Val'})\n",
    "sol_fuel = sol_fuel.rename(columns={'IndicatorName': 'Solid_Indicator', 'Value': 'Sol_Val'})"
   ]
  },
  {
   "cell_type": "code",
   "execution_count": 29,
   "metadata": {},
   "outputs": [],
   "source": [
    "merge1 = pd.merge(co2_us, gas_fuel, how='outer')\n",
    "merge2 = pd.merge(liq_fuel, sol_fuel, how='outer')\n",
    "fuel_df = pd.merge(merge1, merge2, how='outer')"
   ]
  },
  {
   "cell_type": "markdown",
   "metadata": {},
   "source": [
    "Let's see the final percentage of CO2 emissions from  three fuel consumption indicator values per capita of the total CO2 emission per capita by adding one column: "
   ]
  },
  {
   "cell_type": "code",
   "execution_count": 30,
   "metadata": {},
   "outputs": [
    {
     "data": {
      "text/html": [
       "<div>\n",
       "<style scoped>\n",
       "    .dataframe tbody tr th:only-of-type {\n",
       "        vertical-align: middle;\n",
       "    }\n",
       "\n",
       "    .dataframe tbody tr th {\n",
       "        vertical-align: top;\n",
       "    }\n",
       "\n",
       "    .dataframe thead th {\n",
       "        text-align: right;\n",
       "    }\n",
       "</style>\n",
       "<table border=\"1\" class=\"dataframe\">\n",
       "  <thead>\n",
       "    <tr style=\"text-align: right;\">\n",
       "      <th></th>\n",
       "      <th>CountryCode</th>\n",
       "      <th>CO2_Indicator</th>\n",
       "      <th>Year</th>\n",
       "      <th>co2_val_pc</th>\n",
       "      <th>Gas_Indicator</th>\n",
       "      <th>Gas_Val</th>\n",
       "      <th>gas_val_pc</th>\n",
       "      <th>Liquid_Indicator</th>\n",
       "      <th>Liq_Val</th>\n",
       "      <th>liq_val_pc</th>\n",
       "      <th>Solid_Indicator</th>\n",
       "      <th>Sol_Val</th>\n",
       "      <th>sol_val_pc</th>\n",
       "      <th>% of Total</th>\n",
       "    </tr>\n",
       "  </thead>\n",
       "  <tbody>\n",
       "    <tr>\n",
       "      <td>0</td>\n",
       "      <td>USA</td>\n",
       "      <td>CO2 emissions (metric tons per capita)</td>\n",
       "      <td>1960</td>\n",
       "      <td>15.999779</td>\n",
       "      <td>CO2 emissions from gaseous fuel consumption (%...</td>\n",
       "      <td>21.812762</td>\n",
       "      <td>3.489994</td>\n",
       "      <td>CO2 emissions from liquid fuel consumption (% ...</td>\n",
       "      <td>44.372701</td>\n",
       "      <td>7.099534</td>\n",
       "      <td>CO2 emissions from solid fuel consumption (% o...</td>\n",
       "      <td>31.781809</td>\n",
       "      <td>5.085019</td>\n",
       "      <td>97.967271</td>\n",
       "    </tr>\n",
       "    <tr>\n",
       "      <td>1</td>\n",
       "      <td>USA</td>\n",
       "      <td>CO2 emissions (metric tons per capita)</td>\n",
       "      <td>1961</td>\n",
       "      <td>15.681256</td>\n",
       "      <td>CO2 emissions from gaseous fuel consumption (%...</td>\n",
       "      <td>22.111949</td>\n",
       "      <td>3.467431</td>\n",
       "      <td>CO2 emissions from liquid fuel consumption (% ...</td>\n",
       "      <td>45.074670</td>\n",
       "      <td>7.068274</td>\n",
       "      <td>CO2 emissions from solid fuel consumption (% o...</td>\n",
       "      <td>30.833803</td>\n",
       "      <td>4.835127</td>\n",
       "      <td>98.020422</td>\n",
       "    </tr>\n",
       "    <tr>\n",
       "      <td>2</td>\n",
       "      <td>USA</td>\n",
       "      <td>CO2 emissions (metric tons per capita)</td>\n",
       "      <td>1962</td>\n",
       "      <td>16.013937</td>\n",
       "      <td>CO2 emissions from gaseous fuel consumption (%...</td>\n",
       "      <td>22.660655</td>\n",
       "      <td>3.628863</td>\n",
       "      <td>CO2 emissions from liquid fuel consumption (% ...</td>\n",
       "      <td>44.718697</td>\n",
       "      <td>7.161224</td>\n",
       "      <td>CO2 emissions from solid fuel consumption (% o...</td>\n",
       "      <td>30.850619</td>\n",
       "      <td>4.940399</td>\n",
       "      <td>98.229970</td>\n",
       "    </tr>\n",
       "    <tr>\n",
       "      <td>3</td>\n",
       "      <td>USA</td>\n",
       "      <td>CO2 emissions (metric tons per capita)</td>\n",
       "      <td>1963</td>\n",
       "      <td>16.482762</td>\n",
       "      <td>CO2 emissions from gaseous fuel consumption (%...</td>\n",
       "      <td>23.051955</td>\n",
       "      <td>3.799599</td>\n",
       "      <td>CO2 emissions from liquid fuel consumption (% ...</td>\n",
       "      <td>43.612321</td>\n",
       "      <td>7.188515</td>\n",
       "      <td>CO2 emissions from solid fuel consumption (% o...</td>\n",
       "      <td>31.668591</td>\n",
       "      <td>5.219858</td>\n",
       "      <td>98.332867</td>\n",
       "    </tr>\n",
       "    <tr>\n",
       "      <td>4</td>\n",
       "      <td>USA</td>\n",
       "      <td>CO2 emissions (metric tons per capita)</td>\n",
       "      <td>1964</td>\n",
       "      <td>16.968119</td>\n",
       "      <td>CO2 emissions from gaseous fuel consumption (%...</td>\n",
       "      <td>23.332109</td>\n",
       "      <td>3.959020</td>\n",
       "      <td>CO2 emissions from liquid fuel consumption (% ...</td>\n",
       "      <td>42.845848</td>\n",
       "      <td>7.270134</td>\n",
       "      <td>CO2 emissions from solid fuel consumption (% o...</td>\n",
       "      <td>32.249262</td>\n",
       "      <td>5.472093</td>\n",
       "      <td>98.427220</td>\n",
       "    </tr>\n",
       "    <tr>\n",
       "      <td>5</td>\n",
       "      <td>USA</td>\n",
       "      <td>CO2 emissions (metric tons per capita)</td>\n",
       "      <td>1965</td>\n",
       "      <td>17.451725</td>\n",
       "      <td>CO2 emissions from gaseous fuel consumption (%...</td>\n",
       "      <td>23.098302</td>\n",
       "      <td>4.031052</td>\n",
       "      <td>CO2 emissions from liquid fuel consumption (% ...</td>\n",
       "      <td>43.229845</td>\n",
       "      <td>7.544354</td>\n",
       "      <td>CO2 emissions from solid fuel consumption (% o...</td>\n",
       "      <td>32.189231</td>\n",
       "      <td>5.617576</td>\n",
       "      <td>98.517378</td>\n",
       "    </tr>\n",
       "    <tr>\n",
       "      <td>6</td>\n",
       "      <td>USA</td>\n",
       "      <td>CO2 emissions (metric tons per capita)</td>\n",
       "      <td>1966</td>\n",
       "      <td>18.121073</td>\n",
       "      <td>CO2 emissions from gaseous fuel consumption (%...</td>\n",
       "      <td>23.664387</td>\n",
       "      <td>4.288241</td>\n",
       "      <td>CO2 emissions from liquid fuel consumption (% ...</td>\n",
       "      <td>42.980523</td>\n",
       "      <td>7.788532</td>\n",
       "      <td>CO2 emissions from solid fuel consumption (% o...</td>\n",
       "      <td>31.827190</td>\n",
       "      <td>5.767428</td>\n",
       "      <td>98.472100</td>\n",
       "    </tr>\n",
       "    <tr>\n",
       "      <td>7</td>\n",
       "      <td>USA</td>\n",
       "      <td>CO2 emissions (metric tons per capita)</td>\n",
       "      <td>1967</td>\n",
       "      <td>18.598318</td>\n",
       "      <td>CO2 emissions from gaseous fuel consumption (%...</td>\n",
       "      <td>23.865656</td>\n",
       "      <td>4.438611</td>\n",
       "      <td>CO2 emissions from liquid fuel consumption (% ...</td>\n",
       "      <td>43.036269</td>\n",
       "      <td>8.004022</td>\n",
       "      <td>CO2 emissions from solid fuel consumption (% o...</td>\n",
       "      <td>31.496018</td>\n",
       "      <td>5.857729</td>\n",
       "      <td>98.397943</td>\n",
       "    </tr>\n",
       "    <tr>\n",
       "      <td>8</td>\n",
       "      <td>USA</td>\n",
       "      <td>CO2 emissions (metric tons per capita)</td>\n",
       "      <td>1968</td>\n",
       "      <td>19.089389</td>\n",
       "      <td>CO2 emissions from gaseous fuel consumption (%...</td>\n",
       "      <td>24.459428</td>\n",
       "      <td>4.669155</td>\n",
       "      <td>CO2 emissions from liquid fuel consumption (% ...</td>\n",
       "      <td>44.130759</td>\n",
       "      <td>8.424292</td>\n",
       "      <td>CO2 emissions from solid fuel consumption (% o...</td>\n",
       "      <td>29.768477</td>\n",
       "      <td>5.682620</td>\n",
       "      <td>98.358665</td>\n",
       "    </tr>\n",
       "    <tr>\n",
       "      <td>9</td>\n",
       "      <td>USA</td>\n",
       "      <td>CO2 emissions (metric tons per capita)</td>\n",
       "      <td>1969</td>\n",
       "      <td>19.857946</td>\n",
       "      <td>CO2 emissions from gaseous fuel consumption (%...</td>\n",
       "      <td>25.316270</td>\n",
       "      <td>5.027291</td>\n",
       "      <td>CO2 emissions from liquid fuel consumption (% ...</td>\n",
       "      <td>44.303040</td>\n",
       "      <td>8.797674</td>\n",
       "      <td>CO2 emissions from solid fuel consumption (% o...</td>\n",
       "      <td>28.795536</td>\n",
       "      <td>5.718202</td>\n",
       "      <td>98.414846</td>\n",
       "    </tr>\n",
       "    <tr>\n",
       "      <td>10</td>\n",
       "      <td>USA</td>\n",
       "      <td>CO2 emissions (metric tons per capita)</td>\n",
       "      <td>1970</td>\n",
       "      <td>21.111252</td>\n",
       "      <td>CO2 emissions from gaseous fuel consumption (%...</td>\n",
       "      <td>24.488375</td>\n",
       "      <td>5.169803</td>\n",
       "      <td>CO2 emissions from liquid fuel consumption (% ...</td>\n",
       "      <td>47.119321</td>\n",
       "      <td>9.947479</td>\n",
       "      <td>CO2 emissions from solid fuel consumption (% o...</td>\n",
       "      <td>27.005607</td>\n",
       "      <td>5.701222</td>\n",
       "      <td>98.613303</td>\n",
       "    </tr>\n",
       "    <tr>\n",
       "      <td>11</td>\n",
       "      <td>USA</td>\n",
       "      <td>CO2 emissions (metric tons per capita)</td>\n",
       "      <td>1971</td>\n",
       "      <td>20.980203</td>\n",
       "      <td>CO2 emissions from gaseous fuel consumption (%...</td>\n",
       "      <td>25.198173</td>\n",
       "      <td>5.286628</td>\n",
       "      <td>CO2 emissions from liquid fuel consumption (% ...</td>\n",
       "      <td>48.178439</td>\n",
       "      <td>10.107935</td>\n",
       "      <td>CO2 emissions from solid fuel consumption (% o...</td>\n",
       "      <td>25.438893</td>\n",
       "      <td>5.337132</td>\n",
       "      <td>98.815506</td>\n",
       "    </tr>\n",
       "    <tr>\n",
       "      <td>12</td>\n",
       "      <td>USA</td>\n",
       "      <td>CO2 emissions (metric tons per capita)</td>\n",
       "      <td>1972</td>\n",
       "      <td>21.748642</td>\n",
       "      <td>CO2 emissions from gaseous fuel consumption (%...</td>\n",
       "      <td>24.459986</td>\n",
       "      <td>5.319715</td>\n",
       "      <td>CO2 emissions from liquid fuel consumption (% ...</td>\n",
       "      <td>49.749292</td>\n",
       "      <td>10.819795</td>\n",
       "      <td>CO2 emissions from solid fuel consumption (% o...</td>\n",
       "      <td>24.660970</td>\n",
       "      <td>5.363426</td>\n",
       "      <td>98.870247</td>\n",
       "    </tr>\n",
       "    <tr>\n",
       "      <td>13</td>\n",
       "      <td>USA</td>\n",
       "      <td>CO2 emissions (metric tons per capita)</td>\n",
       "      <td>1973</td>\n",
       "      <td>22.510582</td>\n",
       "      <td>CO2 emissions from gaseous fuel consumption (%...</td>\n",
       "      <td>23.151738</td>\n",
       "      <td>5.211591</td>\n",
       "      <td>CO2 emissions from liquid fuel consumption (% ...</td>\n",
       "      <td>50.342777</td>\n",
       "      <td>11.332452</td>\n",
       "      <td>CO2 emissions from solid fuel consumption (% o...</td>\n",
       "      <td>25.398203</td>\n",
       "      <td>5.717283</td>\n",
       "      <td>98.892719</td>\n",
       "    </tr>\n",
       "    <tr>\n",
       "      <td>14</td>\n",
       "      <td>USA</td>\n",
       "      <td>CO2 emissions (metric tons per capita)</td>\n",
       "      <td>1974</td>\n",
       "      <td>21.502930</td>\n",
       "      <td>CO2 emissions from gaseous fuel consumption (%...</td>\n",
       "      <td>22.899494</td>\n",
       "      <td>4.924062</td>\n",
       "      <td>CO2 emissions from liquid fuel consumption (% ...</td>\n",
       "      <td>50.055382</td>\n",
       "      <td>10.763374</td>\n",
       "      <td>CO2 emissions from solid fuel consumption (% o...</td>\n",
       "      <td>26.035969</td>\n",
       "      <td>5.598496</td>\n",
       "      <td>98.990845</td>\n",
       "    </tr>\n",
       "    <tr>\n",
       "      <td>15</td>\n",
       "      <td>USA</td>\n",
       "      <td>CO2 emissions (metric tons per capita)</td>\n",
       "      <td>1975</td>\n",
       "      <td>20.402224</td>\n",
       "      <td>CO2 emissions from gaseous fuel consumption (%...</td>\n",
       "      <td>22.216480</td>\n",
       "      <td>4.532656</td>\n",
       "      <td>CO2 emissions from liquid fuel consumption (% ...</td>\n",
       "      <td>50.758020</td>\n",
       "      <td>10.355765</td>\n",
       "      <td>CO2 emissions from solid fuel consumption (% o...</td>\n",
       "      <td>26.148099</td>\n",
       "      <td>5.334794</td>\n",
       "      <td>99.122599</td>\n",
       "    </tr>\n",
       "    <tr>\n",
       "      <td>16</td>\n",
       "      <td>USA</td>\n",
       "      <td>CO2 emissions (metric tons per capita)</td>\n",
       "      <td>1976</td>\n",
       "      <td>21.157615</td>\n",
       "      <td>CO2 emissions from gaseous fuel consumption (%...</td>\n",
       "      <td>21.574892</td>\n",
       "      <td>4.564733</td>\n",
       "      <td>CO2 emissions from liquid fuel consumption (% ...</td>\n",
       "      <td>49.886487</td>\n",
       "      <td>10.554791</td>\n",
       "      <td>CO2 emissions from solid fuel consumption (% o...</td>\n",
       "      <td>27.648799</td>\n",
       "      <td>5.849827</td>\n",
       "      <td>99.110178</td>\n",
       "    </tr>\n",
       "    <tr>\n",
       "      <td>17</td>\n",
       "      <td>USA</td>\n",
       "      <td>CO2 emissions (metric tons per capita)</td>\n",
       "      <td>1977</td>\n",
       "      <td>21.532484</td>\n",
       "      <td>CO2 emissions from gaseous fuel consumption (%...</td>\n",
       "      <td>20.320901</td>\n",
       "      <td>4.375595</td>\n",
       "      <td>CO2 emissions from liquid fuel consumption (% ...</td>\n",
       "      <td>51.551420</td>\n",
       "      <td>11.100301</td>\n",
       "      <td>CO2 emissions from solid fuel consumption (% o...</td>\n",
       "      <td>27.210677</td>\n",
       "      <td>5.859135</td>\n",
       "      <td>99.082997</td>\n",
       "    </tr>\n",
       "    <tr>\n",
       "      <td>18</td>\n",
       "      <td>USA</td>\n",
       "      <td>CO2 emissions (metric tons per capita)</td>\n",
       "      <td>1978</td>\n",
       "      <td>21.973005</td>\n",
       "      <td>CO2 emissions from gaseous fuel consumption (%...</td>\n",
       "      <td>20.058557</td>\n",
       "      <td>4.407468</td>\n",
       "      <td>CO2 emissions from liquid fuel consumption (% ...</td>\n",
       "      <td>51.005361</td>\n",
       "      <td>11.207410</td>\n",
       "      <td>CO2 emissions from solid fuel consumption (% o...</td>\n",
       "      <td>27.979082</td>\n",
       "      <td>6.147845</td>\n",
       "      <td>99.042999</td>\n",
       "    </tr>\n",
       "    <tr>\n",
       "      <td>19</td>\n",
       "      <td>USA</td>\n",
       "      <td>CO2 emissions (metric tons per capita)</td>\n",
       "      <td>1979</td>\n",
       "      <td>21.780437</td>\n",
       "      <td>CO2 emissions from gaseous fuel consumption (%...</td>\n",
       "      <td>20.723900</td>\n",
       "      <td>4.513756</td>\n",
       "      <td>CO2 emissions from liquid fuel consumption (% ...</td>\n",
       "      <td>49.416637</td>\n",
       "      <td>10.763159</td>\n",
       "      <td>CO2 emissions from solid fuel consumption (% o...</td>\n",
       "      <td>28.885521</td>\n",
       "      <td>6.291393</td>\n",
       "      <td>99.026058</td>\n",
       "    </tr>\n",
       "    <tr>\n",
       "      <td>20</td>\n",
       "      <td>USA</td>\n",
       "      <td>CO2 emissions (metric tons per capita)</td>\n",
       "      <td>1980</td>\n",
       "      <td>20.786488</td>\n",
       "      <td>CO2 emissions from gaseous fuel consumption (%...</td>\n",
       "      <td>21.215638</td>\n",
       "      <td>4.409986</td>\n",
       "      <td>CO2 emissions from liquid fuel consumption (% ...</td>\n",
       "      <td>46.970686</td>\n",
       "      <td>9.763556</td>\n",
       "      <td>CO2 emissions from solid fuel consumption (% o...</td>\n",
       "      <td>30.937144</td>\n",
       "      <td>6.430746</td>\n",
       "      <td>99.123468</td>\n",
       "    </tr>\n",
       "    <tr>\n",
       "      <td>21</td>\n",
       "      <td>USA</td>\n",
       "      <td>CO2 emissions (metric tons per capita)</td>\n",
       "      <td>1981</td>\n",
       "      <td>19.766764</td>\n",
       "      <td>CO2 emissions from gaseous fuel consumption (%...</td>\n",
       "      <td>21.401153</td>\n",
       "      <td>4.230315</td>\n",
       "      <td>CO2 emissions from liquid fuel consumption (% ...</td>\n",
       "      <td>44.913835</td>\n",
       "      <td>8.878012</td>\n",
       "      <td>CO2 emissions from solid fuel consumption (% o...</td>\n",
       "      <td>32.842115</td>\n",
       "      <td>6.491823</td>\n",
       "      <td>99.157103</td>\n",
       "    </tr>\n",
       "    <tr>\n",
       "      <td>22</td>\n",
       "      <td>USA</td>\n",
       "      <td>CO2 emissions (metric tons per capita)</td>\n",
       "      <td>1982</td>\n",
       "      <td>18.590495</td>\n",
       "      <td>CO2 emissions from gaseous fuel consumption (%...</td>\n",
       "      <td>20.978645</td>\n",
       "      <td>3.900034</td>\n",
       "      <td>CO2 emissions from liquid fuel consumption (% ...</td>\n",
       "      <td>44.829671</td>\n",
       "      <td>8.334058</td>\n",
       "      <td>CO2 emissions from solid fuel consumption (% o...</td>\n",
       "      <td>33.399832</td>\n",
       "      <td>6.209194</td>\n",
       "      <td>99.208147</td>\n",
       "    </tr>\n",
       "    <tr>\n",
       "      <td>23</td>\n",
       "      <td>USA</td>\n",
       "      <td>CO2 emissions (metric tons per capita)</td>\n",
       "      <td>1983</td>\n",
       "      <td>18.571544</td>\n",
       "      <td>CO2 emissions from gaseous fuel consumption (%...</td>\n",
       "      <td>19.766292</td>\n",
       "      <td>3.670906</td>\n",
       "      <td>CO2 emissions from liquid fuel consumption (% ...</td>\n",
       "      <td>44.409104</td>\n",
       "      <td>8.247456</td>\n",
       "      <td>CO2 emissions from solid fuel consumption (% o...</td>\n",
       "      <td>34.963823</td>\n",
       "      <td>6.493322</td>\n",
       "      <td>99.139219</td>\n",
       "    </tr>\n",
       "    <tr>\n",
       "      <td>24</td>\n",
       "      <td>USA</td>\n",
       "      <td>CO2 emissions (metric tons per capita)</td>\n",
       "      <td>1984</td>\n",
       "      <td>18.976750</td>\n",
       "      <td>CO2 emissions from gaseous fuel consumption (%...</td>\n",
       "      <td>19.819550</td>\n",
       "      <td>3.761107</td>\n",
       "      <td>CO2 emissions from liquid fuel consumption (% ...</td>\n",
       "      <td>43.784558</td>\n",
       "      <td>8.308886</td>\n",
       "      <td>CO2 emissions from solid fuel consumption (% o...</td>\n",
       "      <td>35.470864</td>\n",
       "      <td>6.731217</td>\n",
       "      <td>99.074972</td>\n",
       "    </tr>\n",
       "    <tr>\n",
       "      <td>25</td>\n",
       "      <td>USA</td>\n",
       "      <td>CO2 emissions (metric tons per capita)</td>\n",
       "      <td>1985</td>\n",
       "      <td>18.882313</td>\n",
       "      <td>CO2 emissions from gaseous fuel consumption (%...</td>\n",
       "      <td>19.157951</td>\n",
       "      <td>3.617464</td>\n",
       "      <td>CO2 emissions from liquid fuel consumption (% ...</td>\n",
       "      <td>43.696388</td>\n",
       "      <td>8.250889</td>\n",
       "      <td>CO2 emissions from solid fuel consumption (% o...</td>\n",
       "      <td>36.238002</td>\n",
       "      <td>6.842573</td>\n",
       "      <td>99.092342</td>\n",
       "    </tr>\n",
       "    <tr>\n",
       "      <td>26</td>\n",
       "      <td>USA</td>\n",
       "      <td>CO2 emissions (metric tons per capita)</td>\n",
       "      <td>1986</td>\n",
       "      <td>18.720723</td>\n",
       "      <td>CO2 emissions from gaseous fuel consumption (%...</td>\n",
       "      <td>18.183998</td>\n",
       "      <td>3.404176</td>\n",
       "      <td>CO2 emissions from liquid fuel consumption (% ...</td>\n",
       "      <td>45.531371</td>\n",
       "      <td>8.523802</td>\n",
       "      <td>CO2 emissions from solid fuel consumption (% o...</td>\n",
       "      <td>35.363693</td>\n",
       "      <td>6.620339</td>\n",
       "      <td>99.079062</td>\n",
       "    </tr>\n",
       "    <tr>\n",
       "      <td>27</td>\n",
       "      <td>USA</td>\n",
       "      <td>CO2 emissions (metric tons per capita)</td>\n",
       "      <td>1987</td>\n",
       "      <td>19.350334</td>\n",
       "      <td>CO2 emissions from gaseous fuel consumption (%...</td>\n",
       "      <td>18.464707</td>\n",
       "      <td>3.572983</td>\n",
       "      <td>CO2 emissions from liquid fuel consumption (% ...</td>\n",
       "      <td>44.746510</td>\n",
       "      <td>8.658599</td>\n",
       "      <td>CO2 emissions from solid fuel consumption (% o...</td>\n",
       "      <td>35.880006</td>\n",
       "      <td>6.942901</td>\n",
       "      <td>99.091223</td>\n",
       "    </tr>\n",
       "    <tr>\n",
       "      <td>28</td>\n",
       "      <td>USA</td>\n",
       "      <td>CO2 emissions (metric tons per capita)</td>\n",
       "      <td>1988</td>\n",
       "      <td>20.010413</td>\n",
       "      <td>CO2 emissions from gaseous fuel consumption (%...</td>\n",
       "      <td>18.547538</td>\n",
       "      <td>3.711439</td>\n",
       "      <td>CO2 emissions from liquid fuel consumption (% ...</td>\n",
       "      <td>44.592131</td>\n",
       "      <td>8.923070</td>\n",
       "      <td>CO2 emissions from solid fuel consumption (% o...</td>\n",
       "      <td>35.980330</td>\n",
       "      <td>7.199813</td>\n",
       "      <td>99.120000</td>\n",
       "    </tr>\n",
       "    <tr>\n",
       "      <td>29</td>\n",
       "      <td>USA</td>\n",
       "      <td>CO2 emissions (metric tons per capita)</td>\n",
       "      <td>1989</td>\n",
       "      <td>20.075770</td>\n",
       "      <td>CO2 emissions from gaseous fuel consumption (%...</td>\n",
       "      <td>18.954045</td>\n",
       "      <td>3.805170</td>\n",
       "      <td>CO2 emissions from liquid fuel consumption (% ...</td>\n",
       "      <td>43.884721</td>\n",
       "      <td>8.810196</td>\n",
       "      <td>CO2 emissions from solid fuel consumption (% o...</td>\n",
       "      <td>36.290567</td>\n",
       "      <td>7.285611</td>\n",
       "      <td>99.129333</td>\n",
       "    </tr>\n",
       "    <tr>\n",
       "      <td>30</td>\n",
       "      <td>USA</td>\n",
       "      <td>CO2 emissions (metric tons per capita)</td>\n",
       "      <td>1990</td>\n",
       "      <td>19.323368</td>\n",
       "      <td>CO2 emissions from gaseous fuel consumption (%...</td>\n",
       "      <td>20.817305</td>\n",
       "      <td>4.022605</td>\n",
       "      <td>CO2 emissions from liquid fuel consumption (% ...</td>\n",
       "      <td>41.336297</td>\n",
       "      <td>7.987565</td>\n",
       "      <td>CO2 emissions from solid fuel consumption (% o...</td>\n",
       "      <td>36.940131</td>\n",
       "      <td>7.138077</td>\n",
       "      <td>99.093733</td>\n",
       "    </tr>\n",
       "    <tr>\n",
       "      <td>31</td>\n",
       "      <td>USA</td>\n",
       "      <td>CO2 emissions (metric tons per capita)</td>\n",
       "      <td>1991</td>\n",
       "      <td>19.062237</td>\n",
       "      <td>CO2 emissions from gaseous fuel consumption (%...</td>\n",
       "      <td>21.812580</td>\n",
       "      <td>4.157966</td>\n",
       "      <td>CO2 emissions from liquid fuel consumption (% ...</td>\n",
       "      <td>40.670653</td>\n",
       "      <td>7.752736</td>\n",
       "      <td>CO2 emissions from solid fuel consumption (% o...</td>\n",
       "      <td>36.618948</td>\n",
       "      <td>6.980391</td>\n",
       "      <td>99.102181</td>\n",
       "    </tr>\n",
       "    <tr>\n",
       "      <td>32</td>\n",
       "      <td>USA</td>\n",
       "      <td>CO2 emissions (metric tons per capita)</td>\n",
       "      <td>1992</td>\n",
       "      <td>19.145556</td>\n",
       "      <td>CO2 emissions from gaseous fuel consumption (%...</td>\n",
       "      <td>21.839510</td>\n",
       "      <td>4.181295</td>\n",
       "      <td>CO2 emissions from liquid fuel consumption (% ...</td>\n",
       "      <td>40.851210</td>\n",
       "      <td>7.821191</td>\n",
       "      <td>CO2 emissions from solid fuel consumption (% o...</td>\n",
       "      <td>36.405579</td>\n",
       "      <td>6.970050</td>\n",
       "      <td>99.096299</td>\n",
       "    </tr>\n",
       "    <tr>\n",
       "      <td>33</td>\n",
       "      <td>USA</td>\n",
       "      <td>CO2 emissions (metric tons per capita)</td>\n",
       "      <td>1993</td>\n",
       "      <td>19.363463</td>\n",
       "      <td>CO2 emissions from gaseous fuel consumption (%...</td>\n",
       "      <td>21.966451</td>\n",
       "      <td>4.253465</td>\n",
       "      <td>CO2 emissions from liquid fuel consumption (% ...</td>\n",
       "      <td>40.675836</td>\n",
       "      <td>7.876250</td>\n",
       "      <td>CO2 emissions from solid fuel consumption (% o...</td>\n",
       "      <td>36.370532</td>\n",
       "      <td>7.042594</td>\n",
       "      <td>99.012818</td>\n",
       "    </tr>\n",
       "    <tr>\n",
       "      <td>34</td>\n",
       "      <td>USA</td>\n",
       "      <td>CO2 emissions (metric tons per capita)</td>\n",
       "      <td>1994</td>\n",
       "      <td>19.376556</td>\n",
       "      <td>CO2 emissions from gaseous fuel consumption (%...</td>\n",
       "      <td>22.122073</td>\n",
       "      <td>4.286496</td>\n",
       "      <td>CO2 emissions from liquid fuel consumption (% ...</td>\n",
       "      <td>40.723636</td>\n",
       "      <td>7.890838</td>\n",
       "      <td>CO2 emissions from solid fuel consumption (% o...</td>\n",
       "      <td>36.136718</td>\n",
       "      <td>7.002052</td>\n",
       "      <td>98.982427</td>\n",
       "    </tr>\n",
       "    <tr>\n",
       "      <td>35</td>\n",
       "      <td>USA</td>\n",
       "      <td>CO2 emissions (metric tons per capita)</td>\n",
       "      <td>1995</td>\n",
       "      <td>19.295660</td>\n",
       "      <td>CO2 emissions from gaseous fuel consumption (%...</td>\n",
       "      <td>22.718942</td>\n",
       "      <td>4.383770</td>\n",
       "      <td>CO2 emissions from liquid fuel consumption (% ...</td>\n",
       "      <td>40.407794</td>\n",
       "      <td>7.796951</td>\n",
       "      <td>CO2 emissions from solid fuel consumption (% o...</td>\n",
       "      <td>35.815346</td>\n",
       "      <td>6.910807</td>\n",
       "      <td>98.942082</td>\n",
       "    </tr>\n",
       "    <tr>\n",
       "      <td>36</td>\n",
       "      <td>USA</td>\n",
       "      <td>CO2 emissions (metric tons per capita)</td>\n",
       "      <td>1996</td>\n",
       "      <td>19.527891</td>\n",
       "      <td>CO2 emissions from gaseous fuel consumption (%...</td>\n",
       "      <td>22.069768</td>\n",
       "      <td>4.309760</td>\n",
       "      <td>CO2 emissions from liquid fuel consumption (% ...</td>\n",
       "      <td>40.573607</td>\n",
       "      <td>7.923170</td>\n",
       "      <td>CO2 emissions from solid fuel consumption (% o...</td>\n",
       "      <td>36.311737</td>\n",
       "      <td>7.090916</td>\n",
       "      <td>98.955113</td>\n",
       "    </tr>\n",
       "    <tr>\n",
       "      <td>37</td>\n",
       "      <td>USA</td>\n",
       "      <td>CO2 emissions (metric tons per capita)</td>\n",
       "      <td>1997</td>\n",
       "      <td>19.714276</td>\n",
       "      <td>CO2 emissions from gaseous fuel consumption (%...</td>\n",
       "      <td>21.721948</td>\n",
       "      <td>4.282325</td>\n",
       "      <td>CO2 emissions from liquid fuel consumption (% ...</td>\n",
       "      <td>40.717404</td>\n",
       "      <td>8.027141</td>\n",
       "      <td>CO2 emissions from solid fuel consumption (% o...</td>\n",
       "      <td>36.521858</td>\n",
       "      <td>7.200020</td>\n",
       "      <td>98.961210</td>\n",
       "    </tr>\n",
       "    <tr>\n",
       "      <td>38</td>\n",
       "      <td>USA</td>\n",
       "      <td>CO2 emissions (metric tons per capita)</td>\n",
       "      <td>1998</td>\n",
       "      <td>19.615155</td>\n",
       "      <td>CO2 emissions from gaseous fuel consumption (%...</td>\n",
       "      <td>21.294265</td>\n",
       "      <td>4.176903</td>\n",
       "      <td>CO2 emissions from liquid fuel consumption (% ...</td>\n",
       "      <td>41.328001</td>\n",
       "      <td>8.106551</td>\n",
       "      <td>CO2 emissions from solid fuel consumption (% o...</td>\n",
       "      <td>36.486892</td>\n",
       "      <td>7.156960</td>\n",
       "      <td>99.109158</td>\n",
       "    </tr>\n",
       "    <tr>\n",
       "      <td>39</td>\n",
       "      <td>USA</td>\n",
       "      <td>CO2 emissions (metric tons per capita)</td>\n",
       "      <td>1999</td>\n",
       "      <td>19.747815</td>\n",
       "      <td>CO2 emissions from gaseous fuel consumption (%...</td>\n",
       "      <td>21.895738</td>\n",
       "      <td>4.323930</td>\n",
       "      <td>CO2 emissions from liquid fuel consumption (% ...</td>\n",
       "      <td>41.148047</td>\n",
       "      <td>8.125840</td>\n",
       "      <td>CO2 emissions from solid fuel consumption (% o...</td>\n",
       "      <td>36.053844</td>\n",
       "      <td>7.119846</td>\n",
       "      <td>99.097629</td>\n",
       "    </tr>\n",
       "    <tr>\n",
       "      <td>40</td>\n",
       "      <td>USA</td>\n",
       "      <td>CO2 emissions (metric tons per capita)</td>\n",
       "      <td>2000</td>\n",
       "      <td>20.207615</td>\n",
       "      <td>CO2 emissions from gaseous fuel consumption (%...</td>\n",
       "      <td>22.155916</td>\n",
       "      <td>4.477182</td>\n",
       "      <td>CO2 emissions from liquid fuel consumption (% ...</td>\n",
       "      <td>40.653919</td>\n",
       "      <td>8.215187</td>\n",
       "      <td>CO2 emissions from solid fuel consumption (% o...</td>\n",
       "      <td>36.321044</td>\n",
       "      <td>7.339617</td>\n",
       "      <td>99.130878</td>\n",
       "    </tr>\n",
       "    <tr>\n",
       "      <td>41</td>\n",
       "      <td>USA</td>\n",
       "      <td>CO2 emissions (metric tons per capita)</td>\n",
       "      <td>2001</td>\n",
       "      <td>19.656193</td>\n",
       "      <td>CO2 emissions from gaseous fuel consumption (%...</td>\n",
       "      <td>21.157277</td>\n",
       "      <td>4.158715</td>\n",
       "      <td>CO2 emissions from liquid fuel consumption (% ...</td>\n",
       "      <td>41.557704</td>\n",
       "      <td>8.168663</td>\n",
       "      <td>CO2 emissions from solid fuel consumption (% o...</td>\n",
       "      <td>36.386502</td>\n",
       "      <td>7.152201</td>\n",
       "      <td>99.101483</td>\n",
       "    </tr>\n",
       "    <tr>\n",
       "      <td>42</td>\n",
       "      <td>USA</td>\n",
       "      <td>CO2 emissions (metric tons per capita)</td>\n",
       "      <td>2002</td>\n",
       "      <td>19.639196</td>\n",
       "      <td>CO2 emissions from gaseous fuel consumption (%...</td>\n",
       "      <td>21.830057</td>\n",
       "      <td>4.287248</td>\n",
       "      <td>CO2 emissions from liquid fuel consumption (% ...</td>\n",
       "      <td>40.794730</td>\n",
       "      <td>8.011757</td>\n",
       "      <td>CO2 emissions from solid fuel consumption (% o...</td>\n",
       "      <td>36.474810</td>\n",
       "      <td>7.163359</td>\n",
       "      <td>99.099597</td>\n",
       "    </tr>\n",
       "    <tr>\n",
       "      <td>43</td>\n",
       "      <td>USA</td>\n",
       "      <td>CO2 emissions (metric tons per capita)</td>\n",
       "      <td>2003</td>\n",
       "      <td>19.576239</td>\n",
       "      <td>CO2 emissions from gaseous fuel consumption (%...</td>\n",
       "      <td>21.015498</td>\n",
       "      <td>4.114044</td>\n",
       "      <td>CO2 emissions from liquid fuel consumption (% ...</td>\n",
       "      <td>41.844844</td>\n",
       "      <td>8.191647</td>\n",
       "      <td>CO2 emissions from solid fuel consumption (% o...</td>\n",
       "      <td>36.218263</td>\n",
       "      <td>7.090174</td>\n",
       "      <td>99.078605</td>\n",
       "    </tr>\n",
       "    <tr>\n",
       "      <td>44</td>\n",
       "      <td>USA</td>\n",
       "      <td>CO2 emissions (metric tons per capita)</td>\n",
       "      <td>2004</td>\n",
       "      <td>19.683581</td>\n",
       "      <td>CO2 emissions from gaseous fuel consumption (%...</td>\n",
       "      <td>20.406004</td>\n",
       "      <td>4.016632</td>\n",
       "      <td>CO2 emissions from liquid fuel consumption (% ...</td>\n",
       "      <td>42.130445</td>\n",
       "      <td>8.292780</td>\n",
       "      <td>CO2 emissions from solid fuel consumption (% o...</td>\n",
       "      <td>36.516620</td>\n",
       "      <td>7.187779</td>\n",
       "      <td>99.053069</td>\n",
       "    </tr>\n",
       "    <tr>\n",
       "      <td>45</td>\n",
       "      <td>USA</td>\n",
       "      <td>CO2 emissions (metric tons per capita)</td>\n",
       "      <td>2005</td>\n",
       "      <td>19.610275</td>\n",
       "      <td>CO2 emissions from gaseous fuel consumption (%...</td>\n",
       "      <td>20.162179</td>\n",
       "      <td>3.953859</td>\n",
       "      <td>CO2 emissions from liquid fuel consumption (% ...</td>\n",
       "      <td>42.214756</td>\n",
       "      <td>8.278430</td>\n",
       "      <td>CO2 emissions from solid fuel consumption (% o...</td>\n",
       "      <td>36.643919</td>\n",
       "      <td>7.185973</td>\n",
       "      <td>99.020853</td>\n",
       "    </tr>\n",
       "    <tr>\n",
       "      <td>46</td>\n",
       "      <td>USA</td>\n",
       "      <td>CO2 emissions (metric tons per capita)</td>\n",
       "      <td>2006</td>\n",
       "      <td>19.116139</td>\n",
       "      <td>CO2 emissions from gaseous fuel consumption (%...</td>\n",
       "      <td>20.302354</td>\n",
       "      <td>3.881026</td>\n",
       "      <td>CO2 emissions from liquid fuel consumption (% ...</td>\n",
       "      <td>41.987644</td>\n",
       "      <td>8.026416</td>\n",
       "      <td>CO2 emissions from solid fuel consumption (% o...</td>\n",
       "      <td>36.715763</td>\n",
       "      <td>7.018636</td>\n",
       "      <td>99.005760</td>\n",
       "    </tr>\n",
       "    <tr>\n",
       "      <td>47</td>\n",
       "      <td>USA</td>\n",
       "      <td>CO2 emissions (metric tons per capita)</td>\n",
       "      <td>2007</td>\n",
       "      <td>19.237460</td>\n",
       "      <td>CO2 emissions from gaseous fuel consumption (%...</td>\n",
       "      <td>21.580849</td>\n",
       "      <td>4.151607</td>\n",
       "      <td>CO2 emissions from liquid fuel consumption (% ...</td>\n",
       "      <td>41.022724</td>\n",
       "      <td>7.891730</td>\n",
       "      <td>CO2 emissions from solid fuel consumption (% o...</td>\n",
       "      <td>36.429516</td>\n",
       "      <td>7.008114</td>\n",
       "      <td>99.033089</td>\n",
       "    </tr>\n",
       "    <tr>\n",
       "      <td>48</td>\n",
       "      <td>USA</td>\n",
       "      <td>CO2 emissions (metric tons per capita)</td>\n",
       "      <td>2008</td>\n",
       "      <td>18.489234</td>\n",
       "      <td>CO2 emissions from gaseous fuel consumption (%...</td>\n",
       "      <td>22.216519</td>\n",
       "      <td>4.107664</td>\n",
       "      <td>CO2 emissions from liquid fuel consumption (% ...</td>\n",
       "      <td>39.878755</td>\n",
       "      <td>7.373276</td>\n",
       "      <td>CO2 emissions from solid fuel consumption (% o...</td>\n",
       "      <td>36.967638</td>\n",
       "      <td>6.835033</td>\n",
       "      <td>99.062912</td>\n",
       "    </tr>\n",
       "    <tr>\n",
       "      <td>49</td>\n",
       "      <td>USA</td>\n",
       "      <td>CO2 emissions (metric tons per capita)</td>\n",
       "      <td>2009</td>\n",
       "      <td>17.192379</td>\n",
       "      <td>CO2 emissions from gaseous fuel consumption (%...</td>\n",
       "      <td>23.484411</td>\n",
       "      <td>4.037529</td>\n",
       "      <td>CO2 emissions from liquid fuel consumption (% ...</td>\n",
       "      <td>40.807804</td>\n",
       "      <td>7.015832</td>\n",
       "      <td>CO2 emissions from solid fuel consumption (% o...</td>\n",
       "      <td>34.925525</td>\n",
       "      <td>6.004529</td>\n",
       "      <td>99.217740</td>\n",
       "    </tr>\n",
       "    <tr>\n",
       "      <td>50</td>\n",
       "      <td>USA</td>\n",
       "      <td>CO2 emissions (metric tons per capita)</td>\n",
       "      <td>2010</td>\n",
       "      <td>17.484792</td>\n",
       "      <td>CO2 emissions from gaseous fuel consumption (%...</td>\n",
       "      <td>23.820349</td>\n",
       "      <td>4.164938</td>\n",
       "      <td>CO2 emissions from liquid fuel consumption (% ...</td>\n",
       "      <td>40.050589</td>\n",
       "      <td>7.002762</td>\n",
       "      <td>CO2 emissions from solid fuel consumption (% o...</td>\n",
       "      <td>35.344119</td>\n",
       "      <td>6.179846</td>\n",
       "      <td>99.215057</td>\n",
       "    </tr>\n",
       "    <tr>\n",
       "      <td>51</td>\n",
       "      <td>USA</td>\n",
       "      <td>CO2 emissions (metric tons per capita)</td>\n",
       "      <td>2011</td>\n",
       "      <td>17.020216</td>\n",
       "      <td>CO2 emissions from gaseous fuel consumption (%...</td>\n",
       "      <td>24.879151</td>\n",
       "      <td>4.234485</td>\n",
       "      <td>CO2 emissions from liquid fuel consumption (% ...</td>\n",
       "      <td>39.793288</td>\n",
       "      <td>6.772904</td>\n",
       "      <td>CO2 emissions from solid fuel consumption (% o...</td>\n",
       "      <td>34.469555</td>\n",
       "      <td>5.866793</td>\n",
       "      <td>99.141993</td>\n",
       "    </tr>\n",
       "  </tbody>\n",
       "</table>\n",
       "</div>"
      ],
      "text/plain": [
       "   CountryCode                           CO2_Indicator  Year  co2_val_pc  \\\n",
       "0          USA  CO2 emissions (metric tons per capita)  1960   15.999779   \n",
       "1          USA  CO2 emissions (metric tons per capita)  1961   15.681256   \n",
       "2          USA  CO2 emissions (metric tons per capita)  1962   16.013937   \n",
       "3          USA  CO2 emissions (metric tons per capita)  1963   16.482762   \n",
       "4          USA  CO2 emissions (metric tons per capita)  1964   16.968119   \n",
       "5          USA  CO2 emissions (metric tons per capita)  1965   17.451725   \n",
       "6          USA  CO2 emissions (metric tons per capita)  1966   18.121073   \n",
       "7          USA  CO2 emissions (metric tons per capita)  1967   18.598318   \n",
       "8          USA  CO2 emissions (metric tons per capita)  1968   19.089389   \n",
       "9          USA  CO2 emissions (metric tons per capita)  1969   19.857946   \n",
       "10         USA  CO2 emissions (metric tons per capita)  1970   21.111252   \n",
       "11         USA  CO2 emissions (metric tons per capita)  1971   20.980203   \n",
       "12         USA  CO2 emissions (metric tons per capita)  1972   21.748642   \n",
       "13         USA  CO2 emissions (metric tons per capita)  1973   22.510582   \n",
       "14         USA  CO2 emissions (metric tons per capita)  1974   21.502930   \n",
       "15         USA  CO2 emissions (metric tons per capita)  1975   20.402224   \n",
       "16         USA  CO2 emissions (metric tons per capita)  1976   21.157615   \n",
       "17         USA  CO2 emissions (metric tons per capita)  1977   21.532484   \n",
       "18         USA  CO2 emissions (metric tons per capita)  1978   21.973005   \n",
       "19         USA  CO2 emissions (metric tons per capita)  1979   21.780437   \n",
       "20         USA  CO2 emissions (metric tons per capita)  1980   20.786488   \n",
       "21         USA  CO2 emissions (metric tons per capita)  1981   19.766764   \n",
       "22         USA  CO2 emissions (metric tons per capita)  1982   18.590495   \n",
       "23         USA  CO2 emissions (metric tons per capita)  1983   18.571544   \n",
       "24         USA  CO2 emissions (metric tons per capita)  1984   18.976750   \n",
       "25         USA  CO2 emissions (metric tons per capita)  1985   18.882313   \n",
       "26         USA  CO2 emissions (metric tons per capita)  1986   18.720723   \n",
       "27         USA  CO2 emissions (metric tons per capita)  1987   19.350334   \n",
       "28         USA  CO2 emissions (metric tons per capita)  1988   20.010413   \n",
       "29         USA  CO2 emissions (metric tons per capita)  1989   20.075770   \n",
       "30         USA  CO2 emissions (metric tons per capita)  1990   19.323368   \n",
       "31         USA  CO2 emissions (metric tons per capita)  1991   19.062237   \n",
       "32         USA  CO2 emissions (metric tons per capita)  1992   19.145556   \n",
       "33         USA  CO2 emissions (metric tons per capita)  1993   19.363463   \n",
       "34         USA  CO2 emissions (metric tons per capita)  1994   19.376556   \n",
       "35         USA  CO2 emissions (metric tons per capita)  1995   19.295660   \n",
       "36         USA  CO2 emissions (metric tons per capita)  1996   19.527891   \n",
       "37         USA  CO2 emissions (metric tons per capita)  1997   19.714276   \n",
       "38         USA  CO2 emissions (metric tons per capita)  1998   19.615155   \n",
       "39         USA  CO2 emissions (metric tons per capita)  1999   19.747815   \n",
       "40         USA  CO2 emissions (metric tons per capita)  2000   20.207615   \n",
       "41         USA  CO2 emissions (metric tons per capita)  2001   19.656193   \n",
       "42         USA  CO2 emissions (metric tons per capita)  2002   19.639196   \n",
       "43         USA  CO2 emissions (metric tons per capita)  2003   19.576239   \n",
       "44         USA  CO2 emissions (metric tons per capita)  2004   19.683581   \n",
       "45         USA  CO2 emissions (metric tons per capita)  2005   19.610275   \n",
       "46         USA  CO2 emissions (metric tons per capita)  2006   19.116139   \n",
       "47         USA  CO2 emissions (metric tons per capita)  2007   19.237460   \n",
       "48         USA  CO2 emissions (metric tons per capita)  2008   18.489234   \n",
       "49         USA  CO2 emissions (metric tons per capita)  2009   17.192379   \n",
       "50         USA  CO2 emissions (metric tons per capita)  2010   17.484792   \n",
       "51         USA  CO2 emissions (metric tons per capita)  2011   17.020216   \n",
       "\n",
       "                                        Gas_Indicator    Gas_Val  gas_val_pc  \\\n",
       "0   CO2 emissions from gaseous fuel consumption (%...  21.812762    3.489994   \n",
       "1   CO2 emissions from gaseous fuel consumption (%...  22.111949    3.467431   \n",
       "2   CO2 emissions from gaseous fuel consumption (%...  22.660655    3.628863   \n",
       "3   CO2 emissions from gaseous fuel consumption (%...  23.051955    3.799599   \n",
       "4   CO2 emissions from gaseous fuel consumption (%...  23.332109    3.959020   \n",
       "5   CO2 emissions from gaseous fuel consumption (%...  23.098302    4.031052   \n",
       "6   CO2 emissions from gaseous fuel consumption (%...  23.664387    4.288241   \n",
       "7   CO2 emissions from gaseous fuel consumption (%...  23.865656    4.438611   \n",
       "8   CO2 emissions from gaseous fuel consumption (%...  24.459428    4.669155   \n",
       "9   CO2 emissions from gaseous fuel consumption (%...  25.316270    5.027291   \n",
       "10  CO2 emissions from gaseous fuel consumption (%...  24.488375    5.169803   \n",
       "11  CO2 emissions from gaseous fuel consumption (%...  25.198173    5.286628   \n",
       "12  CO2 emissions from gaseous fuel consumption (%...  24.459986    5.319715   \n",
       "13  CO2 emissions from gaseous fuel consumption (%...  23.151738    5.211591   \n",
       "14  CO2 emissions from gaseous fuel consumption (%...  22.899494    4.924062   \n",
       "15  CO2 emissions from gaseous fuel consumption (%...  22.216480    4.532656   \n",
       "16  CO2 emissions from gaseous fuel consumption (%...  21.574892    4.564733   \n",
       "17  CO2 emissions from gaseous fuel consumption (%...  20.320901    4.375595   \n",
       "18  CO2 emissions from gaseous fuel consumption (%...  20.058557    4.407468   \n",
       "19  CO2 emissions from gaseous fuel consumption (%...  20.723900    4.513756   \n",
       "20  CO2 emissions from gaseous fuel consumption (%...  21.215638    4.409986   \n",
       "21  CO2 emissions from gaseous fuel consumption (%...  21.401153    4.230315   \n",
       "22  CO2 emissions from gaseous fuel consumption (%...  20.978645    3.900034   \n",
       "23  CO2 emissions from gaseous fuel consumption (%...  19.766292    3.670906   \n",
       "24  CO2 emissions from gaseous fuel consumption (%...  19.819550    3.761107   \n",
       "25  CO2 emissions from gaseous fuel consumption (%...  19.157951    3.617464   \n",
       "26  CO2 emissions from gaseous fuel consumption (%...  18.183998    3.404176   \n",
       "27  CO2 emissions from gaseous fuel consumption (%...  18.464707    3.572983   \n",
       "28  CO2 emissions from gaseous fuel consumption (%...  18.547538    3.711439   \n",
       "29  CO2 emissions from gaseous fuel consumption (%...  18.954045    3.805170   \n",
       "30  CO2 emissions from gaseous fuel consumption (%...  20.817305    4.022605   \n",
       "31  CO2 emissions from gaseous fuel consumption (%...  21.812580    4.157966   \n",
       "32  CO2 emissions from gaseous fuel consumption (%...  21.839510    4.181295   \n",
       "33  CO2 emissions from gaseous fuel consumption (%...  21.966451    4.253465   \n",
       "34  CO2 emissions from gaseous fuel consumption (%...  22.122073    4.286496   \n",
       "35  CO2 emissions from gaseous fuel consumption (%...  22.718942    4.383770   \n",
       "36  CO2 emissions from gaseous fuel consumption (%...  22.069768    4.309760   \n",
       "37  CO2 emissions from gaseous fuel consumption (%...  21.721948    4.282325   \n",
       "38  CO2 emissions from gaseous fuel consumption (%...  21.294265    4.176903   \n",
       "39  CO2 emissions from gaseous fuel consumption (%...  21.895738    4.323930   \n",
       "40  CO2 emissions from gaseous fuel consumption (%...  22.155916    4.477182   \n",
       "41  CO2 emissions from gaseous fuel consumption (%...  21.157277    4.158715   \n",
       "42  CO2 emissions from gaseous fuel consumption (%...  21.830057    4.287248   \n",
       "43  CO2 emissions from gaseous fuel consumption (%...  21.015498    4.114044   \n",
       "44  CO2 emissions from gaseous fuel consumption (%...  20.406004    4.016632   \n",
       "45  CO2 emissions from gaseous fuel consumption (%...  20.162179    3.953859   \n",
       "46  CO2 emissions from gaseous fuel consumption (%...  20.302354    3.881026   \n",
       "47  CO2 emissions from gaseous fuel consumption (%...  21.580849    4.151607   \n",
       "48  CO2 emissions from gaseous fuel consumption (%...  22.216519    4.107664   \n",
       "49  CO2 emissions from gaseous fuel consumption (%...  23.484411    4.037529   \n",
       "50  CO2 emissions from gaseous fuel consumption (%...  23.820349    4.164938   \n",
       "51  CO2 emissions from gaseous fuel consumption (%...  24.879151    4.234485   \n",
       "\n",
       "                                     Liquid_Indicator    Liq_Val  liq_val_pc  \\\n",
       "0   CO2 emissions from liquid fuel consumption (% ...  44.372701    7.099534   \n",
       "1   CO2 emissions from liquid fuel consumption (% ...  45.074670    7.068274   \n",
       "2   CO2 emissions from liquid fuel consumption (% ...  44.718697    7.161224   \n",
       "3   CO2 emissions from liquid fuel consumption (% ...  43.612321    7.188515   \n",
       "4   CO2 emissions from liquid fuel consumption (% ...  42.845848    7.270134   \n",
       "5   CO2 emissions from liquid fuel consumption (% ...  43.229845    7.544354   \n",
       "6   CO2 emissions from liquid fuel consumption (% ...  42.980523    7.788532   \n",
       "7   CO2 emissions from liquid fuel consumption (% ...  43.036269    8.004022   \n",
       "8   CO2 emissions from liquid fuel consumption (% ...  44.130759    8.424292   \n",
       "9   CO2 emissions from liquid fuel consumption (% ...  44.303040    8.797674   \n",
       "10  CO2 emissions from liquid fuel consumption (% ...  47.119321    9.947479   \n",
       "11  CO2 emissions from liquid fuel consumption (% ...  48.178439   10.107935   \n",
       "12  CO2 emissions from liquid fuel consumption (% ...  49.749292   10.819795   \n",
       "13  CO2 emissions from liquid fuel consumption (% ...  50.342777   11.332452   \n",
       "14  CO2 emissions from liquid fuel consumption (% ...  50.055382   10.763374   \n",
       "15  CO2 emissions from liquid fuel consumption (% ...  50.758020   10.355765   \n",
       "16  CO2 emissions from liquid fuel consumption (% ...  49.886487   10.554791   \n",
       "17  CO2 emissions from liquid fuel consumption (% ...  51.551420   11.100301   \n",
       "18  CO2 emissions from liquid fuel consumption (% ...  51.005361   11.207410   \n",
       "19  CO2 emissions from liquid fuel consumption (% ...  49.416637   10.763159   \n",
       "20  CO2 emissions from liquid fuel consumption (% ...  46.970686    9.763556   \n",
       "21  CO2 emissions from liquid fuel consumption (% ...  44.913835    8.878012   \n",
       "22  CO2 emissions from liquid fuel consumption (% ...  44.829671    8.334058   \n",
       "23  CO2 emissions from liquid fuel consumption (% ...  44.409104    8.247456   \n",
       "24  CO2 emissions from liquid fuel consumption (% ...  43.784558    8.308886   \n",
       "25  CO2 emissions from liquid fuel consumption (% ...  43.696388    8.250889   \n",
       "26  CO2 emissions from liquid fuel consumption (% ...  45.531371    8.523802   \n",
       "27  CO2 emissions from liquid fuel consumption (% ...  44.746510    8.658599   \n",
       "28  CO2 emissions from liquid fuel consumption (% ...  44.592131    8.923070   \n",
       "29  CO2 emissions from liquid fuel consumption (% ...  43.884721    8.810196   \n",
       "30  CO2 emissions from liquid fuel consumption (% ...  41.336297    7.987565   \n",
       "31  CO2 emissions from liquid fuel consumption (% ...  40.670653    7.752736   \n",
       "32  CO2 emissions from liquid fuel consumption (% ...  40.851210    7.821191   \n",
       "33  CO2 emissions from liquid fuel consumption (% ...  40.675836    7.876250   \n",
       "34  CO2 emissions from liquid fuel consumption (% ...  40.723636    7.890838   \n",
       "35  CO2 emissions from liquid fuel consumption (% ...  40.407794    7.796951   \n",
       "36  CO2 emissions from liquid fuel consumption (% ...  40.573607    7.923170   \n",
       "37  CO2 emissions from liquid fuel consumption (% ...  40.717404    8.027141   \n",
       "38  CO2 emissions from liquid fuel consumption (% ...  41.328001    8.106551   \n",
       "39  CO2 emissions from liquid fuel consumption (% ...  41.148047    8.125840   \n",
       "40  CO2 emissions from liquid fuel consumption (% ...  40.653919    8.215187   \n",
       "41  CO2 emissions from liquid fuel consumption (% ...  41.557704    8.168663   \n",
       "42  CO2 emissions from liquid fuel consumption (% ...  40.794730    8.011757   \n",
       "43  CO2 emissions from liquid fuel consumption (% ...  41.844844    8.191647   \n",
       "44  CO2 emissions from liquid fuel consumption (% ...  42.130445    8.292780   \n",
       "45  CO2 emissions from liquid fuel consumption (% ...  42.214756    8.278430   \n",
       "46  CO2 emissions from liquid fuel consumption (% ...  41.987644    8.026416   \n",
       "47  CO2 emissions from liquid fuel consumption (% ...  41.022724    7.891730   \n",
       "48  CO2 emissions from liquid fuel consumption (% ...  39.878755    7.373276   \n",
       "49  CO2 emissions from liquid fuel consumption (% ...  40.807804    7.015832   \n",
       "50  CO2 emissions from liquid fuel consumption (% ...  40.050589    7.002762   \n",
       "51  CO2 emissions from liquid fuel consumption (% ...  39.793288    6.772904   \n",
       "\n",
       "                                      Solid_Indicator    Sol_Val  sol_val_pc  \\\n",
       "0   CO2 emissions from solid fuel consumption (% o...  31.781809    5.085019   \n",
       "1   CO2 emissions from solid fuel consumption (% o...  30.833803    4.835127   \n",
       "2   CO2 emissions from solid fuel consumption (% o...  30.850619    4.940399   \n",
       "3   CO2 emissions from solid fuel consumption (% o...  31.668591    5.219858   \n",
       "4   CO2 emissions from solid fuel consumption (% o...  32.249262    5.472093   \n",
       "5   CO2 emissions from solid fuel consumption (% o...  32.189231    5.617576   \n",
       "6   CO2 emissions from solid fuel consumption (% o...  31.827190    5.767428   \n",
       "7   CO2 emissions from solid fuel consumption (% o...  31.496018    5.857729   \n",
       "8   CO2 emissions from solid fuel consumption (% o...  29.768477    5.682620   \n",
       "9   CO2 emissions from solid fuel consumption (% o...  28.795536    5.718202   \n",
       "10  CO2 emissions from solid fuel consumption (% o...  27.005607    5.701222   \n",
       "11  CO2 emissions from solid fuel consumption (% o...  25.438893    5.337132   \n",
       "12  CO2 emissions from solid fuel consumption (% o...  24.660970    5.363426   \n",
       "13  CO2 emissions from solid fuel consumption (% o...  25.398203    5.717283   \n",
       "14  CO2 emissions from solid fuel consumption (% o...  26.035969    5.598496   \n",
       "15  CO2 emissions from solid fuel consumption (% o...  26.148099    5.334794   \n",
       "16  CO2 emissions from solid fuel consumption (% o...  27.648799    5.849827   \n",
       "17  CO2 emissions from solid fuel consumption (% o...  27.210677    5.859135   \n",
       "18  CO2 emissions from solid fuel consumption (% o...  27.979082    6.147845   \n",
       "19  CO2 emissions from solid fuel consumption (% o...  28.885521    6.291393   \n",
       "20  CO2 emissions from solid fuel consumption (% o...  30.937144    6.430746   \n",
       "21  CO2 emissions from solid fuel consumption (% o...  32.842115    6.491823   \n",
       "22  CO2 emissions from solid fuel consumption (% o...  33.399832    6.209194   \n",
       "23  CO2 emissions from solid fuel consumption (% o...  34.963823    6.493322   \n",
       "24  CO2 emissions from solid fuel consumption (% o...  35.470864    6.731217   \n",
       "25  CO2 emissions from solid fuel consumption (% o...  36.238002    6.842573   \n",
       "26  CO2 emissions from solid fuel consumption (% o...  35.363693    6.620339   \n",
       "27  CO2 emissions from solid fuel consumption (% o...  35.880006    6.942901   \n",
       "28  CO2 emissions from solid fuel consumption (% o...  35.980330    7.199813   \n",
       "29  CO2 emissions from solid fuel consumption (% o...  36.290567    7.285611   \n",
       "30  CO2 emissions from solid fuel consumption (% o...  36.940131    7.138077   \n",
       "31  CO2 emissions from solid fuel consumption (% o...  36.618948    6.980391   \n",
       "32  CO2 emissions from solid fuel consumption (% o...  36.405579    6.970050   \n",
       "33  CO2 emissions from solid fuel consumption (% o...  36.370532    7.042594   \n",
       "34  CO2 emissions from solid fuel consumption (% o...  36.136718    7.002052   \n",
       "35  CO2 emissions from solid fuel consumption (% o...  35.815346    6.910807   \n",
       "36  CO2 emissions from solid fuel consumption (% o...  36.311737    7.090916   \n",
       "37  CO2 emissions from solid fuel consumption (% o...  36.521858    7.200020   \n",
       "38  CO2 emissions from solid fuel consumption (% o...  36.486892    7.156960   \n",
       "39  CO2 emissions from solid fuel consumption (% o...  36.053844    7.119846   \n",
       "40  CO2 emissions from solid fuel consumption (% o...  36.321044    7.339617   \n",
       "41  CO2 emissions from solid fuel consumption (% o...  36.386502    7.152201   \n",
       "42  CO2 emissions from solid fuel consumption (% o...  36.474810    7.163359   \n",
       "43  CO2 emissions from solid fuel consumption (% o...  36.218263    7.090174   \n",
       "44  CO2 emissions from solid fuel consumption (% o...  36.516620    7.187779   \n",
       "45  CO2 emissions from solid fuel consumption (% o...  36.643919    7.185973   \n",
       "46  CO2 emissions from solid fuel consumption (% o...  36.715763    7.018636   \n",
       "47  CO2 emissions from solid fuel consumption (% o...  36.429516    7.008114   \n",
       "48  CO2 emissions from solid fuel consumption (% o...  36.967638    6.835033   \n",
       "49  CO2 emissions from solid fuel consumption (% o...  34.925525    6.004529   \n",
       "50  CO2 emissions from solid fuel consumption (% o...  35.344119    6.179846   \n",
       "51  CO2 emissions from solid fuel consumption (% o...  34.469555    5.866793   \n",
       "\n",
       "    % of Total  \n",
       "0    97.967271  \n",
       "1    98.020422  \n",
       "2    98.229970  \n",
       "3    98.332867  \n",
       "4    98.427220  \n",
       "5    98.517378  \n",
       "6    98.472100  \n",
       "7    98.397943  \n",
       "8    98.358665  \n",
       "9    98.414846  \n",
       "10   98.613303  \n",
       "11   98.815506  \n",
       "12   98.870247  \n",
       "13   98.892719  \n",
       "14   98.990845  \n",
       "15   99.122599  \n",
       "16   99.110178  \n",
       "17   99.082997  \n",
       "18   99.042999  \n",
       "19   99.026058  \n",
       "20   99.123468  \n",
       "21   99.157103  \n",
       "22   99.208147  \n",
       "23   99.139219  \n",
       "24   99.074972  \n",
       "25   99.092342  \n",
       "26   99.079062  \n",
       "27   99.091223  \n",
       "28   99.120000  \n",
       "29   99.129333  \n",
       "30   99.093733  \n",
       "31   99.102181  \n",
       "32   99.096299  \n",
       "33   99.012818  \n",
       "34   98.982427  \n",
       "35   98.942082  \n",
       "36   98.955113  \n",
       "37   98.961210  \n",
       "38   99.109158  \n",
       "39   99.097629  \n",
       "40   99.130878  \n",
       "41   99.101483  \n",
       "42   99.099597  \n",
       "43   99.078605  \n",
       "44   99.053069  \n",
       "45   99.020853  \n",
       "46   99.005760  \n",
       "47   99.033089  \n",
       "48   99.062912  \n",
       "49   99.217740  \n",
       "50   99.215057  \n",
       "51   99.141993  "
      ]
     },
     "execution_count": 30,
     "metadata": {},
     "output_type": "execute_result"
    }
   ],
   "source": [
    "fuel_df['% of Total'] = fuel_df['Gas_Val'] + fuel_df['Liq_Val'] + fuel_df['Sol_Val']\n",
    "fuel_df"
   ]
  },
  {
   "cell_type": "markdown",
   "metadata": {},
   "source": [
    "# 2. Data Exploration\n",
    "\n",
    "\n",
    "#### At this point, we have a good dataset to explore. Let's see the correlation between different components of sources of CO2 emission"
   ]
  },
  {
   "cell_type": "code",
   "execution_count": 31,
   "metadata": {},
   "outputs": [
    {
     "data": {
      "text/html": [
       "<div>\n",
       "<style scoped>\n",
       "    .dataframe tbody tr th:only-of-type {\n",
       "        vertical-align: middle;\n",
       "    }\n",
       "\n",
       "    .dataframe tbody tr th {\n",
       "        vertical-align: top;\n",
       "    }\n",
       "\n",
       "    .dataframe thead th {\n",
       "        text-align: right;\n",
       "    }\n",
       "</style>\n",
       "<table border=\"1\" class=\"dataframe\">\n",
       "  <thead>\n",
       "    <tr style=\"text-align: right;\">\n",
       "      <th></th>\n",
       "      <th>co2_val_pc</th>\n",
       "      <th>gas_val_pc</th>\n",
       "      <th>liq_val_pc</th>\n",
       "      <th>sol_val_pc</th>\n",
       "    </tr>\n",
       "  </thead>\n",
       "  <tbody>\n",
       "    <tr>\n",
       "      <td>co2_val_pc</td>\n",
       "      <td>1.000000</td>\n",
       "      <td>0.674336</td>\n",
       "      <td>0.882361</td>\n",
       "      <td>0.248694</td>\n",
       "    </tr>\n",
       "    <tr>\n",
       "      <td>gas_val_pc</td>\n",
       "      <td>0.674336</td>\n",
       "      <td>1.000000</td>\n",
       "      <td>0.618877</td>\n",
       "      <td>-0.233168</td>\n",
       "    </tr>\n",
       "    <tr>\n",
       "      <td>liq_val_pc</td>\n",
       "      <td>0.882361</td>\n",
       "      <td>0.618877</td>\n",
       "      <td>1.000000</td>\n",
       "      <td>-0.173929</td>\n",
       "    </tr>\n",
       "    <tr>\n",
       "      <td>sol_val_pc</td>\n",
       "      <td>0.248694</td>\n",
       "      <td>-0.233168</td>\n",
       "      <td>-0.173929</td>\n",
       "      <td>1.000000</td>\n",
       "    </tr>\n",
       "  </tbody>\n",
       "</table>\n",
       "</div>"
      ],
      "text/plain": [
       "            co2_val_pc  gas_val_pc  liq_val_pc  sol_val_pc\n",
       "co2_val_pc    1.000000    0.674336    0.882361    0.248694\n",
       "gas_val_pc    0.674336    1.000000    0.618877   -0.233168\n",
       "liq_val_pc    0.882361    0.618877    1.000000   -0.173929\n",
       "sol_val_pc    0.248694   -0.233168   -0.173929    1.000000"
      ]
     },
     "execution_count": 31,
     "metadata": {},
     "output_type": "execute_result"
    }
   ],
   "source": [
    "fuel_df[['co2_val_pc','gas_val_pc', 'liq_val_pc', 'sol_val_pc']].corr()"
   ]
  },
  {
   "cell_type": "markdown",
   "metadata": {},
   "source": [
    "We can observe from above table that there is strong correlation between the co2 emission per capita and liquid fuel consumption per capita. There is also strong relation betweehn the co2 emission and the gaseous fuel consumption. \n",
    "\n",
    "Let's plot for a better visualization"
   ]
  },
  {
   "cell_type": "code",
   "execution_count": 32,
   "metadata": {},
   "outputs": [
    {
     "data": {
      "image/png": "[encoded data removed]",
      "text/plain": [
       "<Figure size 864x432 with 1 Axes>"
      ]
     },
     "metadata": {
      "needs_background": "light"
     },
     "output_type": "display_data"
    },
    {
     "data": {
      "image/png": "[encoded data removed]",
      "text/plain": [
       "<Figure size 864x432 with 1 Axes>"
      ]
     },
     "metadata": {
      "needs_background": "light"
     },
     "output_type": "display_data"
    },
    {
     "data": {
      "image/png": "[encoded data removed]",
      "text/plain": [
       "<Figure size 864x432 with 1 Axes>"
      ]
     },
     "metadata": {
      "needs_background": "light"
     },
     "output_type": "display_data"
    },
    {
     "data": {
      "image/png": "[encoded data removed]",
      "text/plain": [
       "<Figure size 864x432 with 1 Axes>"
      ]
     },
     "metadata": {
      "needs_background": "light"
     },
     "output_type": "display_data"
    }
   ],
   "source": [
    "plt.figure('co2', figsize=(12,6))\n",
    "plt.plot(fuel_df['Year'], fuel_df['co2_val_pc'])\n",
    "plt.title('CO2 emissions change in Years')\n",
    "plt.xlabel('Year')\n",
    "plt.ylabel('Metric Tons Per Capita')\n",
    "plt.xticks(np.arange(min(fuel_df['Year']), max(fuel_df['Year'])+1, 3.0), rotation='vertical')\n",
    "plt.grid()\n",
    "plt.figure('gas', figsize=(12,6))\n",
    "plt.plot(fuel_df['Year'], fuel_df['gas_val_pc'])\n",
    "plt.title('CO2 emissions from Gaseous Fuel change in Years')\n",
    "plt.xlabel('Year')\n",
    "plt.ylabel('Metric Tons Per Capita')\n",
    "plt.xticks(np.arange(min(fuel_df['Year']), max(fuel_df['Year'])+1, 3.0), rotation='vertical')\n",
    "plt.grid()\n",
    "plt.figure('liquid', figsize=(12,6))\n",
    "plt.plot(fuel_df['Year'], fuel_df['liq_val_pc'])\n",
    "plt.title('CO2 emissions from Liquid Fuel change in Years')\n",
    "plt.xlabel('Year')\n",
    "plt.ylabel('Metric Tons Per Capita')\n",
    "plt.xticks(np.arange(min(fuel_df['Year']), max(fuel_df['Year'])+1, 3.0), rotation='vertical')\n",
    "plt.grid()\n",
    "plt.figure('solid', figsize=(12,6))\n",
    "plt.plot(fuel_df['Year'], fuel_df['sol_val_pc'])\n",
    "plt.title('CO2 emissions from Solid Fuel change in Years')\n",
    "plt.xlabel('Year')\n",
    "plt.ylabel('Metric Tons Per Capita')\n",
    "plt.xticks(np.arange(min(fuel_df['Year']), max(fuel_df['Year'])+1, 3.0), rotation='vertical')\n",
    "plt.grid()\n",
    "plt.show()"
   ]
  },
  {
   "cell_type": "markdown",
   "metadata": {},
   "source": [
    "### Import fact:\n",
    "\n",
    "* Although for the most part Total CO2 emission per capita and CO2 emissions from Liquid fuel behave similary and strongly correlated, after the Recession behaviour of the total CO2 emissions and the CO2 emissions from Solid Fuel is very similar. Does this mean that main liquid fuel users swithing to alternative energy? We will try to look at it futher in our analysis."
   ]
  },
  {
   "cell_type": "code",
   "execution_count": 33,
   "metadata": {},
   "outputs": [
    {
     "data": {
      "text/html": [
       "<div>\n",
       "<style scoped>\n",
       "    .dataframe tbody tr th:only-of-type {\n",
       "        vertical-align: middle;\n",
       "    }\n",
       "\n",
       "    .dataframe tbody tr th {\n",
       "        vertical-align: top;\n",
       "    }\n",
       "\n",
       "    .dataframe thead th {\n",
       "        text-align: right;\n",
       "    }\n",
       "</style>\n",
       "<table border=\"1\" class=\"dataframe\">\n",
       "  <thead>\n",
       "    <tr style=\"text-align: right;\">\n",
       "      <th></th>\n",
       "      <th>co2_val_pc</th>\n",
       "      <th>gas_val_pc</th>\n",
       "      <th>liq_val_pc</th>\n",
       "      <th>sol_val_pc</th>\n",
       "    </tr>\n",
       "  </thead>\n",
       "  <tbody>\n",
       "    <tr>\n",
       "      <td>co2_val_pc</td>\n",
       "      <td>1.000000</td>\n",
       "      <td>-0.275434</td>\n",
       "      <td>0.952902</td>\n",
       "      <td>0.999700</td>\n",
       "    </tr>\n",
       "    <tr>\n",
       "      <td>gas_val_pc</td>\n",
       "      <td>-0.275434</td>\n",
       "      <td>1.000000</td>\n",
       "      <td>-0.553116</td>\n",
       "      <td>-0.298687</td>\n",
       "    </tr>\n",
       "    <tr>\n",
       "      <td>liq_val_pc</td>\n",
       "      <td>0.952902</td>\n",
       "      <td>-0.553116</td>\n",
       "      <td>1.000000</td>\n",
       "      <td>0.960034</td>\n",
       "    </tr>\n",
       "    <tr>\n",
       "      <td>sol_val_pc</td>\n",
       "      <td>0.999700</td>\n",
       "      <td>-0.298687</td>\n",
       "      <td>0.960034</td>\n",
       "      <td>1.000000</td>\n",
       "    </tr>\n",
       "  </tbody>\n",
       "</table>\n",
       "</div>"
      ],
      "text/plain": [
       "            co2_val_pc  gas_val_pc  liq_val_pc  sol_val_pc\n",
       "co2_val_pc    1.000000   -0.275434    0.952902    0.999700\n",
       "gas_val_pc   -0.275434    1.000000   -0.553116   -0.298687\n",
       "liq_val_pc    0.952902   -0.553116    1.000000    0.960034\n",
       "sol_val_pc    0.999700   -0.298687    0.960034    1.000000"
      ]
     },
     "execution_count": 33,
     "metadata": {},
     "output_type": "execute_result"
    }
   ],
   "source": [
    "interesting_df = fuel_df[fuel_df['Year'] >= 2008]\n",
    "interesting_df[['co2_val_pc','gas_val_pc', 'liq_val_pc', 'sol_val_pc']].corr()"
   ]
  },
  {
   "cell_type": "markdown",
   "metadata": {},
   "source": [
    "At this point we have multiple metrics that have different dimension. Let's put all metrics in one plot and see how they compare against each other."
   ]
  },
  {
   "cell_type": "code",
   "execution_count": 34,
   "metadata": {},
   "outputs": [
    {
     "data": {
      "image/png": "[encoded data removed]",
      "text/plain": [
       "<Figure size 864x432 with 1 Axes>"
      ]
     },
     "metadata": {
      "needs_background": "light"
     },
     "output_type": "display_data"
    }
   ],
   "source": [
    "plt.figure(figsize=(12,6))\n",
    "plt.plot(fuel_df['Year'], fuel_df['co2_val_pc'], label='Total CO2 emissions')\n",
    "plt.title('Comparison of different sources of CO2 emission')\n",
    "plt.xlabel('Year')\n",
    "plt.ylabel('Metric Tons Per Capita')\n",
    "plt.xticks(np.arange(min(fuel_df['Year']), max(fuel_df['Year'])+1, 3.0), rotation='vertical')\n",
    "\n",
    "plt.plot(fuel_df['Year'], fuel_df['gas_val_pc'], label='CO2 emissions from Gaseous Fuel')\n",
    "\n",
    "plt.plot(fuel_df['Year'], fuel_df['liq_val_pc'], label='CO2 emissions from Liquid Fuel')\n",
    "\n",
    "plt.plot(fuel_df['Year'], fuel_df['sol_val_pc'], label='CO2 emissions from Solid Fuel')\n",
    "\n",
    "plt.legend()\n",
    "plt.grid()\n",
    "plt.show()"
   ]
  },
  {
   "cell_type": "markdown",
   "metadata": {},
   "source": [
    "Because CO2 emission behaves linearly in the beginning and then changes in irregular fashion it would be better to devide the CO2 emission to different timeframes."
   ]
  },
  {
   "cell_type": "code",
   "execution_count": 35,
   "metadata": {},
   "outputs": [],
   "source": [
    "# We can observe that the CO2 emission constantly increase during the period 1960-1973\n",
    "co2_us_first = co2_us[co2_us['Year'] < 1974]\n",
    "\n",
    "# There is a considerable dip between 1973 - 1975\n",
    "co2_us_second = co2_us[(co2_us['Year'] >= 1973) & (co2_us['Year'] < 1976)]\n",
    "\n",
    "#There is again a jump in 1975-1978\n",
    "co2_us_third = co2_us[(co2_us['Year'] >= 1975) & (co2_us['Year'] < 1979)]\n",
    "\n",
    "# Considerable dip in 1978-1982\n",
    "co2_us_fourth = co2_us[(co2_us['Year'] >= 1978) & (co2_us['Year'] < 1983)]\n",
    "\n",
    "# Then the CO2 emissions more or less regular and stable till 2005\n",
    "co2_us_fifth = co2_us[(co2_us['Year'] >= 1982) & (co2_us['Year'] < 2006)]\n",
    "\n",
    "# After this period CO2 emission hits its minimum since 1966 \n",
    "co2_us_last = co2_us[(co2_us['Year'] >= 2005) & (co2_us['Year'] < 2012)]"
   ]
  },
  {
   "cell_type": "markdown",
   "metadata": {},
   "source": [
    "### Facts:\n",
    "\n",
    "* The dip in CO2 emission in starting from 1973 to 1975 is related to the Oil Crisis caused by Arab Petroleum Exporting Countries proclaiming an oil embargo at nations perceived as supporting Israel.\n",
    "\n",
    "* Right after the cease of embargo CO2 emissions increased again but from 1978 to 1982 there is a huge dip in CO2 emission. This could mean either nations started to use Liquid Fuel more economically and or switched to alternative energy. "
   ]
  },
  {
   "cell_type": "code",
   "execution_count": null,
   "metadata": {},
   "outputs": [],
   "source": []
  },
  {
   "cell_type": "code",
   "execution_count": null,
   "metadata": {},
   "outputs": [],
   "source": []
  },
  {
   "cell_type": "code",
   "execution_count": null,
   "metadata": {},
   "outputs": [],
   "source": []
  },
  {
   "cell_type": "markdown",
   "metadata": {},
   "source": [
    "### Let's now look at the correlation between the pump price for gasoline and CO2 emission from liquid fuel.\n"
   ]
  },
  {
   "cell_type": "code",
   "execution_count": 36,
   "metadata": {},
   "outputs": [
    {
     "name": "stdout",
     "output_type": "stream",
     "text": [
      "Data contains period from 1992 to 2014\n"
     ]
    },
    {
     "data": {
      "text/plain": [
       "[1992, 1995, 1998, 2000, 2002, 2004, 2006, 2008, 2010, 2012, 2014]"
      ]
     },
     "execution_count": 36,
     "metadata": {},
     "output_type": "execute_result"
    }
   ],
   "source": [
    "pump_mask = short_data['IndicatorName'].str.contains(\"Pump price for gasoline \\(US\")\n",
    "pump_us = short_data[pump_mask & country]\n",
    "pump_us = pump_us.reset_index(drop = True)\n",
    "print(f\"Data contains period from {pump_us['Year'].min()} to {pump_us['Year'].max()}\")\n",
    "pump_us = pump_us.rename(columns={'IndicatorName': 'pump_indicator', 'Value': 'pump_val'})\n",
    "years_list = pump_us['Year'].unique().tolist()\n",
    "years_list"
   ]
  },
  {
   "cell_type": "markdown",
   "metadata": {},
   "source": [
    "#### The pump price for gasoline in USD per liter does contain the fraction of the period we were analyzing. Therefore we analyze the data for years of intersection."
   ]
  },
  {
   "cell_type": "code",
   "execution_count": 37,
   "metadata": {},
   "outputs": [],
   "source": [
    "short_liq_fuel = liq_fuel[liq_fuel['Year'].isin(years_list)]\n",
    "short_liq_fuel = short_liq_fuel.reset_index(drop = True)\n",
    "short_pump_us = pump_us[pump_us['Year'] < 2012]\n",
    "short_pump_us = short_pump_us.reset_index(drop = True)"
   ]
  },
  {
   "cell_type": "code",
   "execution_count": 38,
   "metadata": {},
   "outputs": [
    {
     "data": {
      "text/html": [
       "<div>\n",
       "<style scoped>\n",
       "    .dataframe tbody tr th:only-of-type {\n",
       "        vertical-align: middle;\n",
       "    }\n",
       "\n",
       "    .dataframe tbody tr th {\n",
       "        vertical-align: top;\n",
       "    }\n",
       "\n",
       "    .dataframe thead th {\n",
       "        text-align: right;\n",
       "    }\n",
       "</style>\n",
       "<table border=\"1\" class=\"dataframe\">\n",
       "  <thead>\n",
       "    <tr style=\"text-align: right;\">\n",
       "      <th></th>\n",
       "      <th>CountryCode</th>\n",
       "      <th>Liquid_Indicator</th>\n",
       "      <th>Year</th>\n",
       "      <th>Liq_Val</th>\n",
       "      <th>liq_val_pc</th>\n",
       "      <th>pump_indicator</th>\n",
       "      <th>pump_val</th>\n",
       "    </tr>\n",
       "  </thead>\n",
       "  <tbody>\n",
       "    <tr>\n",
       "      <td>0</td>\n",
       "      <td>USA</td>\n",
       "      <td>CO2 emissions from liquid fuel consumption (% ...</td>\n",
       "      <td>1992</td>\n",
       "      <td>40.851210</td>\n",
       "      <td>7.821191</td>\n",
       "      <td>Pump price for gasoline (US$ per liter)</td>\n",
       "      <td>0.32</td>\n",
       "    </tr>\n",
       "    <tr>\n",
       "      <td>1</td>\n",
       "      <td>USA</td>\n",
       "      <td>CO2 emissions from liquid fuel consumption (% ...</td>\n",
       "      <td>1995</td>\n",
       "      <td>40.407794</td>\n",
       "      <td>7.796951</td>\n",
       "      <td>Pump price for gasoline (US$ per liter)</td>\n",
       "      <td>0.34</td>\n",
       "    </tr>\n",
       "    <tr>\n",
       "      <td>2</td>\n",
       "      <td>USA</td>\n",
       "      <td>CO2 emissions from liquid fuel consumption (% ...</td>\n",
       "      <td>1998</td>\n",
       "      <td>41.328001</td>\n",
       "      <td>8.106551</td>\n",
       "      <td>Pump price for gasoline (US$ per liter)</td>\n",
       "      <td>0.32</td>\n",
       "    </tr>\n",
       "    <tr>\n",
       "      <td>3</td>\n",
       "      <td>USA</td>\n",
       "      <td>CO2 emissions from liquid fuel consumption (% ...</td>\n",
       "      <td>2000</td>\n",
       "      <td>40.653919</td>\n",
       "      <td>8.215187</td>\n",
       "      <td>Pump price for gasoline (US$ per liter)</td>\n",
       "      <td>0.47</td>\n",
       "    </tr>\n",
       "    <tr>\n",
       "      <td>4</td>\n",
       "      <td>USA</td>\n",
       "      <td>CO2 emissions from liquid fuel consumption (% ...</td>\n",
       "      <td>2002</td>\n",
       "      <td>40.794730</td>\n",
       "      <td>8.011757</td>\n",
       "      <td>Pump price for gasoline (US$ per liter)</td>\n",
       "      <td>0.40</td>\n",
       "    </tr>\n",
       "    <tr>\n",
       "      <td>5</td>\n",
       "      <td>USA</td>\n",
       "      <td>CO2 emissions from liquid fuel consumption (% ...</td>\n",
       "      <td>2004</td>\n",
       "      <td>42.130445</td>\n",
       "      <td>8.292780</td>\n",
       "      <td>Pump price for gasoline (US$ per liter)</td>\n",
       "      <td>0.54</td>\n",
       "    </tr>\n",
       "    <tr>\n",
       "      <td>6</td>\n",
       "      <td>USA</td>\n",
       "      <td>CO2 emissions from liquid fuel consumption (% ...</td>\n",
       "      <td>2006</td>\n",
       "      <td>41.987644</td>\n",
       "      <td>8.026416</td>\n",
       "      <td>Pump price for gasoline (US$ per liter)</td>\n",
       "      <td>0.63</td>\n",
       "    </tr>\n",
       "    <tr>\n",
       "      <td>7</td>\n",
       "      <td>USA</td>\n",
       "      <td>CO2 emissions from liquid fuel consumption (% ...</td>\n",
       "      <td>2008</td>\n",
       "      <td>39.878755</td>\n",
       "      <td>7.373276</td>\n",
       "      <td>Pump price for gasoline (US$ per liter)</td>\n",
       "      <td>0.56</td>\n",
       "    </tr>\n",
       "    <tr>\n",
       "      <td>8</td>\n",
       "      <td>USA</td>\n",
       "      <td>CO2 emissions from liquid fuel consumption (% ...</td>\n",
       "      <td>2010</td>\n",
       "      <td>40.050589</td>\n",
       "      <td>7.002762</td>\n",
       "      <td>Pump price for gasoline (US$ per liter)</td>\n",
       "      <td>0.76</td>\n",
       "    </tr>\n",
       "  </tbody>\n",
       "</table>\n",
       "</div>"
      ],
      "text/plain": [
       "  CountryCode                                   Liquid_Indicator  Year  \\\n",
       "0         USA  CO2 emissions from liquid fuel consumption (% ...  1992   \n",
       "1         USA  CO2 emissions from liquid fuel consumption (% ...  1995   \n",
       "2         USA  CO2 emissions from liquid fuel consumption (% ...  1998   \n",
       "3         USA  CO2 emissions from liquid fuel consumption (% ...  2000   \n",
       "4         USA  CO2 emissions from liquid fuel consumption (% ...  2002   \n",
       "5         USA  CO2 emissions from liquid fuel consumption (% ...  2004   \n",
       "6         USA  CO2 emissions from liquid fuel consumption (% ...  2006   \n",
       "7         USA  CO2 emissions from liquid fuel consumption (% ...  2008   \n",
       "8         USA  CO2 emissions from liquid fuel consumption (% ...  2010   \n",
       "\n",
       "     Liq_Val  liq_val_pc                           pump_indicator  pump_val  \n",
       "0  40.851210    7.821191  Pump price for gasoline (US$ per liter)      0.32  \n",
       "1  40.407794    7.796951  Pump price for gasoline (US$ per liter)      0.34  \n",
       "2  41.328001    8.106551  Pump price for gasoline (US$ per liter)      0.32  \n",
       "3  40.653919    8.215187  Pump price for gasoline (US$ per liter)      0.47  \n",
       "4  40.794730    8.011757  Pump price for gasoline (US$ per liter)      0.40  \n",
       "5  42.130445    8.292780  Pump price for gasoline (US$ per liter)      0.54  \n",
       "6  41.987644    8.026416  Pump price for gasoline (US$ per liter)      0.63  \n",
       "7  39.878755    7.373276  Pump price for gasoline (US$ per liter)      0.56  \n",
       "8  40.050589    7.002762  Pump price for gasoline (US$ per liter)      0.76  "
      ]
     },
     "execution_count": 38,
     "metadata": {},
     "output_type": "execute_result"
    }
   ],
   "source": [
    "pump_liq = pd.merge(short_liq_fuel, short_pump_us, how='outer')\n",
    "pump_liq"
   ]
  },
  {
   "cell_type": "code",
   "execution_count": 39,
   "metadata": {},
   "outputs": [
    {
     "data": {
      "text/html": [
       "<div>\n",
       "<style scoped>\n",
       "    .dataframe tbody tr th:only-of-type {\n",
       "        vertical-align: middle;\n",
       "    }\n",
       "\n",
       "    .dataframe tbody tr th {\n",
       "        vertical-align: top;\n",
       "    }\n",
       "\n",
       "    .dataframe thead th {\n",
       "        text-align: right;\n",
       "    }\n",
       "</style>\n",
       "<table border=\"1\" class=\"dataframe\">\n",
       "  <thead>\n",
       "    <tr style=\"text-align: right;\">\n",
       "      <th></th>\n",
       "      <th>liq_val_pc</th>\n",
       "      <th>pump_val</th>\n",
       "    </tr>\n",
       "  </thead>\n",
       "  <tbody>\n",
       "    <tr>\n",
       "      <td>liq_val_pc</td>\n",
       "      <td>1.000000</td>\n",
       "      <td>-0.521807</td>\n",
       "    </tr>\n",
       "    <tr>\n",
       "      <td>pump_val</td>\n",
       "      <td>-0.521807</td>\n",
       "      <td>1.000000</td>\n",
       "    </tr>\n",
       "  </tbody>\n",
       "</table>\n",
       "</div>"
      ],
      "text/plain": [
       "            liq_val_pc  pump_val\n",
       "liq_val_pc    1.000000 -0.521807\n",
       "pump_val     -0.521807  1.000000"
      ]
     },
     "execution_count": 39,
     "metadata": {},
     "output_type": "execute_result"
    }
   ],
   "source": [
    "pump_liq[['liq_val_pc', 'pump_val']].corr()"
   ]
  },
  {
   "cell_type": "markdown",
   "metadata": {},
   "source": [
    "Of course we just have 9 data points and that  is not sufficient to prove any hypotheses but it is worth to mention that CO2 emissions from Liquid Fuel consumption has inverse correlation with pump prices accross the US. It means that the people tend to reduce the fuel consumption when the gas prices go up. Let's analyze the alternative fuel usage accross the US."
   ]
  },
  {
   "cell_type": "markdown",
   "metadata": {},
   "source": [
    "Let's look at theCO2 emissions relation with the GDP per capita in the US"
   ]
  },
  {
   "cell_type": "code",
   "execution_count": 40,
   "metadata": {},
   "outputs": [
    {
     "name": "stdout",
     "output_type": "stream",
     "text": [
      "Data contains period from 1960 to 2014\n"
     ]
    }
   ],
   "source": [
    "gdp_mask = short_data['IndicatorName'].str.contains(\"GDP per capita \\(current US\")\n",
    "gdp_us = short_data[gdp_mask & country]\n",
    "gdp_us = gdp_us.reset_index(drop = True)\n",
    "print(f\"Data contains period from {gdp_us['Year'].min()} to {gdp_us['Year'].max()}\")"
   ]
  },
  {
   "cell_type": "markdown",
   "metadata": {},
   "source": [
    "The data contains more years than we have for CO2 data, therefore we have to truncate the data to match the number of data points in CO2 data"
   ]
  },
  {
   "cell_type": "code",
   "execution_count": 41,
   "metadata": {},
   "outputs": [],
   "source": [
    "gdp_us = gdp_us[gdp_us['Year'] < 2012]\n",
    "gdp_us = gdp_us.rename(columns={'IndicatorName': 'GDP_Indicator', 'Value': 'gdp_val_pc'})"
   ]
  },
  {
   "cell_type": "code",
   "execution_count": 42,
   "metadata": {},
   "outputs": [
    {
     "data": {
      "image/png": "[encoded data removed]",
      "text/plain": [
       "<Figure size 864x432 with 1 Axes>"
      ]
     },
     "metadata": {
      "needs_background": "light"
     },
     "output_type": "display_data"
    }
   ],
   "source": [
    "plt.figure(figsize=(12,6))\n",
    "plt.title('GDP vs CO2 emissions')\n",
    "plt.xlabel('GDP per capita ')\n",
    "plt.ylabel('CO2 emissions per capita')\n",
    "plt.scatter(gdp_us['gdp_val_pc'].values, co2_us['co2_val_pc'].values)\n",
    "plt.grid()\n",
    "plt.show()"
   ]
  },
  {
   "cell_type": "markdown",
   "metadata": {},
   "source": [
    "It looks like the CO2 emission and gdp had positive relation in 1960 years and then there is no relation at all. Let's look at correlation as well."
   ]
  },
  {
   "cell_type": "code",
   "execution_count": null,
   "metadata": {},
   "outputs": [],
   "source": []
  },
  {
   "cell_type": "code",
   "execution_count": 43,
   "metadata": {},
   "outputs": [],
   "source": [
    "gdp_vs_co2 = pd.merge(gdp_us, co2_us, how = 'outer')"
   ]
  },
  {
   "cell_type": "code",
   "execution_count": 44,
   "metadata": {},
   "outputs": [
    {
     "data": {
      "text/html": [
       "<div>\n",
       "<style scoped>\n",
       "    .dataframe tbody tr th:only-of-type {\n",
       "        vertical-align: middle;\n",
       "    }\n",
       "\n",
       "    .dataframe tbody tr th {\n",
       "        vertical-align: top;\n",
       "    }\n",
       "\n",
       "    .dataframe thead th {\n",
       "        text-align: right;\n",
       "    }\n",
       "</style>\n",
       "<table border=\"1\" class=\"dataframe\">\n",
       "  <thead>\n",
       "    <tr style=\"text-align: right;\">\n",
       "      <th></th>\n",
       "      <th>gdp_val_pc</th>\n",
       "      <th>co2_val_pc</th>\n",
       "    </tr>\n",
       "  </thead>\n",
       "  <tbody>\n",
       "    <tr>\n",
       "      <td>gdp_val_pc</td>\n",
       "      <td>1.000000</td>\n",
       "      <td>-0.072471</td>\n",
       "    </tr>\n",
       "    <tr>\n",
       "      <td>co2_val_pc</td>\n",
       "      <td>-0.072471</td>\n",
       "      <td>1.000000</td>\n",
       "    </tr>\n",
       "  </tbody>\n",
       "</table>\n",
       "</div>"
      ],
      "text/plain": [
       "            gdp_val_pc  co2_val_pc\n",
       "gdp_val_pc    1.000000   -0.072471\n",
       "co2_val_pc   -0.072471    1.000000"
      ]
     },
     "execution_count": 44,
     "metadata": {},
     "output_type": "execute_result"
    }
   ],
   "source": [
    "gdp_vs_co2[['gdp_val_pc', 'co2_val_pc']].corr()"
   ]
  },
  {
   "cell_type": "markdown",
   "metadata": {},
   "source": [
    "It is pretty weak relation as could be seen from the scatter plot. So the CO2 emission is not related to the economy growth and vice versa"
   ]
  },
  {
   "cell_type": "markdown",
   "metadata": {},
   "source": [
    "### Let's investigate if there is relationship of CO2 emissions with Oil prices. Oil prices from 1986 todate was obtained from https://fred.stlouisfed.org/series/DCOILWTICO "
   ]
  },
  {
   "cell_type": "code",
   "execution_count": 45,
   "metadata": {},
   "outputs": [],
   "source": [
    "# Read obtained csv\n",
    "oil_df = pd.read_csv(\"./Resources/DCOILWTICO.csv\")\n",
    "\n",
    "# CSV contains information for multiple days a months since 1986 therefore data preparation is required \n",
    "for index, row in oil_df.iterrows():\n",
    "    oil_df.loc[index, 'Year'] = row[0].split('-')[0]\n",
    "oil_df = oil_df.rename(columns={'DCOILWTICO': 'oil_val'})\n",
    "oil_df = oil_df.drop(columns='DATE')"
   ]
  },
  {
   "cell_type": "markdown",
   "metadata": {},
   "source": [
    "As it can be seen now we have multiple values for each year. Let's group the dataset by Dates and find the mean for each year"
   ]
  },
  {
   "cell_type": "code",
   "execution_count": 46,
   "metadata": {
    "scrolled": true
   },
   "outputs": [
    {
     "data": {
      "text/html": [
       "<div>\n",
       "<style scoped>\n",
       "    .dataframe tbody tr th:only-of-type {\n",
       "        vertical-align: middle;\n",
       "    }\n",
       "\n",
       "    .dataframe tbody tr th {\n",
       "        vertical-align: top;\n",
       "    }\n",
       "\n",
       "    .dataframe thead th {\n",
       "        text-align: right;\n",
       "    }\n",
       "</style>\n",
       "<table border=\"1\" class=\"dataframe\">\n",
       "  <thead>\n",
       "    <tr style=\"text-align: right;\">\n",
       "      <th></th>\n",
       "      <th>CountryCode</th>\n",
       "      <th>Liquid_Indicator</th>\n",
       "      <th>Year</th>\n",
       "      <th>Liq_Val</th>\n",
       "      <th>liq_val_pc</th>\n",
       "      <th>oil_val</th>\n",
       "    </tr>\n",
       "  </thead>\n",
       "  <tbody>\n",
       "    <tr>\n",
       "      <td>0</td>\n",
       "      <td>USA</td>\n",
       "      <td>CO2 emissions from liquid fuel consumption (% ...</td>\n",
       "      <td>1986</td>\n",
       "      <td>45.531371</td>\n",
       "      <td>8.523802</td>\n",
       "      <td>15.047689</td>\n",
       "    </tr>\n",
       "    <tr>\n",
       "      <td>1</td>\n",
       "      <td>USA</td>\n",
       "      <td>CO2 emissions from liquid fuel consumption (% ...</td>\n",
       "      <td>1987</td>\n",
       "      <td>44.746510</td>\n",
       "      <td>8.658599</td>\n",
       "      <td>19.200512</td>\n",
       "    </tr>\n",
       "    <tr>\n",
       "      <td>2</td>\n",
       "      <td>USA</td>\n",
       "      <td>CO2 emissions from liquid fuel consumption (% ...</td>\n",
       "      <td>1988</td>\n",
       "      <td>44.592131</td>\n",
       "      <td>8.923070</td>\n",
       "      <td>15.965409</td>\n",
       "    </tr>\n",
       "    <tr>\n",
       "      <td>3</td>\n",
       "      <td>USA</td>\n",
       "      <td>CO2 emissions from liquid fuel consumption (% ...</td>\n",
       "      <td>1989</td>\n",
       "      <td>43.884721</td>\n",
       "      <td>8.810196</td>\n",
       "      <td>19.635486</td>\n",
       "    </tr>\n",
       "    <tr>\n",
       "      <td>4</td>\n",
       "      <td>USA</td>\n",
       "      <td>CO2 emissions from liquid fuel consumption (% ...</td>\n",
       "      <td>1990</td>\n",
       "      <td>41.336297</td>\n",
       "      <td>7.987565</td>\n",
       "      <td>24.526576</td>\n",
       "    </tr>\n",
       "    <tr>\n",
       "      <td>5</td>\n",
       "      <td>USA</td>\n",
       "      <td>CO2 emissions from liquid fuel consumption (% ...</td>\n",
       "      <td>1991</td>\n",
       "      <td>40.670653</td>\n",
       "      <td>7.752736</td>\n",
       "      <td>21.541367</td>\n",
       "    </tr>\n",
       "    <tr>\n",
       "      <td>6</td>\n",
       "      <td>USA</td>\n",
       "      <td>CO2 emissions from liquid fuel consumption (% ...</td>\n",
       "      <td>1992</td>\n",
       "      <td>40.851210</td>\n",
       "      <td>7.821191</td>\n",
       "      <td>20.575564</td>\n",
       "    </tr>\n",
       "    <tr>\n",
       "      <td>7</td>\n",
       "      <td>USA</td>\n",
       "      <td>CO2 emissions from liquid fuel consumption (% ...</td>\n",
       "      <td>1993</td>\n",
       "      <td>40.675836</td>\n",
       "      <td>7.876250</td>\n",
       "      <td>18.432200</td>\n",
       "    </tr>\n",
       "    <tr>\n",
       "      <td>8</td>\n",
       "      <td>USA</td>\n",
       "      <td>CO2 emissions from liquid fuel consumption (% ...</td>\n",
       "      <td>1994</td>\n",
       "      <td>40.723636</td>\n",
       "      <td>7.890838</td>\n",
       "      <td>17.196429</td>\n",
       "    </tr>\n",
       "    <tr>\n",
       "      <td>9</td>\n",
       "      <td>USA</td>\n",
       "      <td>CO2 emissions from liquid fuel consumption (% ...</td>\n",
       "      <td>1995</td>\n",
       "      <td>40.407794</td>\n",
       "      <td>7.796951</td>\n",
       "      <td>18.428805</td>\n",
       "    </tr>\n",
       "    <tr>\n",
       "      <td>10</td>\n",
       "      <td>USA</td>\n",
       "      <td>CO2 emissions from liquid fuel consumption (% ...</td>\n",
       "      <td>1996</td>\n",
       "      <td>40.573607</td>\n",
       "      <td>7.923170</td>\n",
       "      <td>22.119173</td>\n",
       "    </tr>\n",
       "    <tr>\n",
       "      <td>11</td>\n",
       "      <td>USA</td>\n",
       "      <td>CO2 emissions from liquid fuel consumption (% ...</td>\n",
       "      <td>1997</td>\n",
       "      <td>40.717404</td>\n",
       "      <td>8.027141</td>\n",
       "      <td>20.608254</td>\n",
       "    </tr>\n",
       "    <tr>\n",
       "      <td>12</td>\n",
       "      <td>USA</td>\n",
       "      <td>CO2 emissions from liquid fuel consumption (% ...</td>\n",
       "      <td>1998</td>\n",
       "      <td>41.328001</td>\n",
       "      <td>8.106551</td>\n",
       "      <td>14.422072</td>\n",
       "    </tr>\n",
       "    <tr>\n",
       "      <td>13</td>\n",
       "      <td>USA</td>\n",
       "      <td>CO2 emissions from liquid fuel consumption (% ...</td>\n",
       "      <td>1999</td>\n",
       "      <td>41.148047</td>\n",
       "      <td>8.125840</td>\n",
       "      <td>19.344980</td>\n",
       "    </tr>\n",
       "    <tr>\n",
       "      <td>14</td>\n",
       "      <td>USA</td>\n",
       "      <td>CO2 emissions from liquid fuel consumption (% ...</td>\n",
       "      <td>2000</td>\n",
       "      <td>40.653919</td>\n",
       "      <td>8.215187</td>\n",
       "      <td>30.378520</td>\n",
       "    </tr>\n",
       "    <tr>\n",
       "      <td>15</td>\n",
       "      <td>USA</td>\n",
       "      <td>CO2 emissions from liquid fuel consumption (% ...</td>\n",
       "      <td>2001</td>\n",
       "      <td>41.557704</td>\n",
       "      <td>8.168663</td>\n",
       "      <td>25.983120</td>\n",
       "    </tr>\n",
       "    <tr>\n",
       "      <td>16</td>\n",
       "      <td>USA</td>\n",
       "      <td>CO2 emissions from liquid fuel consumption (% ...</td>\n",
       "      <td>2002</td>\n",
       "      <td>40.794730</td>\n",
       "      <td>8.011757</td>\n",
       "      <td>26.184960</td>\n",
       "    </tr>\n",
       "    <tr>\n",
       "      <td>17</td>\n",
       "      <td>USA</td>\n",
       "      <td>CO2 emissions from liquid fuel consumption (% ...</td>\n",
       "      <td>2003</td>\n",
       "      <td>41.844844</td>\n",
       "      <td>8.191647</td>\n",
       "      <td>31.075240</td>\n",
       "    </tr>\n",
       "    <tr>\n",
       "      <td>18</td>\n",
       "      <td>USA</td>\n",
       "      <td>CO2 emissions from liquid fuel consumption (% ...</td>\n",
       "      <td>2004</td>\n",
       "      <td>42.130445</td>\n",
       "      <td>8.292780</td>\n",
       "      <td>41.506024</td>\n",
       "    </tr>\n",
       "    <tr>\n",
       "      <td>19</td>\n",
       "      <td>USA</td>\n",
       "      <td>CO2 emissions from liquid fuel consumption (% ...</td>\n",
       "      <td>2005</td>\n",
       "      <td>42.214756</td>\n",
       "      <td>8.278430</td>\n",
       "      <td>56.637251</td>\n",
       "    </tr>\n",
       "    <tr>\n",
       "      <td>20</td>\n",
       "      <td>USA</td>\n",
       "      <td>CO2 emissions from liquid fuel consumption (% ...</td>\n",
       "      <td>2006</td>\n",
       "      <td>41.987644</td>\n",
       "      <td>8.026416</td>\n",
       "      <td>66.054659</td>\n",
       "    </tr>\n",
       "    <tr>\n",
       "      <td>21</td>\n",
       "      <td>USA</td>\n",
       "      <td>CO2 emissions from liquid fuel consumption (% ...</td>\n",
       "      <td>2007</td>\n",
       "      <td>41.022724</td>\n",
       "      <td>7.891730</td>\n",
       "      <td>72.340595</td>\n",
       "    </tr>\n",
       "    <tr>\n",
       "      <td>22</td>\n",
       "      <td>USA</td>\n",
       "      <td>CO2 emissions from liquid fuel consumption (% ...</td>\n",
       "      <td>2008</td>\n",
       "      <td>39.878755</td>\n",
       "      <td>7.373276</td>\n",
       "      <td>99.671502</td>\n",
       "    </tr>\n",
       "    <tr>\n",
       "      <td>23</td>\n",
       "      <td>USA</td>\n",
       "      <td>CO2 emissions from liquid fuel consumption (% ...</td>\n",
       "      <td>2009</td>\n",
       "      <td>40.807804</td>\n",
       "      <td>7.015832</td>\n",
       "      <td>61.950437</td>\n",
       "    </tr>\n",
       "    <tr>\n",
       "      <td>24</td>\n",
       "      <td>USA</td>\n",
       "      <td>CO2 emissions from liquid fuel consumption (% ...</td>\n",
       "      <td>2010</td>\n",
       "      <td>40.050589</td>\n",
       "      <td>7.002762</td>\n",
       "      <td>79.475714</td>\n",
       "    </tr>\n",
       "    <tr>\n",
       "      <td>25</td>\n",
       "      <td>USA</td>\n",
       "      <td>CO2 emissions from liquid fuel consumption (% ...</td>\n",
       "      <td>2011</td>\n",
       "      <td>39.793288</td>\n",
       "      <td>6.772904</td>\n",
       "      <td>94.880873</td>\n",
       "    </tr>\n",
       "  </tbody>\n",
       "</table>\n",
       "</div>"
      ],
      "text/plain": [
       "   CountryCode                                   Liquid_Indicator  Year  \\\n",
       "0          USA  CO2 emissions from liquid fuel consumption (% ...  1986   \n",
       "1          USA  CO2 emissions from liquid fuel consumption (% ...  1987   \n",
       "2          USA  CO2 emissions from liquid fuel consumption (% ...  1988   \n",
       "3          USA  CO2 emissions from liquid fuel consumption (% ...  1989   \n",
       "4          USA  CO2 emissions from liquid fuel consumption (% ...  1990   \n",
       "5          USA  CO2 emissions from liquid fuel consumption (% ...  1991   \n",
       "6          USA  CO2 emissions from liquid fuel consumption (% ...  1992   \n",
       "7          USA  CO2 emissions from liquid fuel consumption (% ...  1993   \n",
       "8          USA  CO2 emissions from liquid fuel consumption (% ...  1994   \n",
       "9          USA  CO2 emissions from liquid fuel consumption (% ...  1995   \n",
       "10         USA  CO2 emissions from liquid fuel consumption (% ...  1996   \n",
       "11         USA  CO2 emissions from liquid fuel consumption (% ...  1997   \n",
       "12         USA  CO2 emissions from liquid fuel consumption (% ...  1998   \n",
       "13         USA  CO2 emissions from liquid fuel consumption (% ...  1999   \n",
       "14         USA  CO2 emissions from liquid fuel consumption (% ...  2000   \n",
       "15         USA  CO2 emissions from liquid fuel consumption (% ...  2001   \n",
       "16         USA  CO2 emissions from liquid fuel consumption (% ...  2002   \n",
       "17         USA  CO2 emissions from liquid fuel consumption (% ...  2003   \n",
       "18         USA  CO2 emissions from liquid fuel consumption (% ...  2004   \n",
       "19         USA  CO2 emissions from liquid fuel consumption (% ...  2005   \n",
       "20         USA  CO2 emissions from liquid fuel consumption (% ...  2006   \n",
       "21         USA  CO2 emissions from liquid fuel consumption (% ...  2007   \n",
       "22         USA  CO2 emissions from liquid fuel consumption (% ...  2008   \n",
       "23         USA  CO2 emissions from liquid fuel consumption (% ...  2009   \n",
       "24         USA  CO2 emissions from liquid fuel consumption (% ...  2010   \n",
       "25         USA  CO2 emissions from liquid fuel consumption (% ...  2011   \n",
       "\n",
       "      Liq_Val  liq_val_pc    oil_val  \n",
       "0   45.531371    8.523802  15.047689  \n",
       "1   44.746510    8.658599  19.200512  \n",
       "2   44.592131    8.923070  15.965409  \n",
       "3   43.884721    8.810196  19.635486  \n",
       "4   41.336297    7.987565  24.526576  \n",
       "5   40.670653    7.752736  21.541367  \n",
       "6   40.851210    7.821191  20.575564  \n",
       "7   40.675836    7.876250  18.432200  \n",
       "8   40.723636    7.890838  17.196429  \n",
       "9   40.407794    7.796951  18.428805  \n",
       "10  40.573607    7.923170  22.119173  \n",
       "11  40.717404    8.027141  20.608254  \n",
       "12  41.328001    8.106551  14.422072  \n",
       "13  41.148047    8.125840  19.344980  \n",
       "14  40.653919    8.215187  30.378520  \n",
       "15  41.557704    8.168663  25.983120  \n",
       "16  40.794730    8.011757  26.184960  \n",
       "17  41.844844    8.191647  31.075240  \n",
       "18  42.130445    8.292780  41.506024  \n",
       "19  42.214756    8.278430  56.637251  \n",
       "20  41.987644    8.026416  66.054659  \n",
       "21  41.022724    7.891730  72.340595  \n",
       "22  39.878755    7.373276  99.671502  \n",
       "23  40.807804    7.015832  61.950437  \n",
       "24  40.050589    7.002762  79.475714  \n",
       "25  39.793288    6.772904  94.880873  "
      ]
     },
     "execution_count": 46,
     "metadata": {},
     "output_type": "execute_result"
    }
   ],
   "source": [
    "# Because the elements in Price column are of object type, in this dataset they happen to be str,\n",
    "#in orther to conduct any mathematical operations over them we have to convert them into float\n",
    "\n",
    "oil_df['oil_val'] = pd.to_numeric(oil_df['oil_val'], errors='coerce')\n",
    "oil_df['Year'] = pd.to_numeric(oil_df['Year'], errors='coerce')\n",
    "\n",
    "\n",
    "# Now let's find mean Oil price for each year\n",
    "\n",
    "oil_df = oil_df.groupby('Year')['oil_val'].mean().reset_index()\n",
    "\n",
    "#Because our CO2 emissions data and the Oil prices data cover different timeframes we have to truncate both of the datasets\n",
    "\n",
    "co2_oil = liq_fuel[liq_fuel['Year'] > 1985]\n",
    "oil_co2 = oil_df[oil_df['Year'] < 2012]\n",
    "co2_oil_comparison = pd.merge(co2_oil, oil_co2, how = 'outer')\n",
    "co2_oil_comparison"
   ]
  },
  {
   "cell_type": "markdown",
   "metadata": {},
   "source": [
    "### Let's investigate the correlation between the two indicators"
   ]
  },
  {
   "cell_type": "code",
   "execution_count": 47,
   "metadata": {},
   "outputs": [
    {
     "data": {
      "text/html": [
       "<div>\n",
       "<style scoped>\n",
       "    .dataframe tbody tr th:only-of-type {\n",
       "        vertical-align: middle;\n",
       "    }\n",
       "\n",
       "    .dataframe tbody tr th {\n",
       "        vertical-align: top;\n",
       "    }\n",
       "\n",
       "    .dataframe thead th {\n",
       "        text-align: right;\n",
       "    }\n",
       "</style>\n",
       "<table border=\"1\" class=\"dataframe\">\n",
       "  <thead>\n",
       "    <tr style=\"text-align: right;\">\n",
       "      <th></th>\n",
       "      <th>liq_val_pc</th>\n",
       "      <th>oil_val</th>\n",
       "    </tr>\n",
       "  </thead>\n",
       "  <tbody>\n",
       "    <tr>\n",
       "      <td>liq_val_pc</td>\n",
       "      <td>1.000000</td>\n",
       "      <td>-0.668074</td>\n",
       "    </tr>\n",
       "    <tr>\n",
       "      <td>oil_val</td>\n",
       "      <td>-0.668074</td>\n",
       "      <td>1.000000</td>\n",
       "    </tr>\n",
       "  </tbody>\n",
       "</table>\n",
       "</div>"
      ],
      "text/plain": [
       "            liq_val_pc   oil_val\n",
       "liq_val_pc    1.000000 -0.668074\n",
       "oil_val      -0.668074  1.000000"
      ]
     },
     "execution_count": 47,
     "metadata": {},
     "output_type": "execute_result"
    }
   ],
   "source": [
    "\n",
    "co2_oil_comparison[['liq_val_pc', 'oil_val']].corr()\n",
    "#plt.scatter(co2_oil_comparison['Year'], co2_oil_comparison['oil_val'])"
   ]
  },
  {
   "cell_type": "markdown",
   "metadata": {},
   "source": [
    "It is clear that there is a moderate to strong relationship between the two indicators. The correlation is negative which means that CO2 emissions increase as the Oil price goes down and vice versa."
   ]
  },
  {
   "cell_type": "code",
   "execution_count": 48,
   "metadata": {},
   "outputs": [
    {
     "data": {
      "image/png": "[encoded data removed]",
      "text/plain": [
       "<Figure size 864x432 with 1 Axes>"
      ]
     },
     "metadata": {
      "needs_background": "light"
     },
     "output_type": "display_data"
    }
   ],
   "source": [
    "plt.figure(figsize=(12, 6))\n",
    "plt.xticks(np.arange(min(co2_oil_comparison['Year']), max(co2_oil_comparison['Year'])+1, 2.0), rotation='vertical')\n",
    "plt.xlabel('Years')\n",
    "#plt.ylim(0, 120)\n",
    "plt.ylabel('US $ per Barrel of Crude Oil')\n",
    "plt.title('Crude Oil price change over time')\n",
    "plt.plot(co2_oil_comparison['Year'], co2_oil_comparison['oil_val'])\n",
    "plt.grid()\n",
    "plt.show()"
   ]
  },
  {
   "cell_type": "markdown",
   "metadata": {},
   "source": [
    "We can observe that there was a spike in Oil prices before the Great Recession and during the recession period the pricess drop. As we already raised question above, it looks like when Oil prices go up the CO2 emissions go down meanin the producers of the CO2 emissions from the usage of liquid fuel use less, but do they swithc to alternative energy? Let's look what happens. "
   ]
  },
  {
   "cell_type": "markdown",
   "metadata": {},
   "source": [
    "### Alternative and nuclear energy usage"
   ]
  },
  {
   "cell_type": "code",
   "execution_count": 49,
   "metadata": {},
   "outputs": [
    {
     "data": {
      "image/png": "[encoded data removed]",
      "text/plain": [
       "<Figure size 864x432 with 1 Axes>"
      ]
     },
     "metadata": {
      "needs_background": "light"
     },
     "output_type": "display_data"
    }
   ],
   "source": [
    "alt_ener_mask = short_data['IndicatorName'].str.contains('Alternative and nuclear energy \\(% of')\n",
    "alt_ener_us = short_data[alt_ener_mask & country]\n",
    "alt_ener_us\n",
    "plt.figure(figsize=(12,6))\n",
    "plt.xticks(np.arange(min(alt_ener_us['Year']), max(alt_ener_us['Year'])+1, 3.0), rotation='vertical')\n",
    "plt.plot(alt_ener_us['Year'], alt_ener_us['Value'])\n",
    "plt.title('Alternative or nuclear energy (% of total energy usage) change over time')\n",
    "plt.xlabel('Years')\n",
    "plt.ylabel('Alternative or nuclear energy (% of total energy usage)')\n",
    "plt.grid()\n",
    "plt.show()"
   ]
  },
  {
   "cell_type": "markdown",
   "metadata": {},
   "source": [
    "Our hypotheses about the alternative energy holds true based on the above plot. It looks like the alternative and nuclear energy was always relevant. Perhaps for the most part the plot shows the usage of nuclear energy rather the alternative energy (meaning Renewable energy). But if we look at the period from early 90's to the time before the Great Recession we can observe that the alternative or nuclear energy usage is generally stable. It seems like the Great Recession triggered the usage of alternative sources of energy but because the industry for the most part was not ready to switch to alternative means of energy the % value did not improve much.  "
   ]
  },
  {
   "cell_type": "markdown",
   "metadata": {},
   "source": [
    "### Let's see how US stands against the World for the usage of Alternatie or Nuclear energy"
   ]
  },
  {
   "cell_type": "code",
   "execution_count": 50,
   "metadata": {},
   "outputs": [],
   "source": [
    "hist_indicator = \"Alternative and nuclear energy \\(%\"\n",
    "hist_year = 2011\n",
    "\n",
    "mask1_alt = short_data['IndicatorName'].str.contains(hist_indicator)\n",
    "mask2_alt = short_data['Year'].isin([hist_year])\n",
    "\n",
    "# apply mask\n",
    "\n",
    "alt_2011 = short_data[mask1_alt & mask2_alt]\n"
   ]
  },
  {
   "cell_type": "code",
   "execution_count": 51,
   "metadata": {},
   "outputs": [
    {
     "data": {
      "application/vnd.plotly.v1+json": {
       "config": {
        "plotlyServerURL": "https://plot.ly"
       },
       "data": [
        {
         "autocolorscale": true,
         "colorbar": {
          "title": {
           "text": "Alternative and Nuclear energy (% of total)"
          }
         },
         "locations": [
          "ARB",
          "CSS",
          "CEB",
          "EAS",
          "EAP",
          "EMU",
          "ECS",
          "ECA",
          "EUU",
          "FCS",
          "HPC",
          "HIC",
          "NOC",
          "OEC",
          "LCN",
          "LAC",
          "LDC",
          "LMY",
          "LIC",
          "LMC",
          "MEA",
          "MNA",
          "MIC",
          "NAC",
          "OED",
          "OSS",
          "SST",
          "SAS",
          "SSF",
          "SSA",
          "UMC",
          "WLD",
          "ALB",
          "DZA",
          "AGO",
          "ARG",
          "ARM",
          "AUS",
          "AUT",
          "AZE",
          "BHR",
          "BGD",
          "BLR",
          "BEL",
          "BEN",
          "BOL",
          "BIH",
          "BWA",
          "BRA",
          "BRN",
          "BGR",
          "KHM",
          "CMR",
          "CAN",
          "CHL",
          "CHN",
          "COL",
          "ZAR",
          "COG",
          "CRI",
          "CIV",
          "HRV",
          "CUB",
          "CYP",
          "CZE",
          "DNK",
          "DOM",
          "ECU",
          "EGY",
          "SLV",
          "ERI",
          "EST",
          "ETH",
          "FIN",
          "FRA",
          "GAB",
          "GEO",
          "DEU",
          "GHA",
          "GRC",
          "GTM",
          "HTI",
          "HND",
          "HKG",
          "HUN",
          "ISL",
          "IND",
          "IDN",
          "IRN",
          "IRQ",
          "IRL",
          "ISR",
          "ITA",
          "JAM",
          "JPN",
          "JOR",
          "KAZ",
          "KEN",
          "PRK",
          "KOR",
          "KSV",
          "KWT",
          "KGZ",
          "LVA",
          "LBN",
          "LBY",
          "LTU",
          "LUX",
          "MKD",
          "MYS",
          "MLT",
          "MUS",
          "MEX",
          "MDA",
          "MNG",
          "MNE",
          "MAR",
          "MOZ",
          "MMR",
          "NAM",
          "NPL",
          "NLD",
          "NZL",
          "NIC",
          "NGA",
          "NOR",
          "OMN",
          "PAK",
          "PAN",
          "PER",
          "PHL",
          "POL",
          "PRT",
          "QAT",
          "ROM",
          "RUS",
          "SAU",
          "SEN",
          "SRB",
          "SGP",
          "SVK",
          "SVN",
          "ZAF",
          "ESP",
          "LKA",
          "SDN",
          "SWE",
          "CHE",
          "SYR",
          "TJK",
          "TZA",
          "THA",
          "TGO",
          "TTO",
          "TUN",
          "TUR",
          "TKM",
          "UKR",
          "ARE",
          "GBR",
          "USA",
          "URY",
          "UZB",
          "VEN",
          "VNM",
          "YEM",
          "ZMB",
          "ZWE"
         ],
         "marker": {
          "line": {
           "color": "darkgray",
           "width": 0.5
          }
         },
         "reversescale": true,
         "type": "choropleth",
         "z": [
          0.498979856744114,
          0.0924773781561423,
          10.5294640999809,
          5.4437534310604585,
          4.13704104308303,
          19.2389906386343,
          14.177222891502499,
          9.22242524392445,
          17.5013480986185,
          2.03622397440679,
          3.5096396647647,
          12.434259732604001,
          5.90616773485476,
          14.304058568140901,
          9.99457843940059,
          11.166624302114,
          2.62941185413146,
          4.72592013750378,
          3.2225677137589703,
          5.575384317479769,
          0.573253016632799,
          0.7925438716945341,
          4.76218159487407,
          13.1076624548598,
          13.868460536209,
          3.65318422275727,
          1.04922254641292,
          3.1373478856086496,
          2.59314570063494,
          2.59314570063494,
          4.4337756739877,
          8.64384607272149,
          16.4033643939296,
          0.103153978530582,
          2.49090060352306,
          5.47655839360136,
          32.350048621137,
          1.8535173033901104,
          10.0320320221286,
          1.83212247204062,
          0,
          0.236624113010606,
          0.0126019632754663,
          21.7551229390913,
          0,
          2.57531850930218,
          5.3246933603706506,
          0,
          15.3947383989642,
          0.00444113367683264,
          24.221767363776998,
          0.0774016592980712,
          5.56727565200633,
          22.7674331722219,
          5.45174084374673,
          3.7429724954725097,
          13.461779494634099,
          3.1994551085469705,
          4.0569255367557115,
          36.032635314538105,
          1.31440929939152,
          4.9346902925842695,
          0.0912986515026809,
          3.1490729550155403,
          18.0993216409479,
          4.81561763510813,
          1.82448874448719,
          6.90317528289781,
          1.6537841325002598,
          34.7622239135633,
          0.0224353288601809,
          0.608462405829919,
          1.25614603757989,
          20.5450030239983,
          47.91576431750239,
          3.31868164177349,
          19.446688223877498,
          11.624640100844,
          6.783370213952099,
          3.32203858535375,
          5.2350274739010985,
          0.26260804908938395,
          5.28988841077824,
          0.00113456756254188,
          17.1510453361136,
          83.81340551734459,
          3.09844608427305,
          8.36716325442472,
          0.5371247687606889,
          0.8916770423089542,
          3.37173449845002,
          4.83437653764505,
          6.49312714482111,
          0.7280703557469229,
          8.09124984381617,
          1.91089429586919,
          0.876616843294392,
          7.8202510505147504,
          8.11520734955269,
          15.7297305729108,
          0.381679238365823,
          0,
          36.7320749906429,
          5.9762180407604815,
          1.35511141846975,
          0,
          1.16838955553861,
          0.33848897638324105,
          4.37099712275598,
          0.8287335979571709,
          0.168198704486617,
          0.38456291400767,
          6.332324766366531,
          0.910817126804025,
          0,
          9.197599513933552,
          1.2741026183383202,
          14.07195301471,
          4.5282187940115985,
          7.97206785010067,
          2.83992337675916,
          2.03632104475995,
          33.653955325446,
          9.50557910531807,
          0.3986005986359569,
          37.3458257603335,
          0,
          4.50404752750649,
          8.68424223562538,
          9.03536394364752,
          23.212590518912002,
          0.4932914673028521,
          9.00905177884478,
          0,
          12.4936281548335,
          8.144954689452451,
          0,
          0.537872502567283,
          4.64469212994427,
          0.00265814401816563,
          25.590238923213,
          27.048176349292802,
          2.66185423469294,
          18.101148175002105,
          3.93795270410184,
          3.33351834165731,
          44.1564916404252,
          39.7413962121757,
          1.41195001059445,
          63.844090641011704,
          0.736454776993835,
          0.5972235607354809,
          0.29094975818551505,
          0,
          0.477154657761354,
          6.769855813579071,
          0,
          19.456627651431802,
          0,
          10.6690197642296,
          11.992341504030799,
          12.8043096440576,
          1.86484502636806,
          10.1943240514372,
          5.79846504082235,
          0,
          11.409815799463,
          4.7895672614211104
         ]
        }
       ],
       "layout": {
        "autosize": false,
        "height": 500,
        "margin": {
         "b": 100,
         "l": 50,
         "pad": 4,
         "r": 50,
         "t": 100
        },
        "template": {
         "data": {
          "bar": [
           {
            "error_x": {
             "color": "#2a3f5f"
            },
            "error_y": {
             "color": "#2a3f5f"
            },
            "marker": {
             "line": {
              "color": "#E5ECF6",
              "width": 0.5
             }
            },
            "type": "bar"
           }
          ],
          "barpolar": [
           {
            "marker": {
             "line": {
              "color": "#E5ECF6",
              "width": 0.5
             }
            },
            "type": "barpolar"
           }
          ],
          "carpet": [
           {
            "aaxis": {
             "endlinecolor": "#2a3f5f",
             "gridcolor": "white",
             "linecolor": "white",
             "minorgridcolor": "white",
             "startlinecolor": "#2a3f5f"
            },
            "baxis": {
             "endlinecolor": "#2a3f5f",
             "gridcolor": "white",
             "linecolor": "white",
             "minorgridcolor": "white",
             "startlinecolor": "#2a3f5f"
            },
            "type": "carpet"
           }
          ],
          "choropleth": [
           {
            "colorbar": {
             "outlinewidth": 0,
             "ticks": ""
            },
            "type": "choropleth"
           }
          ],
          "contour": [
           {
            "colorbar": {
             "outlinewidth": 0,
             "ticks": ""
            },
            "colorscale": [
             [
              0,
              "#0d0887"
             ],
             [
              0.1111111111111111,
              "#46039f"
             ],
             [
              0.2222222222222222,
              "#7201a8"
             ],
             [
              0.3333333333333333,
              "#9c179e"
             ],
             [
              0.4444444444444444,
              "#bd3786"
             ],
             [
              0.5555555555555556,
              "#d8576b"
             ],
             [
              0.6666666666666666,
              "#ed7953"
             ],
             [
              0.7777777777777778,
              "#fb9f3a"
             ],
             [
              0.8888888888888888,
              "#fdca26"
             ],
             [
              1,
              "#f0f921"
             ]
            ],
            "type": "contour"
           }
          ],
          "contourcarpet": [
           {
            "colorbar": {
             "outlinewidth": 0,
             "ticks": ""
            },
            "type": "contourcarpet"
           }
          ],
          "heatmap": [
           {
            "colorbar": {
             "outlinewidth": 0,
             "ticks": ""
            },
            "colorscale": [
             [
              0,
              "#0d0887"
             ],
             [
              0.1111111111111111,
              "#46039f"
             ],
             [
              0.2222222222222222,
              "#7201a8"
             ],
             [
              0.3333333333333333,
              "#9c179e"
             ],
             [
              0.4444444444444444,
              "#bd3786"
             ],
             [
              0.5555555555555556,
              "#d8576b"
             ],
             [
              0.6666666666666666,
              "#ed7953"
             ],
             [
              0.7777777777777778,
              "#fb9f3a"
             ],
             [
              0.8888888888888888,
              "#fdca26"
             ],
             [
              1,
              "#f0f921"
             ]
            ],
            "type": "heatmap"
           }
          ],
          "heatmapgl": [
           {
            "colorbar": {
             "outlinewidth": 0,
             "ticks": ""
            },
            "colorscale": [
             [
              0,
              "#0d0887"
             ],
             [
              0.1111111111111111,
              "#46039f"
             ],
             [
              0.2222222222222222,
              "#7201a8"
             ],
             [
              0.3333333333333333,
              "#9c179e"
             ],
             [
              0.4444444444444444,
              "#bd3786"
             ],
             [
              0.5555555555555556,
              "#d8576b"
             ],
             [
              0.6666666666666666,
              "#ed7953"
             ],
             [
              0.7777777777777778,
              "#fb9f3a"
             ],
             [
              0.8888888888888888,
              "#fdca26"
             ],
             [
              1,
              "#f0f921"
             ]
            ],
            "type": "heatmapgl"
           }
          ],
          "histogram": [
           {
            "marker": {
             "colorbar": {
              "outlinewidth": 0,
              "ticks": ""
             }
            },
            "type": "histogram"
           }
          ],
          "histogram2d": [
           {
            "colorbar": {
             "outlinewidth": 0,
             "ticks": ""
            },
            "colorscale": [
             [
              0,
              "#0d0887"
             ],
             [
              0.1111111111111111,
              "#46039f"
             ],
             [
              0.2222222222222222,
              "#7201a8"
             ],
             [
              0.3333333333333333,
              "#9c179e"
             ],
             [
              0.4444444444444444,
              "#bd3786"
             ],
             [
              0.5555555555555556,
              "#d8576b"
             ],
             [
              0.6666666666666666,
              "#ed7953"
             ],
             [
              0.7777777777777778,
              "#fb9f3a"
             ],
             [
              0.8888888888888888,
              "#fdca26"
             ],
             [
              1,
              "#f0f921"
             ]
            ],
            "type": "histogram2d"
           }
          ],
          "histogram2dcontour": [
           {
            "colorbar": {
             "outlinewidth": 0,
             "ticks": ""
            },
            "colorscale": [
             [
              0,
              "#0d0887"
             ],
             [
              0.1111111111111111,
              "#46039f"
             ],
             [
              0.2222222222222222,
              "#7201a8"
             ],
             [
              0.3333333333333333,
              "#9c179e"
             ],
             [
              0.4444444444444444,
              "#bd3786"
             ],
             [
              0.5555555555555556,
              "#d8576b"
             ],
             [
              0.6666666666666666,
              "#ed7953"
             ],
             [
              0.7777777777777778,
              "#fb9f3a"
             ],
             [
              0.8888888888888888,
              "#fdca26"
             ],
             [
              1,
              "#f0f921"
             ]
            ],
            "type": "histogram2dcontour"
           }
          ],
          "mesh3d": [
           {
            "colorbar": {
             "outlinewidth": 0,
             "ticks": ""
            },
            "type": "mesh3d"
           }
          ],
          "parcoords": [
           {
            "line": {
             "colorbar": {
              "outlinewidth": 0,
              "ticks": ""
             }
            },
            "type": "parcoords"
           }
          ],
          "pie": [
           {
            "automargin": true,
            "type": "pie"
           }
          ],
          "scatter": [
           {
            "marker": {
             "colorbar": {
              "outlinewidth": 0,
              "ticks": ""
             }
            },
            "type": "scatter"
           }
          ],
          "scatter3d": [
           {
            "line": {
             "colorbar": {
              "outlinewidth": 0,
              "ticks": ""
             }
            },
            "marker": {
             "colorbar": {
              "outlinewidth": 0,
              "ticks": ""
             }
            },
            "type": "scatter3d"
           }
          ],
          "scattercarpet": [
           {
            "marker": {
             "colorbar": {
              "outlinewidth": 0,
              "ticks": ""
             }
            },
            "type": "scattercarpet"
           }
          ],
          "scattergeo": [
           {
            "marker": {
             "colorbar": {
              "outlinewidth": 0,
              "ticks": ""
             }
            },
            "type": "scattergeo"
           }
          ],
          "scattergl": [
           {
            "marker": {
             "colorbar": {
              "outlinewidth": 0,
              "ticks": ""
             }
            },
            "type": "scattergl"
           }
          ],
          "scattermapbox": [
           {
            "marker": {
             "colorbar": {
              "outlinewidth": 0,
              "ticks": ""
             }
            },
            "type": "scattermapbox"
           }
          ],
          "scatterpolar": [
           {
            "marker": {
             "colorbar": {
              "outlinewidth": 0,
              "ticks": ""
             }
            },
            "type": "scatterpolar"
           }
          ],
          "scatterpolargl": [
           {
            "marker": {
             "colorbar": {
              "outlinewidth": 0,
              "ticks": ""
             }
            },
            "type": "scatterpolargl"
           }
          ],
          "scatterternary": [
           {
            "marker": {
             "colorbar": {
              "outlinewidth": 0,
              "ticks": ""
             }
            },
            "type": "scatterternary"
           }
          ],
          "surface": [
           {
            "colorbar": {
             "outlinewidth": 0,
             "ticks": ""
            },
            "colorscale": [
             [
              0,
              "#0d0887"
             ],
             [
              0.1111111111111111,
              "#46039f"
             ],
             [
              0.2222222222222222,
              "#7201a8"
             ],
             [
              0.3333333333333333,
              "#9c179e"
             ],
             [
              0.4444444444444444,
              "#bd3786"
             ],
             [
              0.5555555555555556,
              "#d8576b"
             ],
             [
              0.6666666666666666,
              "#ed7953"
             ],
             [
              0.7777777777777778,
              "#fb9f3a"
             ],
             [
              0.8888888888888888,
              "#fdca26"
             ],
             [
              1,
              "#f0f921"
             ]
            ],
            "type": "surface"
           }
          ],
          "table": [
           {
            "cells": {
             "fill": {
              "color": "#EBF0F8"
             },
             "line": {
              "color": "white"
             }
            },
            "header": {
             "fill": {
              "color": "#C8D4E3"
             },
             "line": {
              "color": "white"
             }
            },
            "type": "table"
           }
          ]
         },
         "layout": {
          "annotationdefaults": {
           "arrowcolor": "#2a3f5f",
           "arrowhead": 0,
           "arrowwidth": 1
          },
          "coloraxis": {
           "colorbar": {
            "outlinewidth": 0,
            "ticks": ""
           }
          },
          "colorscale": {
           "diverging": [
            [
             0,
             "#8e0152"
            ],
            [
             0.1,
             "#c51b7d"
            ],
            [
             0.2,
             "#de77ae"
            ],
            [
             0.3,
             "#f1b6da"
            ],
            [
             0.4,
             "#fde0ef"
            ],
            [
             0.5,
             "#f7f7f7"
            ],
            [
             0.6,
             "#e6f5d0"
            ],
            [
             0.7,
             "#b8e186"
            ],
            [
             0.8,
             "#7fbc41"
            ],
            [
             0.9,
             "#4d9221"
            ],
            [
             1,
             "#276419"
            ]
           ],
           "sequential": [
            [
             0,
             "#0d0887"
            ],
            [
             0.1111111111111111,
             "#46039f"
            ],
            [
             0.2222222222222222,
             "#7201a8"
            ],
            [
             0.3333333333333333,
             "#9c179e"
            ],
            [
             0.4444444444444444,
             "#bd3786"
            ],
            [
             0.5555555555555556,
             "#d8576b"
            ],
            [
             0.6666666666666666,
             "#ed7953"
            ],
            [
             0.7777777777777778,
             "#fb9f3a"
            ],
            [
             0.8888888888888888,
             "#fdca26"
            ],
            [
             1,
             "#f0f921"
            ]
           ],
           "sequentialminus": [
            [
             0,
             "#0d0887"
            ],
            [
             0.1111111111111111,
             "#46039f"
            ],
            [
             0.2222222222222222,
             "#7201a8"
            ],
            [
             0.3333333333333333,
             "#9c179e"
            ],
            [
             0.4444444444444444,
             "#bd3786"
            ],
            [
             0.5555555555555556,
             "#d8576b"
            ],
            [
             0.6666666666666666,
             "#ed7953"
            ],
            [
             0.7777777777777778,
             "#fb9f3a"
            ],
            [
             0.8888888888888888,
             "#fdca26"
            ],
            [
             1,
             "#f0f921"
            ]
           ]
          },
          "colorway": [
           "#636efa",
           "#EF553B",
           "#00cc96",
           "#ab63fa",
           "#FFA15A",
           "#19d3f3",
           "#FF6692",
           "#B6E880",
           "#FF97FF",
           "#FECB52"
          ],
          "font": {
           "color": "#2a3f5f"
          },
          "geo": {
           "bgcolor": "white",
           "lakecolor": "white",
           "landcolor": "#E5ECF6",
           "showlakes": true,
           "showland": true,
           "subunitcolor": "white"
          },
          "hoverlabel": {
           "align": "left"
          },
          "hovermode": "closest",
          "mapbox": {
           "style": "light"
          },
          "paper_bgcolor": "white",
          "plot_bgcolor": "#E5ECF6",
          "polar": {
           "angularaxis": {
            "gridcolor": "white",
            "linecolor": "white",
            "ticks": ""
           },
           "bgcolor": "#E5ECF6",
           "radialaxis": {
            "gridcolor": "white",
            "linecolor": "white",
            "ticks": ""
           }
          },
          "scene": {
           "xaxis": {
            "backgroundcolor": "#E5ECF6",
            "gridcolor": "white",
            "gridwidth": 2,
            "linecolor": "white",
            "showbackground": true,
            "ticks": "",
            "zerolinecolor": "white"
           },
           "yaxis": {
            "backgroundcolor": "#E5ECF6",
            "gridcolor": "white",
            "gridwidth": 2,
            "linecolor": "white",
            "showbackground": true,
            "ticks": "",
            "zerolinecolor": "white"
           },
           "zaxis": {
            "backgroundcolor": "#E5ECF6",
            "gridcolor": "white",
            "gridwidth": 2,
            "linecolor": "white",
            "showbackground": true,
            "ticks": "",
            "zerolinecolor": "white"
           }
          },
          "shapedefaults": {
           "line": {
            "color": "#2a3f5f"
           }
          },
          "ternary": {
           "aaxis": {
            "gridcolor": "white",
            "linecolor": "white",
            "ticks": ""
           },
           "baxis": {
            "gridcolor": "white",
            "linecolor": "white",
            "ticks": ""
           },
           "bgcolor": "#E5ECF6",
           "caxis": {
            "gridcolor": "white",
            "linecolor": "white",
            "ticks": ""
           }
          },
          "title": {
           "x": 0.05
          },
          "xaxis": {
           "automargin": true,
           "gridcolor": "white",
           "linecolor": "white",
           "ticks": "",
           "title": {
            "standoff": 15
           },
           "zerolinecolor": "white",
           "zerolinewidth": 2
          },
          "yaxis": {
           "automargin": true,
           "gridcolor": "white",
           "linecolor": "white",
           "ticks": "",
           "title": {
            "standoff": 15
           },
           "zerolinecolor": "white",
           "zerolinewidth": 2
          }
         }
        },
        "width": 1000
       }
      }
     },
     "metadata": {},
     "output_type": "display_data"
    }
   ],
   "source": [
    "import plotly.graph_objects as go\n",
    "fig = go.Figure(data=go.Choropleth(\n",
    "    locations = alt_2011['CountryCode'],\n",
    "    z = alt_2011['Value'],\n",
    "    autocolorscale=True,\n",
    "    reversescale=True,\n",
    "    marker_line_color='darkgray',\n",
    "    marker_line_width=0.5,\n",
    "    #colorbar_tickprefix = 'metric tons pc ',\n",
    "    colorbar_title = 'Alternative and Nuclear energy (% of total)'))\n",
    "fig.update_layout(\n",
    "    autosize=False,\n",
    "    width=1000,\n",
    "    height=500,\n",
    "    margin=go.layout.Margin(\n",
    "        l=50,\n",
    "        r=50,\n",
    "        b=100,\n",
    "        t=100,\n",
    "        pad=4))\n",
    "fig.show()"
   ]
  },
  {
   "cell_type": "markdown",
   "metadata": {},
   "source": [
    "### Let's now look at the electricity sales prices in the US to see if decrease in CO2 emission led to increase of retail prices.\n",
    "\n",
    "Average Retail price of Electiricity is obtained from https://www.eia.gov/electricity/data/browser/#/topic/7?agg=0,1&geo=g&endsec=vg&linechart=ELEC.PRICE.US-ALL.A~ELEC.PRICE.US-RES.A~ELEC.PRICE.US-COM.A~ELEC.PRICE.US-IND.A&columnchart=ELEC.PRICE.US-ALL.A~ELEC.PRICE.US-RES.A~ELEC.PRICE.US-COM.A~ELEC.PRICE.US-IND.A&map=ELEC.PRICE.US-ALL.A&freq=A&ctype=linechart&ltype=pin&rtype=s&pin=&rse=0&maptype=0 "
   ]
  },
  {
   "cell_type": "code",
   "execution_count": 52,
   "metadata": {},
   "outputs": [
    {
     "data": {
      "text/html": [
       "<div>\n",
       "<style scoped>\n",
       "    .dataframe tbody tr th:only-of-type {\n",
       "        vertical-align: middle;\n",
       "    }\n",
       "\n",
       "    .dataframe tbody tr th {\n",
       "        vertical-align: top;\n",
       "    }\n",
       "\n",
       "    .dataframe thead th {\n",
       "        text-align: right;\n",
       "    }\n",
       "</style>\n",
       "<table border=\"1\" class=\"dataframe\">\n",
       "  <thead>\n",
       "    <tr style=\"text-align: right;\">\n",
       "      <th></th>\n",
       "      <th>Year</th>\n",
       "      <th>av_price</th>\n",
       "    </tr>\n",
       "  </thead>\n",
       "  <tbody>\n",
       "    <tr>\n",
       "      <td>0</td>\n",
       "      <td>2018</td>\n",
       "      <td>10.53</td>\n",
       "    </tr>\n",
       "    <tr>\n",
       "      <td>1</td>\n",
       "      <td>2017</td>\n",
       "      <td>10.48</td>\n",
       "    </tr>\n",
       "    <tr>\n",
       "      <td>2</td>\n",
       "      <td>2016</td>\n",
       "      <td>10.27</td>\n",
       "    </tr>\n",
       "    <tr>\n",
       "      <td>3</td>\n",
       "      <td>2015</td>\n",
       "      <td>10.41</td>\n",
       "    </tr>\n",
       "    <tr>\n",
       "      <td>4</td>\n",
       "      <td>2014</td>\n",
       "      <td>10.44</td>\n",
       "    </tr>\n",
       "    <tr>\n",
       "      <td>5</td>\n",
       "      <td>2013</td>\n",
       "      <td>10.07</td>\n",
       "    </tr>\n",
       "    <tr>\n",
       "      <td>6</td>\n",
       "      <td>2012</td>\n",
       "      <td>9.84</td>\n",
       "    </tr>\n",
       "    <tr>\n",
       "      <td>7</td>\n",
       "      <td>2011</td>\n",
       "      <td>9.90</td>\n",
       "    </tr>\n",
       "    <tr>\n",
       "      <td>8</td>\n",
       "      <td>2010</td>\n",
       "      <td>9.83</td>\n",
       "    </tr>\n",
       "    <tr>\n",
       "      <td>9</td>\n",
       "      <td>2009</td>\n",
       "      <td>9.82</td>\n",
       "    </tr>\n",
       "    <tr>\n",
       "      <td>10</td>\n",
       "      <td>2008</td>\n",
       "      <td>9.74</td>\n",
       "    </tr>\n",
       "    <tr>\n",
       "      <td>11</td>\n",
       "      <td>2007</td>\n",
       "      <td>9.13</td>\n",
       "    </tr>\n",
       "    <tr>\n",
       "      <td>12</td>\n",
       "      <td>2006</td>\n",
       "      <td>8.90</td>\n",
       "    </tr>\n",
       "    <tr>\n",
       "      <td>13</td>\n",
       "      <td>2005</td>\n",
       "      <td>8.14</td>\n",
       "    </tr>\n",
       "    <tr>\n",
       "      <td>14</td>\n",
       "      <td>2004</td>\n",
       "      <td>7.61</td>\n",
       "    </tr>\n",
       "    <tr>\n",
       "      <td>15</td>\n",
       "      <td>2003</td>\n",
       "      <td>7.44</td>\n",
       "    </tr>\n",
       "    <tr>\n",
       "      <td>16</td>\n",
       "      <td>2002</td>\n",
       "      <td>7.20</td>\n",
       "    </tr>\n",
       "    <tr>\n",
       "      <td>17</td>\n",
       "      <td>2001</td>\n",
       "      <td>7.29</td>\n",
       "    </tr>\n",
       "  </tbody>\n",
       "</table>\n",
       "</div>"
      ],
      "text/plain": [
       "    Year  av_price\n",
       "0   2018     10.53\n",
       "1   2017     10.48\n",
       "2   2016     10.27\n",
       "3   2015     10.41\n",
       "4   2014     10.44\n",
       "5   2013     10.07\n",
       "6   2012      9.84\n",
       "7   2011      9.90\n",
       "8   2010      9.83\n",
       "9   2009      9.82\n",
       "10  2008      9.74\n",
       "11  2007      9.13\n",
       "12  2006      8.90\n",
       "13  2005      8.14\n",
       "14  2004      7.61\n",
       "15  2003      7.44\n",
       "16  2002      7.20\n",
       "17  2001      7.29"
      ]
     },
     "execution_count": 52,
     "metadata": {},
     "output_type": "execute_result"
    }
   ],
   "source": [
    "electricity_data = pd.read_csv(\"./Resources/Average_retail_price_of_electricity_United_States_annual.csv\")\n",
    "electricity_data = electricity_data[['Year', 'all sectors cents per kilowatthour']]\n",
    "electricity_data = electricity_data.rename(columns={'all sectors cents per kilowatthour': 'av_price'})\n",
    "electricity_data"
   ]
  },
  {
   "cell_type": "raw",
   "metadata": {},
   "source": []
  },
  {
   "cell_type": "code",
   "execution_count": 53,
   "metadata": {},
   "outputs": [
    {
     "data": {
      "text/html": [
       "<div>\n",
       "<style scoped>\n",
       "    .dataframe tbody tr th:only-of-type {\n",
       "        vertical-align: middle;\n",
       "    }\n",
       "\n",
       "    .dataframe tbody tr th {\n",
       "        vertical-align: top;\n",
       "    }\n",
       "\n",
       "    .dataframe thead th {\n",
       "        text-align: right;\n",
       "    }\n",
       "</style>\n",
       "<table border=\"1\" class=\"dataframe\">\n",
       "  <thead>\n",
       "    <tr style=\"text-align: right;\">\n",
       "      <th></th>\n",
       "      <th>co2_val_pc</th>\n",
       "      <th>av_price</th>\n",
       "    </tr>\n",
       "  </thead>\n",
       "  <tbody>\n",
       "    <tr>\n",
       "      <td>co2_val_pc</td>\n",
       "      <td>1.000000</td>\n",
       "      <td>-0.874974</td>\n",
       "    </tr>\n",
       "    <tr>\n",
       "      <td>av_price</td>\n",
       "      <td>-0.874974</td>\n",
       "      <td>1.000000</td>\n",
       "    </tr>\n",
       "  </tbody>\n",
       "</table>\n",
       "</div>"
      ],
      "text/plain": [
       "            co2_val_pc  av_price\n",
       "co2_val_pc    1.000000 -0.874974\n",
       "av_price     -0.874974  1.000000"
      ]
     },
     "execution_count": 53,
     "metadata": {},
     "output_type": "execute_result"
    },
    {
     "data": {
      "image/png": "[encoded data removed]",
      "text/plain": [
       "<Figure size 432x288 with 1 Axes>"
      ]
     },
     "metadata": {
      "needs_background": "light"
     },
     "output_type": "display_data"
    }
   ],
   "source": [
    "electricity_data = electricity_data.sort_values('Year', ascending=True)\n",
    "electricity_data\n",
    "\n",
    "electricity_data = electricity_data[(electricity_data['Year'] > 2004) & (electricity_data['Year'] < 2012)]\n",
    "plt.plot(electricity_data['Year'], electricity_data['av_price'])\n",
    "co2_elec_retail = pd.merge(co2_us_last, electricity_data, how='outer')\n",
    "co2_elec_retail[['co2_val_pc',  'av_price']].corr()"
   ]
  },
  {
   "cell_type": "code",
   "execution_count": 54,
   "metadata": {},
   "outputs": [
    {
     "data": {
      "text/html": [
       "<div>\n",
       "<style scoped>\n",
       "    .dataframe tbody tr th:only-of-type {\n",
       "        vertical-align: middle;\n",
       "    }\n",
       "\n",
       "    .dataframe tbody tr th {\n",
       "        vertical-align: top;\n",
       "    }\n",
       "\n",
       "    .dataframe thead th {\n",
       "        text-align: right;\n",
       "    }\n",
       "</style>\n",
       "<table border=\"1\" class=\"dataframe\">\n",
       "  <thead>\n",
       "    <tr style=\"text-align: right;\">\n",
       "      <th></th>\n",
       "      <th>CountryCode</th>\n",
       "      <th>CO2_Indicator</th>\n",
       "      <th>Year</th>\n",
       "      <th>co2_val_pc</th>\n",
       "    </tr>\n",
       "  </thead>\n",
       "  <tbody>\n",
       "    <tr>\n",
       "      <td>0</td>\n",
       "      <td>USA</td>\n",
       "      <td>CO2 emissions (metric tons per capita)</td>\n",
       "      <td>1960</td>\n",
       "      <td>15.999779</td>\n",
       "    </tr>\n",
       "    <tr>\n",
       "      <td>1</td>\n",
       "      <td>USA</td>\n",
       "      <td>CO2 emissions (metric tons per capita)</td>\n",
       "      <td>1961</td>\n",
       "      <td>15.681256</td>\n",
       "    </tr>\n",
       "    <tr>\n",
       "      <td>2</td>\n",
       "      <td>USA</td>\n",
       "      <td>CO2 emissions (metric tons per capita)</td>\n",
       "      <td>1962</td>\n",
       "      <td>16.013937</td>\n",
       "    </tr>\n",
       "    <tr>\n",
       "      <td>3</td>\n",
       "      <td>USA</td>\n",
       "      <td>CO2 emissions (metric tons per capita)</td>\n",
       "      <td>1963</td>\n",
       "      <td>16.482762</td>\n",
       "    </tr>\n",
       "    <tr>\n",
       "      <td>4</td>\n",
       "      <td>USA</td>\n",
       "      <td>CO2 emissions (metric tons per capita)</td>\n",
       "      <td>1964</td>\n",
       "      <td>16.968119</td>\n",
       "    </tr>\n",
       "    <tr>\n",
       "      <td>5</td>\n",
       "      <td>USA</td>\n",
       "      <td>CO2 emissions (metric tons per capita)</td>\n",
       "      <td>1965</td>\n",
       "      <td>17.451725</td>\n",
       "    </tr>\n",
       "    <tr>\n",
       "      <td>6</td>\n",
       "      <td>USA</td>\n",
       "      <td>CO2 emissions (metric tons per capita)</td>\n",
       "      <td>1966</td>\n",
       "      <td>18.121073</td>\n",
       "    </tr>\n",
       "    <tr>\n",
       "      <td>7</td>\n",
       "      <td>USA</td>\n",
       "      <td>CO2 emissions (metric tons per capita)</td>\n",
       "      <td>1967</td>\n",
       "      <td>18.598318</td>\n",
       "    </tr>\n",
       "    <tr>\n",
       "      <td>8</td>\n",
       "      <td>USA</td>\n",
       "      <td>CO2 emissions (metric tons per capita)</td>\n",
       "      <td>1968</td>\n",
       "      <td>19.089389</td>\n",
       "    </tr>\n",
       "    <tr>\n",
       "      <td>9</td>\n",
       "      <td>USA</td>\n",
       "      <td>CO2 emissions (metric tons per capita)</td>\n",
       "      <td>1969</td>\n",
       "      <td>19.857946</td>\n",
       "    </tr>\n",
       "    <tr>\n",
       "      <td>10</td>\n",
       "      <td>USA</td>\n",
       "      <td>CO2 emissions (metric tons per capita)</td>\n",
       "      <td>1970</td>\n",
       "      <td>21.111252</td>\n",
       "    </tr>\n",
       "    <tr>\n",
       "      <td>11</td>\n",
       "      <td>USA</td>\n",
       "      <td>CO2 emissions (metric tons per capita)</td>\n",
       "      <td>1971</td>\n",
       "      <td>20.980203</td>\n",
       "    </tr>\n",
       "    <tr>\n",
       "      <td>12</td>\n",
       "      <td>USA</td>\n",
       "      <td>CO2 emissions (metric tons per capita)</td>\n",
       "      <td>1972</td>\n",
       "      <td>21.748642</td>\n",
       "    </tr>\n",
       "    <tr>\n",
       "      <td>13</td>\n",
       "      <td>USA</td>\n",
       "      <td>CO2 emissions (metric tons per capita)</td>\n",
       "      <td>1973</td>\n",
       "      <td>22.510582</td>\n",
       "    </tr>\n",
       "    <tr>\n",
       "      <td>14</td>\n",
       "      <td>USA</td>\n",
       "      <td>CO2 emissions (metric tons per capita)</td>\n",
       "      <td>1974</td>\n",
       "      <td>21.502930</td>\n",
       "    </tr>\n",
       "    <tr>\n",
       "      <td>15</td>\n",
       "      <td>USA</td>\n",
       "      <td>CO2 emissions (metric tons per capita)</td>\n",
       "      <td>1975</td>\n",
       "      <td>20.402224</td>\n",
       "    </tr>\n",
       "    <tr>\n",
       "      <td>16</td>\n",
       "      <td>USA</td>\n",
       "      <td>CO2 emissions (metric tons per capita)</td>\n",
       "      <td>1976</td>\n",
       "      <td>21.157615</td>\n",
       "    </tr>\n",
       "    <tr>\n",
       "      <td>17</td>\n",
       "      <td>USA</td>\n",
       "      <td>CO2 emissions (metric tons per capita)</td>\n",
       "      <td>1977</td>\n",
       "      <td>21.532484</td>\n",
       "    </tr>\n",
       "    <tr>\n",
       "      <td>18</td>\n",
       "      <td>USA</td>\n",
       "      <td>CO2 emissions (metric tons per capita)</td>\n",
       "      <td>1978</td>\n",
       "      <td>21.973005</td>\n",
       "    </tr>\n",
       "    <tr>\n",
       "      <td>19</td>\n",
       "      <td>USA</td>\n",
       "      <td>CO2 emissions (metric tons per capita)</td>\n",
       "      <td>1979</td>\n",
       "      <td>21.780437</td>\n",
       "    </tr>\n",
       "    <tr>\n",
       "      <td>20</td>\n",
       "      <td>USA</td>\n",
       "      <td>CO2 emissions (metric tons per capita)</td>\n",
       "      <td>1980</td>\n",
       "      <td>20.786488</td>\n",
       "    </tr>\n",
       "    <tr>\n",
       "      <td>21</td>\n",
       "      <td>USA</td>\n",
       "      <td>CO2 emissions (metric tons per capita)</td>\n",
       "      <td>1981</td>\n",
       "      <td>19.766764</td>\n",
       "    </tr>\n",
       "    <tr>\n",
       "      <td>22</td>\n",
       "      <td>USA</td>\n",
       "      <td>CO2 emissions (metric tons per capita)</td>\n",
       "      <td>1982</td>\n",
       "      <td>18.590495</td>\n",
       "    </tr>\n",
       "    <tr>\n",
       "      <td>23</td>\n",
       "      <td>USA</td>\n",
       "      <td>CO2 emissions (metric tons per capita)</td>\n",
       "      <td>1983</td>\n",
       "      <td>18.571544</td>\n",
       "    </tr>\n",
       "    <tr>\n",
       "      <td>24</td>\n",
       "      <td>USA</td>\n",
       "      <td>CO2 emissions (metric tons per capita)</td>\n",
       "      <td>1984</td>\n",
       "      <td>18.976750</td>\n",
       "    </tr>\n",
       "    <tr>\n",
       "      <td>25</td>\n",
       "      <td>USA</td>\n",
       "      <td>CO2 emissions (metric tons per capita)</td>\n",
       "      <td>1985</td>\n",
       "      <td>18.882313</td>\n",
       "    </tr>\n",
       "    <tr>\n",
       "      <td>26</td>\n",
       "      <td>USA</td>\n",
       "      <td>CO2 emissions (metric tons per capita)</td>\n",
       "      <td>1986</td>\n",
       "      <td>18.720723</td>\n",
       "    </tr>\n",
       "    <tr>\n",
       "      <td>27</td>\n",
       "      <td>USA</td>\n",
       "      <td>CO2 emissions (metric tons per capita)</td>\n",
       "      <td>1987</td>\n",
       "      <td>19.350334</td>\n",
       "    </tr>\n",
       "    <tr>\n",
       "      <td>28</td>\n",
       "      <td>USA</td>\n",
       "      <td>CO2 emissions (metric tons per capita)</td>\n",
       "      <td>1988</td>\n",
       "      <td>20.010413</td>\n",
       "    </tr>\n",
       "    <tr>\n",
       "      <td>29</td>\n",
       "      <td>USA</td>\n",
       "      <td>CO2 emissions (metric tons per capita)</td>\n",
       "      <td>1989</td>\n",
       "      <td>20.075770</td>\n",
       "    </tr>\n",
       "    <tr>\n",
       "      <td>30</td>\n",
       "      <td>USA</td>\n",
       "      <td>CO2 emissions (metric tons per capita)</td>\n",
       "      <td>1990</td>\n",
       "      <td>19.323368</td>\n",
       "    </tr>\n",
       "    <tr>\n",
       "      <td>31</td>\n",
       "      <td>USA</td>\n",
       "      <td>CO2 emissions (metric tons per capita)</td>\n",
       "      <td>1991</td>\n",
       "      <td>19.062237</td>\n",
       "    </tr>\n",
       "    <tr>\n",
       "      <td>32</td>\n",
       "      <td>USA</td>\n",
       "      <td>CO2 emissions (metric tons per capita)</td>\n",
       "      <td>1992</td>\n",
       "      <td>19.145556</td>\n",
       "    </tr>\n",
       "    <tr>\n",
       "      <td>33</td>\n",
       "      <td>USA</td>\n",
       "      <td>CO2 emissions (metric tons per capita)</td>\n",
       "      <td>1993</td>\n",
       "      <td>19.363463</td>\n",
       "    </tr>\n",
       "    <tr>\n",
       "      <td>34</td>\n",
       "      <td>USA</td>\n",
       "      <td>CO2 emissions (metric tons per capita)</td>\n",
       "      <td>1994</td>\n",
       "      <td>19.376556</td>\n",
       "    </tr>\n",
       "    <tr>\n",
       "      <td>35</td>\n",
       "      <td>USA</td>\n",
       "      <td>CO2 emissions (metric tons per capita)</td>\n",
       "      <td>1995</td>\n",
       "      <td>19.295660</td>\n",
       "    </tr>\n",
       "    <tr>\n",
       "      <td>36</td>\n",
       "      <td>USA</td>\n",
       "      <td>CO2 emissions (metric tons per capita)</td>\n",
       "      <td>1996</td>\n",
       "      <td>19.527891</td>\n",
       "    </tr>\n",
       "    <tr>\n",
       "      <td>37</td>\n",
       "      <td>USA</td>\n",
       "      <td>CO2 emissions (metric tons per capita)</td>\n",
       "      <td>1997</td>\n",
       "      <td>19.714276</td>\n",
       "    </tr>\n",
       "    <tr>\n",
       "      <td>38</td>\n",
       "      <td>USA</td>\n",
       "      <td>CO2 emissions (metric tons per capita)</td>\n",
       "      <td>1998</td>\n",
       "      <td>19.615155</td>\n",
       "    </tr>\n",
       "    <tr>\n",
       "      <td>39</td>\n",
       "      <td>USA</td>\n",
       "      <td>CO2 emissions (metric tons per capita)</td>\n",
       "      <td>1999</td>\n",
       "      <td>19.747815</td>\n",
       "    </tr>\n",
       "    <tr>\n",
       "      <td>40</td>\n",
       "      <td>USA</td>\n",
       "      <td>CO2 emissions (metric tons per capita)</td>\n",
       "      <td>2000</td>\n",
       "      <td>20.207615</td>\n",
       "    </tr>\n",
       "    <tr>\n",
       "      <td>41</td>\n",
       "      <td>USA</td>\n",
       "      <td>CO2 emissions (metric tons per capita)</td>\n",
       "      <td>2001</td>\n",
       "      <td>19.656193</td>\n",
       "    </tr>\n",
       "    <tr>\n",
       "      <td>42</td>\n",
       "      <td>USA</td>\n",
       "      <td>CO2 emissions (metric tons per capita)</td>\n",
       "      <td>2002</td>\n",
       "      <td>19.639196</td>\n",
       "    </tr>\n",
       "    <tr>\n",
       "      <td>43</td>\n",
       "      <td>USA</td>\n",
       "      <td>CO2 emissions (metric tons per capita)</td>\n",
       "      <td>2003</td>\n",
       "      <td>19.576239</td>\n",
       "    </tr>\n",
       "    <tr>\n",
       "      <td>44</td>\n",
       "      <td>USA</td>\n",
       "      <td>CO2 emissions (metric tons per capita)</td>\n",
       "      <td>2004</td>\n",
       "      <td>19.683581</td>\n",
       "    </tr>\n",
       "    <tr>\n",
       "      <td>45</td>\n",
       "      <td>USA</td>\n",
       "      <td>CO2 emissions (metric tons per capita)</td>\n",
       "      <td>2005</td>\n",
       "      <td>19.610275</td>\n",
       "    </tr>\n",
       "    <tr>\n",
       "      <td>46</td>\n",
       "      <td>USA</td>\n",
       "      <td>CO2 emissions (metric tons per capita)</td>\n",
       "      <td>2006</td>\n",
       "      <td>19.116139</td>\n",
       "    </tr>\n",
       "    <tr>\n",
       "      <td>47</td>\n",
       "      <td>USA</td>\n",
       "      <td>CO2 emissions (metric tons per capita)</td>\n",
       "      <td>2007</td>\n",
       "      <td>19.237460</td>\n",
       "    </tr>\n",
       "    <tr>\n",
       "      <td>48</td>\n",
       "      <td>USA</td>\n",
       "      <td>CO2 emissions (metric tons per capita)</td>\n",
       "      <td>2008</td>\n",
       "      <td>18.489234</td>\n",
       "    </tr>\n",
       "    <tr>\n",
       "      <td>49</td>\n",
       "      <td>USA</td>\n",
       "      <td>CO2 emissions (metric tons per capita)</td>\n",
       "      <td>2009</td>\n",
       "      <td>17.192379</td>\n",
       "    </tr>\n",
       "    <tr>\n",
       "      <td>50</td>\n",
       "      <td>USA</td>\n",
       "      <td>CO2 emissions (metric tons per capita)</td>\n",
       "      <td>2010</td>\n",
       "      <td>17.484792</td>\n",
       "    </tr>\n",
       "    <tr>\n",
       "      <td>51</td>\n",
       "      <td>USA</td>\n",
       "      <td>CO2 emissions (metric tons per capita)</td>\n",
       "      <td>2011</td>\n",
       "      <td>17.020216</td>\n",
       "    </tr>\n",
       "  </tbody>\n",
       "</table>\n",
       "</div>"
      ],
      "text/plain": [
       "   CountryCode                           CO2_Indicator  Year  co2_val_pc\n",
       "0          USA  CO2 emissions (metric tons per capita)  1960   15.999779\n",
       "1          USA  CO2 emissions (metric tons per capita)  1961   15.681256\n",
       "2          USA  CO2 emissions (metric tons per capita)  1962   16.013937\n",
       "3          USA  CO2 emissions (metric tons per capita)  1963   16.482762\n",
       "4          USA  CO2 emissions (metric tons per capita)  1964   16.968119\n",
       "5          USA  CO2 emissions (metric tons per capita)  1965   17.451725\n",
       "6          USA  CO2 emissions (metric tons per capita)  1966   18.121073\n",
       "7          USA  CO2 emissions (metric tons per capita)  1967   18.598318\n",
       "8          USA  CO2 emissions (metric tons per capita)  1968   19.089389\n",
       "9          USA  CO2 emissions (metric tons per capita)  1969   19.857946\n",
       "10         USA  CO2 emissions (metric tons per capita)  1970   21.111252\n",
       "11         USA  CO2 emissions (metric tons per capita)  1971   20.980203\n",
       "12         USA  CO2 emissions (metric tons per capita)  1972   21.748642\n",
       "13         USA  CO2 emissions (metric tons per capita)  1973   22.510582\n",
       "14         USA  CO2 emissions (metric tons per capita)  1974   21.502930\n",
       "15         USA  CO2 emissions (metric tons per capita)  1975   20.402224\n",
       "16         USA  CO2 emissions (metric tons per capita)  1976   21.157615\n",
       "17         USA  CO2 emissions (metric tons per capita)  1977   21.532484\n",
       "18         USA  CO2 emissions (metric tons per capita)  1978   21.973005\n",
       "19         USA  CO2 emissions (metric tons per capita)  1979   21.780437\n",
       "20         USA  CO2 emissions (metric tons per capita)  1980   20.786488\n",
       "21         USA  CO2 emissions (metric tons per capita)  1981   19.766764\n",
       "22         USA  CO2 emissions (metric tons per capita)  1982   18.590495\n",
       "23         USA  CO2 emissions (metric tons per capita)  1983   18.571544\n",
       "24         USA  CO2 emissions (metric tons per capita)  1984   18.976750\n",
       "25         USA  CO2 emissions (metric tons per capita)  1985   18.882313\n",
       "26         USA  CO2 emissions (metric tons per capita)  1986   18.720723\n",
       "27         USA  CO2 emissions (metric tons per capita)  1987   19.350334\n",
       "28         USA  CO2 emissions (metric tons per capita)  1988   20.010413\n",
       "29         USA  CO2 emissions (metric tons per capita)  1989   20.075770\n",
       "30         USA  CO2 emissions (metric tons per capita)  1990   19.323368\n",
       "31         USA  CO2 emissions (metric tons per capita)  1991   19.062237\n",
       "32         USA  CO2 emissions (metric tons per capita)  1992   19.145556\n",
       "33         USA  CO2 emissions (metric tons per capita)  1993   19.363463\n",
       "34         USA  CO2 emissions (metric tons per capita)  1994   19.376556\n",
       "35         USA  CO2 emissions (metric tons per capita)  1995   19.295660\n",
       "36         USA  CO2 emissions (metric tons per capita)  1996   19.527891\n",
       "37         USA  CO2 emissions (metric tons per capita)  1997   19.714276\n",
       "38         USA  CO2 emissions (metric tons per capita)  1998   19.615155\n",
       "39         USA  CO2 emissions (metric tons per capita)  1999   19.747815\n",
       "40         USA  CO2 emissions (metric tons per capita)  2000   20.207615\n",
       "41         USA  CO2 emissions (metric tons per capita)  2001   19.656193\n",
       "42         USA  CO2 emissions (metric tons per capita)  2002   19.639196\n",
       "43         USA  CO2 emissions (metric tons per capita)  2003   19.576239\n",
       "44         USA  CO2 emissions (metric tons per capita)  2004   19.683581\n",
       "45         USA  CO2 emissions (metric tons per capita)  2005   19.610275\n",
       "46         USA  CO2 emissions (metric tons per capita)  2006   19.116139\n",
       "47         USA  CO2 emissions (metric tons per capita)  2007   19.237460\n",
       "48         USA  CO2 emissions (metric tons per capita)  2008   18.489234\n",
       "49         USA  CO2 emissions (metric tons per capita)  2009   17.192379\n",
       "50         USA  CO2 emissions (metric tons per capita)  2010   17.484792\n",
       "51         USA  CO2 emissions (metric tons per capita)  2011   17.020216"
      ]
     },
     "execution_count": 54,
     "metadata": {},
     "output_type": "execute_result"
    }
   ],
   "source": [
    "co2_us"
   ]
  },
  {
   "cell_type": "code",
   "execution_count": null,
   "metadata": {},
   "outputs": [],
   "source": []
  }
 ],
 "metadata": {
  "kernelspec": {
   "display_name": "Python 3.7.4 64-bit ('kampr': virtualenv)",
   "language": "python",
   "name": "python37464bitkamprvirtualenvf133d9afb2014cbda993919793333ad8"
  },
  "language_info": {
   "codemirror_mode": {
    "name": "ipython",
    "version": 3
   },
   "file_extension": ".py",
   "mimetype": "text/x-python",
   "name": "python",
   "nbconvert_exporter": "python",
   "pygments_lexer": "ipython3",
   "version": "3.7.4"
  }
 },
 "nbformat": 4,
 "nbformat_minor": 2
}
