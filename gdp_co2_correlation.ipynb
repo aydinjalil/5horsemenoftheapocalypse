{
 "nbformat": 4,
 "nbformat_minor": 2,
 "metadata": {
  "language_info": {
   "name": "python",
   "codemirror_mode": {
    "name": "ipython",
    "version": 3
   },
   "version": "3.7.4-final"
  },
  "orig_nbformat": 2,
  "file_extension": ".py",
  "mimetype": "text/x-python",
  "name": "python",
  "npconvert_exporter": "python",
  "pygments_lexer": "ipython3",
  "version": 3,
  "kernelspec": {
   "name": "python37464bitkamprvirtualenvf133d9afb2014cbda993919793333ad8",
   "display_name": "Python 3.7.4 64-bit ('kampr': virtualenv)"
  }
 },
 "cells": [
  {
   "cell_type": "code",
   "execution_count": 100,
   "metadata": {},
   "outputs": [
    {
     "name": "stdout",
     "output_type": "stream",
     "text": "Collecting wbdata\n  Downloading https://files.pythonhosted.org/packages/d8/a0/c83a8cb001885685f8344f4a6d3557ec3de73d367aea82dbb519aa6d2706/wbdata-0.2.7.tar.gz\nRequirement already satisfied: decorator in c:\\users\\kampr\\anaconda3\\lib\\site-packages (from wbdata) (4.4.0)\nBuilding wheels for collected packages: wbdata\n  Building wheel for wbdata (setup.py): started\n  Building wheel for wbdata (setup.py): finished with status 'done'\n  Created wheel for wbdata: filename=wbdata-0.2.7-cp37-none-any.whl size=15721 sha256=e1dafe2bf0385a2e10c6fbb8cb406d87ccd76688e294317d45ab4c073cb9b08a\n  Stored in directory: C:\\Users\\kampr\\AppData\\Local\\pip\\Cache\\wheels\\57\\61\\6a\\3978e90cf2f9443b94ce56b4fa839850da9076e697be3a27e3\nSuccessfully built wbdata\nInstalling collected packages: wbdata\nSuccessfully installed wbdata-0.2.7\n"
    }
   ],
   "source": [
    "# Dependencies\n",
    "\n",
    "import pandas as pd\n",
    "import numpy as np\n",
    "import pylab as plt\n",
    "from sklearn.decomposition import PCA\n",
    "from pprint import pprint\n",
    "from datetime import datetime\n",
    "!pip install wbdata\n",
    "import wbdata"
   ]
  },
  {
   "cell_type": "code",
   "execution_count": 107,
   "metadata": {},
   "outputs": [
    {
     "name": "stdout",
     "output_type": "stream",
     "text": "2\tWorld Development Indicators\n"
    }
   ],
   "source": [
    "wbdata.get_source(2)"
   ]
  },
  {
   "cell_type": "code",
   "execution_count": 108,
   "metadata": {},
   "outputs": [
    {
     "name": "stdout",
     "output_type": "stream",
     "text": "EN.ATM.CO2E.GF.KT   \tCO2 emissions from gaseous fuel consumption (kt) \nEN.ATM.CO2E.GF.ZS   \tCO2 emissions from gaseous fuel consumption (% of total) \nEN.ATM.CO2E.KD.GD   \tCO2 emissions (kg per 2010 US$ of GDP)\nEN.ATM.CO2E.KT      \tCO2 emissions (kt)\nEN.ATM.CO2E.LF.KT   \tCO2 emissions from liquid fuel consumption (kt) \nEN.ATM.CO2E.LF.ZS   \tCO2 emissions from liquid fuel consumption (% of total) \nEN.ATM.CO2E.PC      \tCO2 emissions (metric tons per capita)\nEN.ATM.CO2E.PP.GD   \tCO2 emissions (kg per PPP $ of GDP)\nEN.ATM.CO2E.PP.GD.KD\tCO2 emissions (kg per 2011 PPP $ of GDP)\nEN.ATM.CO2E.SF.KT   \tCO2 emissions from solid fuel consumption (kt) \nEN.ATM.CO2E.SF.ZS   \tCO2 emissions from solid fuel consumption (% of total)\nEN.ATM.GHGO.KT.CE   \tOther greenhouse gas emissions, HFC, PFC and SF6 (thousand metric tons of CO2 equivalent)\nEN.ATM.GHGO.ZG      \tOther greenhouse gas emissions (% change from 1990)\nEN.ATM.GHGT.KT.CE   \tTotal greenhouse gas emissions (kt of CO2 equivalent)\nEN.ATM.GHGT.ZG      \tTotal greenhouse gas emissions (% change from 1990)\nEN.ATM.HFCG.KT.CE   \tHFC gas emissions (thousand metric tons of CO2 equivalent)\nEN.ATM.METH.AG.KT.CE\tAgricultural methane emissions (thousand metric tons of CO2 equivalent)\nEN.ATM.METH.AG.ZS   \tAgricultural methane emissions (% of total)\nEN.ATM.METH.EG.KT.CE\tMethane emissions in energy sector (thousand metric tons of CO2 equivalent)\nEN.ATM.METH.EG.ZS   \tEnergy related methane emissions (% of total)\nEN.ATM.METH.KT.CE   \tMethane emissions (kt of CO2 equivalent)\nEN.ATM.METH.ZG      \tMethane emissions (% change from 1990)\nEN.ATM.NOXE.AG.KT.CE\tAgricultural nitrous oxide emissions (thousand metric tons of CO2 equivalent)\nEN.ATM.NOXE.AG.ZS   \tAgricultural nitrous oxide emissions (% of total)\nEN.ATM.NOXE.EG.KT.CE\tNitrous oxide emissions in energy sector (thousand metric tons of CO2 equivalent)\nEN.ATM.NOXE.EG.ZS   \tNitrous oxide emissions in energy sector (% of total)\nEN.ATM.NOXE.KT.CE   \tNitrous oxide emissions (thousand metric tons of CO2 equivalent)\nEN.ATM.NOXE.ZG      \tNitrous oxide emissions (% change from 1990)\nEN.ATM.PFCG.KT.CE   \tPFC gas emissions (thousand metric tons of CO2 equivalent)\nEN.ATM.SF6G.KT.CE   \tSF6 gas emissions (thousand metric tons of CO2 equivalent)\nEN.CLC.GHGR.MT.CE   \tGHG net emissions/removals by LUCF (Mt of CO2 equivalent)\nEN.CO2.BLDG.ZS      \tCO2 emissions from residential buildings and commercial and public services (% of total fuel combustion)\nEN.CO2.ETOT.ZS      \tCO2 emissions from electricity and heat production, total (% of total fuel combustion)\nEN.CO2.MANF.ZS      \tCO2 emissions from manufacturing industries and construction (% of total fuel combustion)\nEN.CO2.OTHX.ZS      \tCO2 emissions from other sectors, excluding residential buildings and commercial and public services (% of total fuel combustion)\nEN.CO2.TRAN.ZS      \tCO2 emissions from transport (% of total fuel combustion)\nNY.ADJ.DPEM.CD      \tAdjusted savings: particulate emission damage (current US$)\nNY.ADJ.DPEM.GN.ZS   \tAdjusted savings: particulate emission damage (% of GNI)\nNY.ADJ.SVNG.CD      \tAdjusted net savings, including particulate emission damage (current US$)\nNY.ADJ.SVNG.GN.ZS   \tAdjusted net savings, including particulate emission damage (% of GNI)\nNY.ADJ.SVNX.CD      \tAdjusted net savings, excluding particulate emission damage (current US$)\nNY.ADJ.SVNX.GN.ZS   \tAdjusted net savings, excluding particulate emission damage (% of GNI)\n"
    }
   ],
   "source": [
    "wbdata.search_indicators('emission', source=2)"
   ]
  },
  {
   "cell_type": "code",
   "execution_count": 113,
   "metadata": {},
   "outputs": [
    {
     "name": "stdout",
     "output_type": "stream",
     "text": "[{'id': 'EN.ATM.CO2E.PC',\n  'name': 'CO2 emissions (metric tons per capita)',\n  'source': {'id': '2', 'value': 'World Development Indicators'},\n  'sourceNote': 'Carbon dioxide emissions are those stemming from the burning '\n                'of fossil fuels and the manufacture of cement. They include '\n                'carbon dioxide produced during consumption of solid, liquid, '\n                'and gas fuels and gas flaring.',\n  'sourceOrganization': 'Carbon Dioxide Information Analysis Center, '\n                        'Environmental Sciences Division, Oak Ridge National '\n                        'Laboratory, Tennessee, United States.',\n  'topics': [{'id': '19', 'value': 'Climate Change'},\n             {'id': '6', 'value': 'Environment '}]}]\n"
    }
   ],
   "source": [
    "co2_pc = wbdata.get_indicator('EN.ATM.CO2E.PC', display=False)\n",
    "pprint(co2_pc)"
   ]
  },
  {
   "cell_type": "code",
   "execution_count": null,
   "metadata": {},
   "outputs": [],
   "source": []
  },
  {
   "cell_type": "markdown",
   "execution_count": 109,
   "metadata": {},
   "outputs": [
    {
     "data": {
      "text/html": "<div>\n<style scoped>\n    .dataframe tbody tr th:only-of-type {\n        vertical-align: middle;\n    }\n\n    .dataframe tbody tr th {\n        vertical-align: top;\n    }\n\n    .dataframe thead th {\n        text-align: right;\n    }\n</style>\n<table border=\"1\" class=\"dataframe\">\n  <thead>\n    <tr style=\"text-align: right;\">\n      <th></th>\n      <th>CountryName</th>\n      <th>CountryCode</th>\n      <th>IndicatorName</th>\n      <th>IndicatorCode</th>\n      <th>Year</th>\n      <th>Value</th>\n    </tr>\n  </thead>\n  <tbody>\n    <tr>\n      <td>0</td>\n      <td>Arab World</td>\n      <td>ARB</td>\n      <td>Adolescent fertility rate (births per 1,000 wo...</td>\n      <td>SP.ADO.TFRT</td>\n      <td>1960</td>\n      <td>1.335609e+02</td>\n    </tr>\n    <tr>\n      <td>1</td>\n      <td>Arab World</td>\n      <td>ARB</td>\n      <td>Age dependency ratio (% of working-age populat...</td>\n      <td>SP.POP.DPND</td>\n      <td>1960</td>\n      <td>8.779760e+01</td>\n    </tr>\n    <tr>\n      <td>2</td>\n      <td>Arab World</td>\n      <td>ARB</td>\n      <td>Age dependency ratio, old (% of working-age po...</td>\n      <td>SP.POP.DPND.OL</td>\n      <td>1960</td>\n      <td>6.634579e+00</td>\n    </tr>\n    <tr>\n      <td>3</td>\n      <td>Arab World</td>\n      <td>ARB</td>\n      <td>Age dependency ratio, young (% of working-age ...</td>\n      <td>SP.POP.DPND.YG</td>\n      <td>1960</td>\n      <td>8.102333e+01</td>\n    </tr>\n    <tr>\n      <td>4</td>\n      <td>Arab World</td>\n      <td>ARB</td>\n      <td>Arms exports (SIPRI trend indicator values)</td>\n      <td>MS.MIL.XPRT.KD</td>\n      <td>1960</td>\n      <td>3.000000e+06</td>\n    </tr>\n  </tbody>\n</table>\n</div>",
      "text/plain": "  CountryName CountryCode                                      IndicatorName  \\\n0  Arab World         ARB  Adolescent fertility rate (births per 1,000 wo...   \n1  Arab World         ARB  Age dependency ratio (% of working-age populat...   \n2  Arab World         ARB  Age dependency ratio, old (% of working-age po...   \n3  Arab World         ARB  Age dependency ratio, young (% of working-age ...   \n4  Arab World         ARB        Arms exports (SIPRI trend indicator values)   \n\n    IndicatorCode  Year         Value  \n0     SP.ADO.TFRT  1960  1.335609e+02  \n1     SP.POP.DPND  1960  8.779760e+01  \n2  SP.POP.DPND.OL  1960  6.634579e+00  \n3  SP.POP.DPND.YG  1960  8.102333e+01  \n4  MS.MIL.XPRT.KD  1960  3.000000e+06  "
     },
     "execution_count": 109,
     "metadata": {},
     "output_type": "execute_result"
    }
   ],
   "source": [
    "data = pd.read_csv(\"../Resources/Indicators.csv\")\n",
    "\n",
    "data.head()"
   ]
  },
  {
   "cell_type": "markdown",
   "execution_count": 102,
   "metadata": {},
   "outputs": [
    {
     "data": {
      "text/html": "<div>\n<style scoped>\n    .dataframe tbody tr th:only-of-type {\n        vertical-align: middle;\n    }\n\n    .dataframe tbody tr th {\n        vertical-align: top;\n    }\n\n    .dataframe thead th {\n        text-align: right;\n    }\n</style>\n<table border=\"1\" class=\"dataframe\">\n  <thead>\n    <tr style=\"text-align: right;\">\n      <th></th>\n      <th>CountryName</th>\n      <th>CountryCode</th>\n      <th>IndicatorName</th>\n      <th>IndicatorCode</th>\n      <th>Year</th>\n      <th>Value</th>\n    </tr>\n  </thead>\n  <tbody>\n    <tr>\n      <td>22285</td>\n      <td>United States</td>\n      <td>USA</td>\n      <td>GDP per capita (current US$)</td>\n      <td>NY.GDP.PCAP.CD</td>\n      <td>1960</td>\n      <td>3007.123445</td>\n    </tr>\n    <tr>\n      <td>48762</td>\n      <td>United States</td>\n      <td>USA</td>\n      <td>GDP per capita (current US$)</td>\n      <td>NY.GDP.PCAP.CD</td>\n      <td>1961</td>\n      <td>3066.562869</td>\n    </tr>\n    <tr>\n      <td>77145</td>\n      <td>United States</td>\n      <td>USA</td>\n      <td>GDP per capita (current US$)</td>\n      <td>NY.GDP.PCAP.CD</td>\n      <td>1962</td>\n      <td>3243.843078</td>\n    </tr>\n    <tr>\n      <td>105763</td>\n      <td>United States</td>\n      <td>USA</td>\n      <td>GDP per capita (current US$)</td>\n      <td>NY.GDP.PCAP.CD</td>\n      <td>1963</td>\n      <td>3374.515171</td>\n    </tr>\n    <tr>\n      <td>134801</td>\n      <td>United States</td>\n      <td>USA</td>\n      <td>GDP per capita (current US$)</td>\n      <td>NY.GDP.PCAP.CD</td>\n      <td>1964</td>\n      <td>3573.941185</td>\n    </tr>\n  </tbody>\n</table>\n</div>",
      "text/plain": "          CountryName CountryCode                 IndicatorName  \\\n22285   United States         USA  GDP per capita (current US$)   \n48762   United States         USA  GDP per capita (current US$)   \n77145   United States         USA  GDP per capita (current US$)   \n105763  United States         USA  GDP per capita (current US$)   \n134801  United States         USA  GDP per capita (current US$)   \n\n         IndicatorCode  Year        Value  \n22285   NY.GDP.PCAP.CD  1960  3007.123445  \n48762   NY.GDP.PCAP.CD  1961  3066.562869  \n77145   NY.GDP.PCAP.CD  1962  3243.843078  \n105763  NY.GDP.PCAP.CD  1963  3374.515171  \n134801  NY.GDP.PCAP.CD  1964  3573.941185  "
     },
     "execution_count": 102,
     "metadata": {},
     "output_type": "execute_result"
    }
   ],
   "source": [
    "gdp_us = data[data[\"IndicatorName\"]==\"GDP per capita (current US$)\"]\n",
    "\n",
    "gdp_us = gdp_us[gdp_us[\"CountryName\"]==\"United States\"]\n",
    "\n",
    "gdp_us.head()"
   ]
  },
  {
   "cell_type": "markdown",
   "execution_count": 103,
   "metadata": {},
   "outputs": [
    {
     "data": {
      "text/html": "<div>\n<style scoped>\n    .dataframe tbody tr th:only-of-type {\n        vertical-align: middle;\n    }\n\n    .dataframe tbody tr th {\n        vertical-align: top;\n    }\n\n    .dataframe thead th {\n        text-align: right;\n    }\n</style>\n<table border=\"1\" class=\"dataframe\">\n  <thead>\n    <tr style=\"text-align: right;\">\n      <th></th>\n      <th>Country</th>\n    </tr>\n  </thead>\n  <tbody>\n    <tr>\n      <td>0</td>\n      <td>United States</td>\n    </tr>\n    <tr>\n      <td>1</td>\n      <td>United Kingdom</td>\n    </tr>\n    <tr>\n      <td>2</td>\n      <td>Japan</td>\n    </tr>\n    <tr>\n      <td>3</td>\n      <td>China</td>\n    </tr>\n    <tr>\n      <td>4</td>\n      <td>India</td>\n    </tr>\n  </tbody>\n</table>\n</div>",
      "text/plain": "          Country\n0   United States\n1  United Kingdom\n2           Japan\n3           China\n4           India"
     },
     "execution_count": 103,
     "metadata": {},
     "output_type": "execute_result"
    }
   ],
   "source": [
    "country_list = [\"United States\",\"United Kingdom\",\"Japan\",\"China\",\"India\",\"Mexico\"]\n",
    "\n",
    "country_df = pd.DataFrame({\"Country\":country_list})\n",
    "\n",
    "country_df.head()"
   ]
  },
  {
   "cell_type": "markdown",
   "execution_count": 104,
   "metadata": {},
   "outputs": [
    {
     "data": {
      "text/html": "<div>\n<style scoped>\n    .dataframe tbody tr th:only-of-type {\n        vertical-align: middle;\n    }\n\n    .dataframe tbody tr th {\n        vertical-align: top;\n    }\n\n    .dataframe thead th {\n        text-align: right;\n    }\n</style>\n<table border=\"1\" class=\"dataframe\">\n  <thead>\n    <tr style=\"text-align: right;\">\n      <th></th>\n      <th>CountryName</th>\n      <th>CountryCode</th>\n      <th>IndicatorName</th>\n      <th>IndicatorCode</th>\n      <th>Year</th>\n      <th>Value</th>\n    </tr>\n  </thead>\n  <tbody>\n    <tr>\n      <td>7160</td>\n      <td>China</td>\n      <td>CHN</td>\n      <td>CO2 emissions (metric tons per capita)</td>\n      <td>EN.ATM.CO2E.PC</td>\n      <td>1960</td>\n      <td>1.170381</td>\n    </tr>\n    <tr>\n      <td>11577</td>\n      <td>India</td>\n      <td>IND</td>\n      <td>CO2 emissions (metric tons per capita)</td>\n      <td>EN.ATM.CO2E.PC</td>\n      <td>1960</td>\n      <td>0.268161</td>\n    </tr>\n    <tr>\n      <td>12814</td>\n      <td>Japan</td>\n      <td>JPN</td>\n      <td>CO2 emissions (metric tons per capita)</td>\n      <td>EN.ATM.CO2E.PC</td>\n      <td>1960</td>\n      <td>2.516538</td>\n    </tr>\n    <tr>\n      <td>15235</td>\n      <td>Mexico</td>\n      <td>MEX</td>\n      <td>CO2 emissions (metric tons per capita)</td>\n      <td>EN.ATM.CO2E.PC</td>\n      <td>1960</td>\n      <td>1.653382</td>\n    </tr>\n    <tr>\n      <td>22082</td>\n      <td>United Kingdom</td>\n      <td>GBR</td>\n      <td>CO2 emissions (metric tons per capita)</td>\n      <td>EN.ATM.CO2E.PC</td>\n      <td>1960</td>\n      <td>11.150759</td>\n    </tr>\n    <tr>\n      <td>22232</td>\n      <td>United States</td>\n      <td>USA</td>\n      <td>CO2 emissions (metric tons per capita)</td>\n      <td>EN.ATM.CO2E.PC</td>\n      <td>1960</td>\n      <td>15.999779</td>\n    </tr>\n  </tbody>\n</table>\n</div>",
      "text/plain": "          CountryName CountryCode                           IndicatorName  \\\n7160            China         CHN  CO2 emissions (metric tons per capita)   \n11577           India         IND  CO2 emissions (metric tons per capita)   \n12814           Japan         JPN  CO2 emissions (metric tons per capita)   \n15235          Mexico         MEX  CO2 emissions (metric tons per capita)   \n22082  United Kingdom         GBR  CO2 emissions (metric tons per capita)   \n22232   United States         USA  CO2 emissions (metric tons per capita)   \n\n        IndicatorCode  Year      Value  \n7160   EN.ATM.CO2E.PC  1960   1.170381  \n11577  EN.ATM.CO2E.PC  1960   0.268161  \n12814  EN.ATM.CO2E.PC  1960   2.516538  \n15235  EN.ATM.CO2E.PC  1960   1.653382  \n22082  EN.ATM.CO2E.PC  1960  11.150759  \n22232  EN.ATM.CO2E.PC  1960  15.999779  "
     },
     "execution_count": 104,
     "metadata": {},
     "output_type": "execute_result"
    }
   ],
   "source": [
    "co2_us = data[data[\"IndicatorName\"]==\"CO2 emissions (metric tons per capita)\"]\n",
    "\n",
    "co2_us = co2_us[co2_us[\"CountryName\"].isin(country_df[\"Country\"])]\n",
    "\n",
    "co2_us.head(6)"
   ]
  },
  {
   "cell_type": "markdown",
   "execution_count": 105,
   "metadata": {},
   "outputs": [
    {
     "ename": "TypeError",
     "evalue": "Index(...) must be called with a collection of some kind, 'Year' was passed",
     "output_type": "error",
     "traceback": [
      "\u001b[1;31m---------------------------------------------------------------------------\u001b[0m",
      "\u001b[1;31mTypeError\u001b[0m                                 Traceback (most recent call last)",
      "\u001b[1;32m<ipython-input-105-045966bb979b>\u001b[0m in \u001b[0;36m<module>\u001b[1;34m\u001b[0m\n\u001b[1;32m----> 1\u001b[1;33m \u001b[0mx_axis\u001b[0m \u001b[1;33m=\u001b[0m \u001b[0mpd\u001b[0m\u001b[1;33m.\u001b[0m\u001b[0mDataFrame\u001b[0m\u001b[1;33m(\u001b[0m\u001b[0mco2_us\u001b[0m\u001b[1;33m[\u001b[0m\u001b[1;34m\"Year\"\u001b[0m\u001b[1;33m]\u001b[0m\u001b[1;33m.\u001b[0m\u001b[0munique\u001b[0m\u001b[1;33m(\u001b[0m\u001b[1;33m)\u001b[0m\u001b[1;33m,\u001b[0m\u001b[0mcolumns\u001b[0m \u001b[1;33m=\u001b[0m \u001b[1;34m\"Year\"\u001b[0m\u001b[1;33m)\u001b[0m\u001b[1;33m\u001b[0m\u001b[1;33m\u001b[0m\u001b[0m\n\u001b[0m\u001b[0;32m      2\u001b[0m \u001b[0mx_axis\u001b[0m\u001b[1;33m.\u001b[0m\u001b[0mhead\u001b[0m\u001b[1;33m(\u001b[0m\u001b[1;33m)\u001b[0m\u001b[1;33m\u001b[0m\u001b[1;33m\u001b[0m\u001b[0m\n",
      "\u001b[1;32m~\\Anaconda3\\lib\\site-packages\\pandas\\core\\frame.py\u001b[0m in \u001b[0;36m__init__\u001b[1;34m(self, data, index, columns, dtype, copy)\u001b[0m\n\u001b[0;32m    438\u001b[0m                 \u001b[0mmgr\u001b[0m \u001b[1;33m=\u001b[0m \u001b[0minit_dict\u001b[0m\u001b[1;33m(\u001b[0m\u001b[1;33m{\u001b[0m\u001b[0mdata\u001b[0m\u001b[1;33m.\u001b[0m\u001b[0mname\u001b[0m\u001b[1;33m:\u001b[0m \u001b[0mdata\u001b[0m\u001b[1;33m}\u001b[0m\u001b[1;33m,\u001b[0m \u001b[0mindex\u001b[0m\u001b[1;33m,\u001b[0m \u001b[0mcolumns\u001b[0m\u001b[1;33m,\u001b[0m \u001b[0mdtype\u001b[0m\u001b[1;33m=\u001b[0m\u001b[0mdtype\u001b[0m\u001b[1;33m)\u001b[0m\u001b[1;33m\u001b[0m\u001b[1;33m\u001b[0m\u001b[0m\n\u001b[0;32m    439\u001b[0m             \u001b[1;32melse\u001b[0m\u001b[1;33m:\u001b[0m\u001b[1;33m\u001b[0m\u001b[1;33m\u001b[0m\u001b[0m\n\u001b[1;32m--> 440\u001b[1;33m                 \u001b[0mmgr\u001b[0m \u001b[1;33m=\u001b[0m \u001b[0minit_ndarray\u001b[0m\u001b[1;33m(\u001b[0m\u001b[0mdata\u001b[0m\u001b[1;33m,\u001b[0m \u001b[0mindex\u001b[0m\u001b[1;33m,\u001b[0m \u001b[0mcolumns\u001b[0m\u001b[1;33m,\u001b[0m \u001b[0mdtype\u001b[0m\u001b[1;33m=\u001b[0m\u001b[0mdtype\u001b[0m\u001b[1;33m,\u001b[0m \u001b[0mcopy\u001b[0m\u001b[1;33m=\u001b[0m\u001b[0mcopy\u001b[0m\u001b[1;33m)\u001b[0m\u001b[1;33m\u001b[0m\u001b[1;33m\u001b[0m\u001b[0m\n\u001b[0m\u001b[0;32m    441\u001b[0m \u001b[1;33m\u001b[0m\u001b[0m\n\u001b[0;32m    442\u001b[0m         \u001b[1;31m# For data is list-like, or Iterable (will consume into list)\u001b[0m\u001b[1;33m\u001b[0m\u001b[1;33m\u001b[0m\u001b[1;33m\u001b[0m\u001b[0m\n",
      "\u001b[1;32m~\\Anaconda3\\lib\\site-packages\\pandas\\core\\internals\\construction.py\u001b[0m in \u001b[0;36minit_ndarray\u001b[1;34m(values, index, columns, dtype, copy)\u001b[0m\n\u001b[0;32m    182\u001b[0m                 \u001b[0mraise_with_traceback\u001b[0m\u001b[1;33m(\u001b[0m\u001b[0me\u001b[0m\u001b[1;33m)\u001b[0m\u001b[1;33m\u001b[0m\u001b[1;33m\u001b[0m\u001b[0m\n\u001b[0;32m    183\u001b[0m \u001b[1;33m\u001b[0m\u001b[0m\n\u001b[1;32m--> 184\u001b[1;33m     \u001b[0mindex\u001b[0m\u001b[1;33m,\u001b[0m \u001b[0mcolumns\u001b[0m \u001b[1;33m=\u001b[0m \u001b[0m_get_axes\u001b[0m\u001b[1;33m(\u001b[0m\u001b[1;33m*\u001b[0m\u001b[0mvalues\u001b[0m\u001b[1;33m.\u001b[0m\u001b[0mshape\u001b[0m\u001b[1;33m,\u001b[0m \u001b[0mindex\u001b[0m\u001b[1;33m=\u001b[0m\u001b[0mindex\u001b[0m\u001b[1;33m,\u001b[0m \u001b[0mcolumns\u001b[0m\u001b[1;33m=\u001b[0m\u001b[0mcolumns\u001b[0m\u001b[1;33m)\u001b[0m\u001b[1;33m\u001b[0m\u001b[1;33m\u001b[0m\u001b[0m\n\u001b[0m\u001b[0;32m    185\u001b[0m     \u001b[0mvalues\u001b[0m \u001b[1;33m=\u001b[0m \u001b[0mvalues\u001b[0m\u001b[1;33m.\u001b[0m\u001b[0mT\u001b[0m\u001b[1;33m\u001b[0m\u001b[1;33m\u001b[0m\u001b[0m\n\u001b[0;32m    186\u001b[0m \u001b[1;33m\u001b[0m\u001b[0m\n",
      "\u001b[1;32m~\\Anaconda3\\lib\\site-packages\\pandas\\core\\internals\\construction.py\u001b[0m in \u001b[0;36m_get_axes\u001b[1;34m(N, K, index, columns)\u001b[0m\n\u001b[0;32m    430\u001b[0m         \u001b[0mcolumns\u001b[0m \u001b[1;33m=\u001b[0m \u001b[0mibase\u001b[0m\u001b[1;33m.\u001b[0m\u001b[0mdefault_index\u001b[0m\u001b[1;33m(\u001b[0m\u001b[0mK\u001b[0m\u001b[1;33m)\u001b[0m\u001b[1;33m\u001b[0m\u001b[1;33m\u001b[0m\u001b[0m\n\u001b[0;32m    431\u001b[0m     \u001b[1;32melse\u001b[0m\u001b[1;33m:\u001b[0m\u001b[1;33m\u001b[0m\u001b[1;33m\u001b[0m\u001b[0m\n\u001b[1;32m--> 432\u001b[1;33m         \u001b[0mcolumns\u001b[0m \u001b[1;33m=\u001b[0m \u001b[0mensure_index\u001b[0m\u001b[1;33m(\u001b[0m\u001b[0mcolumns\u001b[0m\u001b[1;33m)\u001b[0m\u001b[1;33m\u001b[0m\u001b[1;33m\u001b[0m\u001b[0m\n\u001b[0m\u001b[0;32m    433\u001b[0m     \u001b[1;32mreturn\u001b[0m \u001b[0mindex\u001b[0m\u001b[1;33m,\u001b[0m \u001b[0mcolumns\u001b[0m\u001b[1;33m\u001b[0m\u001b[1;33m\u001b[0m\u001b[0m\n\u001b[0;32m    434\u001b[0m \u001b[1;33m\u001b[0m\u001b[0m\n",
      "\u001b[1;32m~\\Anaconda3\\lib\\site-packages\\pandas\\core\\indexes\\base.py\u001b[0m in \u001b[0;36mensure_index\u001b[1;34m(index_like, copy)\u001b[0m\n\u001b[0;32m   5769\u001b[0m             \u001b[0mindex_like\u001b[0m \u001b[1;33m=\u001b[0m \u001b[0mcopy\u001b[0m\u001b[1;33m(\u001b[0m\u001b[0mindex_like\u001b[0m\u001b[1;33m)\u001b[0m\u001b[1;33m\u001b[0m\u001b[1;33m\u001b[0m\u001b[0m\n\u001b[0;32m   5770\u001b[0m \u001b[1;33m\u001b[0m\u001b[0m\n\u001b[1;32m-> 5771\u001b[1;33m     \u001b[1;32mreturn\u001b[0m \u001b[0mIndex\u001b[0m\u001b[1;33m(\u001b[0m\u001b[0mindex_like\u001b[0m\u001b[1;33m)\u001b[0m\u001b[1;33m\u001b[0m\u001b[1;33m\u001b[0m\u001b[0m\n\u001b[0m\u001b[0;32m   5772\u001b[0m \u001b[1;33m\u001b[0m\u001b[0m\n\u001b[0;32m   5773\u001b[0m \u001b[1;33m\u001b[0m\u001b[0m\n",
      "\u001b[1;32m~\\Anaconda3\\lib\\site-packages\\pandas\\core\\indexes\\base.py\u001b[0m in \u001b[0;36m__new__\u001b[1;34m(cls, data, dtype, copy, name, fastpath, tupleize_cols, **kwargs)\u001b[0m\n\u001b[0;32m    517\u001b[0m             \u001b[1;32mreturn\u001b[0m \u001b[0mIndex\u001b[0m\u001b[1;33m(\u001b[0m\u001b[0mnp\u001b[0m\u001b[1;33m.\u001b[0m\u001b[0masarray\u001b[0m\u001b[1;33m(\u001b[0m\u001b[0mdata\u001b[0m\u001b[1;33m)\u001b[0m\u001b[1;33m,\u001b[0m \u001b[0mdtype\u001b[0m\u001b[1;33m=\u001b[0m\u001b[0mdtype\u001b[0m\u001b[1;33m,\u001b[0m \u001b[0mcopy\u001b[0m\u001b[1;33m=\u001b[0m\u001b[0mcopy\u001b[0m\u001b[1;33m,\u001b[0m \u001b[0mname\u001b[0m\u001b[1;33m=\u001b[0m\u001b[0mname\u001b[0m\u001b[1;33m,\u001b[0m \u001b[1;33m**\u001b[0m\u001b[0mkwargs\u001b[0m\u001b[1;33m)\u001b[0m\u001b[1;33m\u001b[0m\u001b[1;33m\u001b[0m\u001b[0m\n\u001b[0;32m    518\u001b[0m         \u001b[1;32melif\u001b[0m \u001b[0mdata\u001b[0m \u001b[1;32mis\u001b[0m \u001b[1;32mNone\u001b[0m \u001b[1;32mor\u001b[0m \u001b[0mis_scalar\u001b[0m\u001b[1;33m(\u001b[0m\u001b[0mdata\u001b[0m\u001b[1;33m)\u001b[0m\u001b[1;33m:\u001b[0m\u001b[1;33m\u001b[0m\u001b[1;33m\u001b[0m\u001b[0m\n\u001b[1;32m--> 519\u001b[1;33m             \u001b[0mcls\u001b[0m\u001b[1;33m.\u001b[0m\u001b[0m_scalar_data_error\u001b[0m\u001b[1;33m(\u001b[0m\u001b[0mdata\u001b[0m\u001b[1;33m)\u001b[0m\u001b[1;33m\u001b[0m\u001b[1;33m\u001b[0m\u001b[0m\n\u001b[0m\u001b[0;32m    520\u001b[0m         \u001b[1;32melse\u001b[0m\u001b[1;33m:\u001b[0m\u001b[1;33m\u001b[0m\u001b[1;33m\u001b[0m\u001b[0m\n\u001b[0;32m    521\u001b[0m             \u001b[1;32mif\u001b[0m \u001b[0mtupleize_cols\u001b[0m \u001b[1;32mand\u001b[0m \u001b[0mis_list_like\u001b[0m\u001b[1;33m(\u001b[0m\u001b[0mdata\u001b[0m\u001b[1;33m)\u001b[0m\u001b[1;33m:\u001b[0m\u001b[1;33m\u001b[0m\u001b[1;33m\u001b[0m\u001b[0m\n",
      "\u001b[1;32m~\\Anaconda3\\lib\\site-packages\\pandas\\core\\indexes\\base.py\u001b[0m in \u001b[0;36m_scalar_data_error\u001b[1;34m(cls, data)\u001b[0m\n\u001b[0;32m   4106\u001b[0m         raise TypeError(\n\u001b[0;32m   4107\u001b[0m             \u001b[1;34m\"{0}(...) must be called with a collection of some \"\u001b[0m\u001b[1;33m\u001b[0m\u001b[1;33m\u001b[0m\u001b[0m\n\u001b[1;32m-> 4108\u001b[1;33m             \u001b[1;34m\"kind, {1} was passed\"\u001b[0m\u001b[1;33m.\u001b[0m\u001b[0mformat\u001b[0m\u001b[1;33m(\u001b[0m\u001b[0mcls\u001b[0m\u001b[1;33m.\u001b[0m\u001b[0m__name__\u001b[0m\u001b[1;33m,\u001b[0m \u001b[0mrepr\u001b[0m\u001b[1;33m(\u001b[0m\u001b[0mdata\u001b[0m\u001b[1;33m)\u001b[0m\u001b[1;33m)\u001b[0m\u001b[1;33m\u001b[0m\u001b[1;33m\u001b[0m\u001b[0m\n\u001b[0m\u001b[0;32m   4109\u001b[0m         )\n\u001b[0;32m   4110\u001b[0m \u001b[1;33m\u001b[0m\u001b[0m\n",
      "\u001b[1;31mTypeError\u001b[0m: Index(...) must be called with a collection of some kind, 'Year' was passed"
     ]
    }
   ],
   "source": [
    "x_axis = pd.DataFrame(co2_us[\"Year\"].unique(),columns = \"Year\")\n",
    "x_axis.head()"
   ]
  },
  {
   "cell_type": "markdown",
   "execution_count": 0,
   "metadata": {},
   "outputs": [],
   "source": [
    "x_axis = co2_us[\"Year\"].unique\n",
    "y_axis = co2_us[\"Value\"]\n",
    "\n",
    "co2_us.plot(kind=\"line\")"
   ]
  },
  {
   "cell_type": "code",
   "execution_count": null,
   "metadata": {},
   "outputs": [],
   "source": []
  }
 ]
}