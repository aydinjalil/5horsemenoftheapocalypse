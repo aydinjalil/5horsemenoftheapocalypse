{
 "nbformat": 4,
 "nbformat_minor": 2,
 "metadata": {
  "language_info": {
   "name": "python",
   "codemirror_mode": {
    "name": "ipython",
    "version": 3
   },
   "version": "3.7.4-final"
  },
  "orig_nbformat": 2,
  "file_extension": ".py",
  "mimetype": "text/x-python",
  "name": "python",
  "npconvert_exporter": "python",
  "pygments_lexer": "ipython3",
  "version": 3,
  "kernelspec": {
   "name": "python37464bitkamprvirtualenvf133d9afb2014cbda993919793333ad8",
   "display_name": "Python 3.7.4 64-bit ('kampr': virtualenv)"
  }
 },
 "cells": [
  {
   "cell_type": "code",
   "execution_count": 13,
   "metadata": {},
   "outputs": [
    {
     "data": {
      "text/html": "<div>\n<style scoped>\n    .dataframe tbody tr th:only-of-type {\n        vertical-align: middle;\n    }\n\n    .dataframe tbody tr th {\n        vertical-align: top;\n    }\n\n    .dataframe thead th {\n        text-align: right;\n    }\n</style>\n<table border=\"1\" class=\"dataframe\">\n  <thead>\n    <tr style=\"text-align: right;\">\n      <th></th>\n      <th>CountryName</th>\n      <th>CountryCode</th>\n      <th>IndicatorName</th>\n      <th>IndicatorCode</th>\n      <th>Year</th>\n      <th>Value</th>\n    </tr>\n  </thead>\n  <tbody>\n    <tr>\n      <td>0</td>\n      <td>Arab World</td>\n      <td>ARB</td>\n      <td>Adolescent fertility rate (births per 1,000 wo...</td>\n      <td>SP.ADO.TFRT</td>\n      <td>1960</td>\n      <td>1.335609e+02</td>\n    </tr>\n    <tr>\n      <td>1</td>\n      <td>Arab World</td>\n      <td>ARB</td>\n      <td>Age dependency ratio (% of working-age populat...</td>\n      <td>SP.POP.DPND</td>\n      <td>1960</td>\n      <td>8.779760e+01</td>\n    </tr>\n    <tr>\n      <td>2</td>\n      <td>Arab World</td>\n      <td>ARB</td>\n      <td>Age dependency ratio, old (% of working-age po...</td>\n      <td>SP.POP.DPND.OL</td>\n      <td>1960</td>\n      <td>6.634579e+00</td>\n    </tr>\n    <tr>\n      <td>3</td>\n      <td>Arab World</td>\n      <td>ARB</td>\n      <td>Age dependency ratio, young (% of working-age ...</td>\n      <td>SP.POP.DPND.YG</td>\n      <td>1960</td>\n      <td>8.102333e+01</td>\n    </tr>\n    <tr>\n      <td>4</td>\n      <td>Arab World</td>\n      <td>ARB</td>\n      <td>Arms exports (SIPRI trend indicator values)</td>\n      <td>MS.MIL.XPRT.KD</td>\n      <td>1960</td>\n      <td>3.000000e+06</td>\n    </tr>\n  </tbody>\n</table>\n</div>",
      "text/plain": "  CountryName CountryCode                                      IndicatorName  \\\n0  Arab World         ARB  Adolescent fertility rate (births per 1,000 wo...   \n1  Arab World         ARB  Age dependency ratio (% of working-age populat...   \n2  Arab World         ARB  Age dependency ratio, old (% of working-age po...   \n3  Arab World         ARB  Age dependency ratio, young (% of working-age ...   \n4  Arab World         ARB        Arms exports (SIPRI trend indicator values)   \n\n    IndicatorCode  Year         Value  \n0     SP.ADO.TFRT  1960  1.335609e+02  \n1     SP.POP.DPND  1960  8.779760e+01  \n2  SP.POP.DPND.OL  1960  6.634579e+00  \n3  SP.POP.DPND.YG  1960  8.102333e+01  \n4  MS.MIL.XPRT.KD  1960  3.000000e+06  "
     },
     "execution_count": 13,
     "metadata": {},
     "output_type": "execute_result"
    }
   ],
   "source": [
    "import pandas as pd\n",
    "import numpy as np\n",
    "\n",
    "#pull in source data\n",
    "path = \"source-data/Indicators.csv\"\n",
    "\n",
    "#read file\n",
    "sourcedata = pd.read_csv(path)\n",
    "\n",
    "sourcedata.head()"
   ]
  },
  {
   "cell_type": "code",
   "execution_count": 18,
   "metadata": {},
   "outputs": [],
   "source": [
    "#get unique indicators\n",
    "indicators_list = sourcedata[\"IndicatorName\"].unique()\n",
    "\n",
    "indicators_df = pd.DataFrame(indicators_list)\n",
    "\n",
    "indicators_df.to_csv('IndicatorsList.csv') "
   ]
  },
  {
   "cell_type": "code",
   "execution_count": null,
   "metadata": {},
   "outputs": [],
   "source": []
  }
 ]
}